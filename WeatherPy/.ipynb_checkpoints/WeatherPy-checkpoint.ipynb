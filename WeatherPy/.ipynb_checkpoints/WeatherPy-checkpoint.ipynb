{
 "cells": [
  {
   "cell_type": "markdown",
   "metadata": {},
   "source": [
    "# WeatherPy\n",
    "----\n",
    "\n",
    "#### Note\n",
    "* Instructions have been included for each segment. You do not have to follow them exactly, but they are included to help you think through the steps."
   ]
  },
  {
   "cell_type": "code",
   "execution_count": 1,
   "metadata": {
    "scrolled": true
   },
   "outputs": [],
   "source": [
    "# Dependencies and Setup\n",
    "import matplotlib.pyplot as plt\n",
    "import pandas as pd\n",
    "import numpy as np\n",
    "import requests\n",
    "import time\n",
    "from scipy.stats import linregress\n",
    "\n",
    "# Import API key\n",
    "from api_keys import weather_api_key\n",
    "\n",
    "# Incorporated citipy to determine city based on latitude and longitude\n",
    "from citipy import citipy\n",
    "\n",
    "# Output File (CSV)\n",
    "output_data_file = \"output_data/cities.csv\"\n",
    "\n",
    "# Range of latitudes and longitudes\n",
    "lat_range = (-90, 90)\n",
    "lng_range = (-180, 180)"
   ]
  },
  {
   "cell_type": "code",
   "execution_count": 2,
   "metadata": {},
   "outputs": [
    {
     "data": {
      "text/plain": [
       "620"
      ]
     },
     "execution_count": 2,
     "metadata": {},
     "output_type": "execute_result"
    }
   ],
   "source": [
    "## Generate Cities List\n",
    "\n",
    "lat_lngs = []\n",
    "cities = []\n",
    "\n",
    "# Create a set of random lat and lng combinations\n",
    "lats = np.random.uniform(low=-90.000, high=90.000, size=1500)\n",
    "lngs = np.random.uniform(low=-180.000, high=180.000, size=1500)\n",
    "lat_lngs = zip(lats, lngs)\n",
    "\n",
    "# Identify nearest city for each lat, lng combination\n",
    "for lat_lng in lat_lngs:\n",
    "    city = citipy.nearest_city(lat_lng[0], lat_lng[1]).city_name\n",
    "    \n",
    "    # If the city is unique, then add it to a our cities list\n",
    "    if city not in cities:\n",
    "        cities.append(city)\n",
    "\n",
    "# Print the city count to confirm sufficient count\n",
    "len(cities)"
   ]
  },
  {
   "cell_type": "code",
   "execution_count": 3,
   "metadata": {},
   "outputs": [
    {
     "data": {
      "text/plain": [
       "591"
      ]
     },
     "execution_count": 3,
     "metadata": {},
     "output_type": "execute_result"
    }
   ],
   "source": [
    "# List for holding lat_lngs and cities\n",
    "lat_lngs = []\n",
    "cities = []\n",
    "\n",
    "# Create a set of random lat and lng combinations\n",
    "lats = np.random.uniform(lat_range[0], lat_range[1], size=1500)\n",
    "lngs = np.random.uniform(lng_range[0], lng_range[1], size=1500)\n",
    "lat_lngs = zip(lats, lngs)\n",
    "\n",
    "# Identify nearest city for each lat, lng combination\n",
    "for lat_lng in lat_lngs:\n",
    "    city = citipy.nearest_city(lat_lng[0], lat_lng[1]).city_name\n",
    "    \n",
    "    # If the city is unique, then add it to a our cities list\n",
    "    if city not in cities:\n",
    "        cities.append(city)\n",
    "\n",
    "# Print the city count to confirm sufficient count\n",
    "len(cities)"
   ]
  },
  {
   "cell_type": "code",
   "execution_count": null,
   "metadata": {},
   "outputs": [],
   "source": []
  },
  {
   "cell_type": "markdown",
   "metadata": {},
   "source": [
    "### Perform API Calls\n",
    "* Perform a weather check on each city using a series of successive API calls.\n",
    "* Include a print log of each city as it'sbeing processed (with the city number and city name).\n"
   ]
  },
  {
   "cell_type": "code",
   "execution_count": 4,
   "metadata": {
    "scrolled": true
   },
   "outputs": [
    {
     "name": "stdout",
     "output_type": "stream",
     "text": [
      "Processing Record 1 of Set 1 : khandbari\n",
      "Processing Record 2 of Set 1 : rikitea\n",
      "Processing Record 3 of Set 1 : yellowknife\n",
      "Processing Record 4 of Set 1 : georgetown\n",
      "Processing Record 5 of Set 1 : nanortalik\n",
      "Processing Record 6 of Set 1 : ushuaia\n",
      "Processing Record 7 of Set 1 : new norfolk\n",
      "City not found. Skipping...\n",
      "Processing Record 8 of Set 1 : ostrovnoy\n",
      "Processing Record 9 of Set 1 : bethel\n",
      "Processing Record 10 of Set 1 : hobart\n",
      "Processing Record 11 of Set 1 : kapaa\n",
      "Processing Record 12 of Set 1 : amga\n",
      "Processing Record 13 of Set 1 : port alfred\n",
      "Processing Record 14 of Set 1 : birao\n",
      "Processing Record 15 of Set 1 : lorengau\n",
      "Processing Record 16 of Set 1 : butaritari\n",
      "City not found. Skipping...\n",
      "Processing Record 17 of Set 1 : khatanga\n",
      "Processing Record 18 of Set 1 : vaini\n",
      "Processing Record 19 of Set 1 : hilo\n",
      "Processing Record 20 of Set 1 : mahendranagar\n",
      "Processing Record 21 of Set 1 : berlevag\n",
      "Processing Record 22 of Set 1 : cape town\n",
      "Processing Record 23 of Set 1 : faanui\n",
      "Processing Record 24 of Set 1 : eslov\n",
      "Processing Record 25 of Set 1 : sistranda\n",
      "Processing Record 26 of Set 1 : babstovo\n",
      "Processing Record 27 of Set 1 : nishihara\n",
      "Processing Record 28 of Set 1 : porto novo\n",
      "Processing Record 29 of Set 1 : honningsvag\n",
      "Processing Record 30 of Set 1 : williamsport\n",
      "Processing Record 31 of Set 1 : meulaboh\n",
      "Processing Record 32 of Set 1 : kavaratti\n",
      "City not found. Skipping...\n",
      "Processing Record 33 of Set 1 : tuktoyaktuk\n",
      "Processing Record 34 of Set 1 : te anau\n",
      "Processing Record 35 of Set 1 : provideniya\n",
      "Processing Record 36 of Set 1 : dzerzhinsk\n",
      "Processing Record 37 of Set 1 : waddan\n",
      "Processing Record 38 of Set 1 : pleasant hill\n",
      "Processing Record 39 of Set 1 : cherskiy\n",
      "Processing Record 40 of Set 1 : severo-kurilsk\n",
      "Processing Record 41 of Set 1 : tres marias\n",
      "Processing Record 42 of Set 1 : khudumelapye\n",
      "Processing Record 43 of Set 1 : dali\n",
      "Processing Record 44 of Set 1 : la paz\n",
      "Processing Record 45 of Set 1 : macroom\n",
      "Processing Record 46 of Set 1 : bud\n",
      "Processing Record 47 of Set 1 : hami\n",
      "Processing Record 48 of Set 1 : bagotville\n",
      "Processing Record 49 of Set 1 : vilhena\n",
      "Processing Record 50 of Set 1 : svolvaer\n",
      "Processing Record 0 of Set 2 : margate\n",
      "Processing Record 1 of Set 2 : torbay\n",
      "Processing Record 2 of Set 2 : bredasdorp\n",
      "City not found. Skipping...\n",
      "City not found. Skipping...\n",
      "City not found. Skipping...\n",
      "Processing Record 3 of Set 2 : punta arenas\n",
      "Processing Record 4 of Set 2 : mataura\n",
      "Processing Record 5 of Set 2 : busselton\n",
      "Processing Record 6 of Set 2 : bluff\n",
      "Processing Record 7 of Set 2 : sao jose da coroa grande\n",
      "Processing Record 8 of Set 2 : sao filipe\n",
      "City not found. Skipping...\n",
      "Processing Record 9 of Set 2 : coquimbo\n",
      "Processing Record 10 of Set 2 : magadan\n",
      "Processing Record 11 of Set 2 : ribeira grande\n",
      "Processing Record 12 of Set 2 : pevek\n",
      "Processing Record 13 of Set 2 : hervey bay\n",
      "Processing Record 14 of Set 2 : portland\n",
      "Processing Record 15 of Set 2 : laguna\n",
      "Processing Record 16 of Set 2 : kodiak\n",
      "Processing Record 17 of Set 2 : klyuchevskiy\n",
      "Processing Record 18 of Set 2 : waipawa\n",
      "Processing Record 19 of Set 2 : carnarvon\n",
      "Processing Record 20 of Set 2 : alice springs\n",
      "Processing Record 21 of Set 2 : beloha\n",
      "Processing Record 22 of Set 2 : upernavik\n",
      "Processing Record 23 of Set 2 : albany\n",
      "Processing Record 24 of Set 2 : brewster\n",
      "Processing Record 25 of Set 2 : dolores\n",
      "Processing Record 26 of Set 2 : purranque\n",
      "Processing Record 27 of Set 2 : jamestown\n",
      "Processing Record 28 of Set 2 : hermanus\n",
      "Processing Record 29 of Set 2 : avarua\n",
      "Processing Record 30 of Set 2 : mount gambier\n",
      "Processing Record 31 of Set 2 : tres arroyos\n",
      "Processing Record 32 of Set 2 : svetlyy\n",
      "Processing Record 33 of Set 2 : makakilo city\n",
      "Processing Record 34 of Set 2 : atbasar\n",
      "Processing Record 35 of Set 2 : mwinilunga\n",
      "Processing Record 36 of Set 2 : saldanha\n",
      "City not found. Skipping...\n",
      "Processing Record 37 of Set 2 : puerto ayora\n",
      "Processing Record 38 of Set 2 : la ronge\n",
      "Processing Record 39 of Set 2 : avera\n",
      "Processing Record 40 of Set 2 : san patricio\n",
      "Processing Record 41 of Set 2 : castro\n",
      "Processing Record 42 of Set 2 : labuhan\n",
      "Processing Record 43 of Set 2 : lagoa\n",
      "Processing Record 44 of Set 2 : zarechnyy\n",
      "Processing Record 45 of Set 2 : moerai\n",
      "Processing Record 46 of Set 2 : port blair\n",
      "Processing Record 47 of Set 2 : tasiilaq\n",
      "Processing Record 48 of Set 2 : codrington\n",
      "Processing Record 49 of Set 2 : atuona\n",
      "Processing Record 50 of Set 2 : saint-philippe\n",
      "Processing Record 0 of Set 3 : goure\n",
      "Processing Record 1 of Set 3 : saint george\n",
      "Processing Record 2 of Set 3 : nikolskoye\n",
      "City not found. Skipping...\n",
      "Processing Record 3 of Set 3 : deep river\n",
      "Processing Record 4 of Set 3 : bushehr\n",
      "City not found. Skipping...\n",
      "Processing Record 5 of Set 3 : boguchany\n",
      "Processing Record 6 of Set 3 : kazerun\n",
      "Processing Record 7 of Set 3 : san pedro\n",
      "Processing Record 8 of Set 3 : bayburt\n",
      "Processing Record 9 of Set 3 : victoria\n",
      "Processing Record 10 of Set 3 : ningxiang\n",
      "Processing Record 11 of Set 3 : isangel\n",
      "City not found. Skipping...\n",
      "Processing Record 12 of Set 3 : cidreira\n",
      "Processing Record 13 of Set 3 : dikson\n",
      "Processing Record 14 of Set 3 : port elizabeth\n",
      "Processing Record 15 of Set 3 : pavino\n",
      "Processing Record 16 of Set 3 : sobolevo\n",
      "Processing Record 17 of Set 3 : fukuma\n",
      "Processing Record 18 of Set 3 : kassala\n",
      "Processing Record 19 of Set 3 : zangakatun\n",
      "Processing Record 20 of Set 3 : nanyang\n",
      "Processing Record 21 of Set 3 : vanimo\n",
      "Processing Record 22 of Set 3 : bunbury\n",
      "Processing Record 23 of Set 3 : barrow\n",
      "Processing Record 24 of Set 3 : klaksvik\n",
      "Processing Record 25 of Set 3 : okhotsk\n",
      "Processing Record 26 of Set 3 : richards bay\n",
      "Processing Record 27 of Set 3 : gizycko\n",
      "Processing Record 28 of Set 3 : chokurdakh\n",
      "Processing Record 29 of Set 3 : nome\n",
      "Processing Record 30 of Set 3 : clyde river\n",
      "Processing Record 31 of Set 3 : arraial do cabo\n",
      "Processing Record 32 of Set 3 : namatanai\n",
      "Processing Record 33 of Set 3 : natal\n",
      "Processing Record 34 of Set 3 : livingston\n",
      "City not found. Skipping...\n",
      "Processing Record 35 of Set 3 : sitka\n",
      "Processing Record 36 of Set 3 : beringovskiy\n",
      "Processing Record 37 of Set 3 : shache\n",
      "Processing Record 38 of Set 3 : biasca\n",
      "Processing Record 39 of Set 3 : tiksi\n",
      "City not found. Skipping...\n",
      "Processing Record 40 of Set 3 : vuktyl\n",
      "Processing Record 41 of Set 3 : anadyr\n",
      "Processing Record 42 of Set 3 : usinsk\n",
      "Processing Record 43 of Set 3 : chuy\n",
      "Processing Record 44 of Set 3 : port-gentil\n",
      "Processing Record 45 of Set 3 : kainantu\n",
      "Processing Record 46 of Set 3 : yulara\n",
      "City not found. Skipping...\n",
      "Processing Record 47 of Set 3 : hithadhoo\n",
      "Processing Record 48 of Set 3 : east london\n",
      "City not found. Skipping...\n",
      "Processing Record 49 of Set 3 : sterling\n",
      "Processing Record 50 of Set 3 : san cristobal\n",
      "Processing Record 0 of Set 4 : koungou\n",
      "Processing Record 1 of Set 4 : maymyo\n",
      "Processing Record 2 of Set 4 : sompeta\n",
      "Processing Record 3 of Set 4 : zhigansk\n",
      "Processing Record 4 of Set 4 : tuatapere\n",
      "Processing Record 5 of Set 4 : baghdad\n",
      "Processing Record 6 of Set 4 : airai\n",
      "Processing Record 7 of Set 4 : pisco\n",
      "Processing Record 8 of Set 4 : saskylakh\n",
      "Processing Record 9 of Set 4 : malinovoye ozero\n",
      "Processing Record 10 of Set 4 : hovd\n",
      "Processing Record 11 of Set 4 : clovis\n",
      "Processing Record 12 of Set 4 : esperance\n",
      "Processing Record 13 of Set 4 : rio gallegos\n",
      "Processing Record 14 of Set 4 : cabo san lucas\n",
      "Processing Record 15 of Set 4 : kavieng\n",
      "Processing Record 16 of Set 4 : tual\n",
      "Processing Record 17 of Set 4 : shimoda\n",
      "Processing Record 18 of Set 4 : mahebourg\n",
      "Processing Record 19 of Set 4 : atambua\n",
      "Processing Record 20 of Set 4 : auki\n",
      "Processing Record 21 of Set 4 : cherepovets\n",
      "Processing Record 22 of Set 4 : anshun\n",
      "Processing Record 23 of Set 4 : nemuro\n",
      "City not found. Skipping...\n",
      "Processing Record 24 of Set 4 : havre-saint-pierre\n",
      "Processing Record 25 of Set 4 : marfino\n",
      "Processing Record 26 of Set 4 : cayenne\n",
      "Processing Record 27 of Set 4 : geraldton\n",
      "Processing Record 28 of Set 4 : flin flon\n",
      "Processing Record 29 of Set 4 : ulaangom\n",
      "Processing Record 30 of Set 4 : skjervoy\n",
      "Processing Record 31 of Set 4 : sibolga\n",
      "Processing Record 32 of Set 4 : lavrentiya\n",
      "Processing Record 33 of Set 4 : aden\n",
      "Processing Record 34 of Set 4 : naberera\n",
      "Processing Record 35 of Set 4 : thompson\n",
      "City not found. Skipping...\n"
     ]
    },
    {
     "name": "stdout",
     "output_type": "stream",
     "text": [
      "Processing Record 36 of Set 4 : chumikan\n",
      "Processing Record 37 of Set 4 : luderitz\n",
      "City not found. Skipping...\n",
      "Processing Record 38 of Set 4 : alyangula\n",
      "Processing Record 39 of Set 4 : talnakh\n",
      "Processing Record 40 of Set 4 : kieta\n",
      "Processing Record 41 of Set 4 : sisimiut\n",
      "Processing Record 42 of Set 4 : iskateley\n",
      "Processing Record 43 of Set 4 : conde\n",
      "Processing Record 44 of Set 4 : cooma\n",
      "Processing Record 45 of Set 4 : lukovetskiy\n",
      "Processing Record 46 of Set 4 : esfahan\n",
      "Processing Record 47 of Set 4 : vung tau\n",
      "Processing Record 48 of Set 4 : qasigiannguit\n",
      "Processing Record 49 of Set 4 : guanica\n",
      "Processing Record 50 of Set 4 : itarema\n",
      "Processing Record 0 of Set 5 : bengkulu\n",
      "Processing Record 1 of Set 5 : chute-aux-outardes\n",
      "Processing Record 2 of Set 5 : nelson bay\n",
      "Processing Record 3 of Set 5 : la plata\n",
      "Processing Record 4 of Set 5 : mar del plata\n",
      "Processing Record 5 of Set 5 : narsaq\n",
      "Processing Record 6 of Set 5 : harnosand\n",
      "Processing Record 7 of Set 5 : qaanaaq\n",
      "Processing Record 8 of Set 5 : kasempa\n",
      "Processing Record 9 of Set 5 : ponta do sol\n",
      "Processing Record 10 of Set 5 : west bay\n",
      "Processing Record 11 of Set 5 : santa cruz\n",
      "Processing Record 12 of Set 5 : gizo\n",
      "Processing Record 13 of Set 5 : lodja\n",
      "Processing Record 14 of Set 5 : necochea\n",
      "Processing Record 15 of Set 5 : srednekolymsk\n",
      "City not found. Skipping...\n",
      "Processing Record 16 of Set 5 : ketchikan\n",
      "Processing Record 17 of Set 5 : imeni poliny osipenko\n",
      "Processing Record 18 of Set 5 : mackay\n",
      "Processing Record 19 of Set 5 : kuvandyk\n",
      "Processing Record 20 of Set 5 : vila velha\n",
      "Processing Record 21 of Set 5 : fare\n",
      "Processing Record 22 of Set 5 : bundaberg\n",
      "Processing Record 23 of Set 5 : indian head\n",
      "Processing Record 24 of Set 5 : rio grande\n",
      "Processing Record 25 of Set 5 : souillac\n",
      "Processing Record 26 of Set 5 : iracoubo\n",
      "Processing Record 27 of Set 5 : ulagan\n",
      "Processing Record 28 of Set 5 : tessalit\n",
      "Processing Record 29 of Set 5 : igrim\n",
      "Processing Record 30 of Set 5 : san jose del potrero\n",
      "Processing Record 31 of Set 5 : santa maria\n",
      "Processing Record 32 of Set 5 : labrea\n",
      "Processing Record 33 of Set 5 : trinidad\n",
      "Processing Record 34 of Set 5 : mayumba\n",
      "Processing Record 35 of Set 5 : fort-shevchenko\n",
      "Processing Record 36 of Set 5 : iqaluit\n",
      "Processing Record 37 of Set 5 : saryg-sep\n",
      "Processing Record 38 of Set 5 : kropotkin\n",
      "Processing Record 39 of Set 5 : cua\n",
      "Processing Record 40 of Set 5 : constitucion\n",
      "Processing Record 41 of Set 5 : college\n",
      "Processing Record 42 of Set 5 : labuan\n",
      "City not found. Skipping...\n",
      "Processing Record 43 of Set 5 : dingle\n",
      "Processing Record 44 of Set 5 : upata\n",
      "Processing Record 45 of Set 5 : quelimane\n",
      "City not found. Skipping...\n",
      "Processing Record 46 of Set 5 : nipawin\n",
      "Processing Record 47 of Set 5 : rosarito\n",
      "Processing Record 48 of Set 5 : ancud\n",
      "Processing Record 49 of Set 5 : waingapu\n",
      "Processing Record 50 of Set 5 : miandrivazo\n",
      "Processing Record 0 of Set 6 : takoradi\n",
      "Processing Record 1 of Set 6 : ust-kuyga\n",
      "City not found. Skipping...\n",
      "Processing Record 2 of Set 6 : nong khai\n",
      "Processing Record 3 of Set 6 : cabinda\n",
      "Processing Record 4 of Set 6 : cascais\n",
      "Processing Record 5 of Set 6 : kanniyakumari\n",
      "Processing Record 6 of Set 6 : saint-prosper\n",
      "Processing Record 7 of Set 6 : betafo\n",
      "Processing Record 8 of Set 6 : raudeberg\n",
      "Processing Record 9 of Set 6 : george town\n",
      "Processing Record 10 of Set 6 : huntsville\n",
      "Processing Record 11 of Set 6 : sakakah\n",
      "Processing Record 12 of Set 6 : banda aceh\n",
      "Processing Record 13 of Set 6 : pilot butte\n",
      "Processing Record 14 of Set 6 : samarai\n",
      "City not found. Skipping...\n",
      "Processing Record 15 of Set 6 : mimongo\n",
      "Processing Record 16 of Set 6 : aguimes\n",
      "Processing Record 17 of Set 6 : leningradskiy\n",
      "Processing Record 18 of Set 6 : zwedru\n",
      "Processing Record 19 of Set 6 : riyadh\n",
      "Processing Record 20 of Set 6 : sinnai\n",
      "Processing Record 21 of Set 6 : panzhihua\n",
      "Processing Record 22 of Set 6 : salalah\n",
      "Processing Record 23 of Set 6 : hobyo\n",
      "Processing Record 24 of Set 6 : marrakesh\n",
      "Processing Record 25 of Set 6 : taldan\n",
      "Processing Record 26 of Set 6 : fortuna\n",
      "Processing Record 27 of Set 6 : salekhard\n",
      "Processing Record 28 of Set 6 : norman wells\n",
      "Processing Record 29 of Set 6 : naica\n",
      "Processing Record 30 of Set 6 : yongan\n",
      "Processing Record 31 of Set 6 : husavik\n",
      "Processing Record 32 of Set 6 : guerrero negro\n",
      "Processing Record 33 of Set 6 : humaita\n",
      "Processing Record 34 of Set 6 : mantua\n",
      "Processing Record 35 of Set 6 : odweyne\n",
      "Processing Record 36 of Set 6 : saint-augustin\n",
      "Processing Record 37 of Set 6 : sayyan\n",
      "Processing Record 38 of Set 6 : tabuk\n",
      "Processing Record 39 of Set 6 : hofn\n",
      "Processing Record 40 of Set 6 : roseburg\n",
      "Processing Record 41 of Set 6 : ondjiva\n",
      "Processing Record 42 of Set 6 : havelock\n",
      "Processing Record 43 of Set 6 : jaque\n",
      "Processing Record 44 of Set 6 : moa\n",
      "Processing Record 45 of Set 6 : san agustin\n",
      "Processing Record 46 of Set 6 : kollam\n",
      "Processing Record 47 of Set 6 : ibitinga\n",
      "Processing Record 48 of Set 6 : rivadavia\n",
      "Processing Record 49 of Set 6 : yerbogachen\n",
      "Processing Record 50 of Set 6 : puerto escondido\n",
      "Processing Record 0 of Set 7 : muniz freire\n",
      "Processing Record 1 of Set 7 : bambous virieux\n",
      "Processing Record 2 of Set 7 : itarare\n",
      "Processing Record 3 of Set 7 : ulfborg\n",
      "Processing Record 4 of Set 7 : hasaki\n",
      "Processing Record 5 of Set 7 : hosanagara\n",
      "Processing Record 6 of Set 7 : biak\n",
      "Processing Record 7 of Set 7 : kuching\n",
      "Processing Record 8 of Set 7 : kudahuvadhoo\n",
      "Processing Record 9 of Set 7 : cabedelo\n",
      "Processing Record 10 of Set 7 : lebu\n",
      "Processing Record 11 of Set 7 : kristiansund\n",
      "Processing Record 12 of Set 7 : maxixe\n",
      "Processing Record 13 of Set 7 : saint-leu\n",
      "Processing Record 14 of Set 7 : san policarpo\n",
      "Processing Record 15 of Set 7 : jardim\n",
      "Processing Record 16 of Set 7 : cadolzburg\n",
      "Processing Record 17 of Set 7 : chara\n",
      "Processing Record 18 of Set 7 : namibe\n",
      "Processing Record 19 of Set 7 : at-bashi\n",
      "Processing Record 20 of Set 7 : katangli\n",
      "Processing Record 21 of Set 7 : longonjo\n",
      "Processing Record 22 of Set 7 : thap khlo\n",
      "Processing Record 23 of Set 7 : sambava\n",
      "Processing Record 24 of Set 7 : paris\n",
      "Processing Record 25 of Set 7 : jiuquan\n",
      "Processing Record 26 of Set 7 : buala\n",
      "City not found. Skipping...\n",
      "Processing Record 27 of Set 7 : pauini\n",
      "Processing Record 28 of Set 7 : kita\n",
      "Processing Record 29 of Set 7 : zhanaozen\n",
      "Processing Record 30 of Set 7 : saint-georges\n",
      "Processing Record 31 of Set 7 : afsin\n",
      "City not found. Skipping...\n",
      "Processing Record 32 of Set 7 : santa rosa\n",
      "Processing Record 33 of Set 7 : daru\n",
      "Processing Record 34 of Set 7 : hamilton\n",
      "Processing Record 35 of Set 7 : rawson\n",
      "Processing Record 36 of Set 7 : bonoua\n",
      "Processing Record 37 of Set 7 : coahuayana\n",
      "Processing Record 38 of Set 7 : bakchar\n",
      "Processing Record 39 of Set 7 : kristiinankaupunki\n",
      "City not found. Skipping...\n",
      "Processing Record 40 of Set 7 : kaspiysk\n",
      "Processing Record 41 of Set 7 : sao joao da barra\n",
      "Processing Record 42 of Set 7 : sychevka\n",
      "Processing Record 43 of Set 7 : san jose\n",
      "Processing Record 44 of Set 7 : dublin\n",
      "Processing Record 45 of Set 7 : kaitangata\n",
      "City not found. Skipping...\n",
      "Processing Record 46 of Set 7 : stromness\n",
      "Processing Record 47 of Set 7 : la orilla\n",
      "Processing Record 48 of Set 7 : kedougou\n",
      "Processing Record 49 of Set 7 : huarmey\n",
      "Processing Record 50 of Set 7 : san ignacio\n",
      "Processing Record 0 of Set 8 : flinders\n",
      "Processing Record 1 of Set 8 : turukhansk\n",
      "City not found. Skipping...\n",
      "Processing Record 2 of Set 8 : bay roberts\n",
      "Processing Record 3 of Set 8 : marzuq\n",
      "Processing Record 4 of Set 8 : marshall\n",
      "Processing Record 5 of Set 8 : langwedel\n",
      "Processing Record 6 of Set 8 : batticaloa\n",
      "City not found. Skipping...\n",
      "Processing Record 7 of Set 8 : gravdal\n",
      "Processing Record 8 of Set 8 : lima\n",
      "Processing Record 9 of Set 8 : lompoc\n",
      "Processing Record 10 of Set 8 : konosha\n",
      "Processing Record 11 of Set 8 : ossora\n",
      "Processing Record 12 of Set 8 : tiznit\n",
      "Processing Record 13 of Set 8 : khovu-aksy\n",
      "Processing Record 14 of Set 8 : kendari\n",
      "Processing Record 15 of Set 8 : pangnirtung\n",
      "Processing Record 16 of Set 8 : tautira\n",
      "Processing Record 17 of Set 8 : komsomolskiy\n",
      "Processing Record 18 of Set 8 : falmouth\n",
      "Processing Record 19 of Set 8 : sola\n",
      "Processing Record 20 of Set 8 : bandarbeyla\n",
      "Processing Record 21 of Set 8 : pizarro\n",
      "Processing Record 22 of Set 8 : mahuva\n",
      "Processing Record 23 of Set 8 : bathsheba\n"
     ]
    },
    {
     "name": "stdout",
     "output_type": "stream",
     "text": [
      "Processing Record 24 of Set 8 : sao miguel do araguaia\n",
      "Processing Record 25 of Set 8 : caluire-et-cuire\n",
      "Processing Record 26 of Set 8 : port said\n",
      "Processing Record 27 of Set 8 : naantali\n",
      "Processing Record 28 of Set 8 : bilibino\n",
      "Processing Record 29 of Set 8 : caraballeda\n",
      "Processing Record 30 of Set 8 : praia\n",
      "City not found. Skipping...\n",
      "Processing Record 31 of Set 8 : ankazoabo\n",
      "Processing Record 32 of Set 8 : chabahar\n",
      "Processing Record 33 of Set 8 : doume\n",
      "City not found. Skipping...\n",
      "Processing Record 34 of Set 8 : ajdabiya\n",
      "Processing Record 35 of Set 8 : port pirie\n",
      "Processing Record 36 of Set 8 : mehamn\n",
      "Processing Record 37 of Set 8 : gisborne\n",
      "Processing Record 38 of Set 8 : tamale\n",
      "Processing Record 39 of Set 8 : prince rupert\n",
      "Processing Record 40 of Set 8 : purpe\n",
      "Processing Record 41 of Set 8 : kawalu\n",
      "Processing Record 42 of Set 8 : kamenka\n",
      "Processing Record 43 of Set 8 : baruun-urt\n",
      "Processing Record 44 of Set 8 : damavand\n",
      "Processing Record 45 of Set 8 : olafsvik\n",
      "Processing Record 46 of Set 8 : melilli\n",
      "Processing Record 47 of Set 8 : orocue\n",
      "Processing Record 48 of Set 8 : yucca valley\n",
      "Processing Record 49 of Set 8 : rochefort\n",
      "City not found. Skipping...\n",
      "Processing Record 50 of Set 8 : fuerte olimpo\n",
      "City not found. Skipping...\n",
      "Processing Record 0 of Set 9 : maceio\n",
      "Processing Record 1 of Set 9 : haines junction\n",
      "Processing Record 2 of Set 9 : birjand\n",
      "Processing Record 3 of Set 9 : caluquembe\n",
      "Processing Record 4 of Set 9 : manta\n",
      "Processing Record 5 of Set 9 : jasper\n",
      "Processing Record 6 of Set 9 : inuvik\n",
      "Processing Record 7 of Set 9 : marawi\n",
      "City not found. Skipping...\n",
      "Processing Record 8 of Set 9 : madaoua\n",
      "Processing Record 9 of Set 9 : majene\n",
      "Processing Record 10 of Set 9 : strezhevoy\n",
      "Processing Record 11 of Set 9 : kruisfontein\n",
      "Processing Record 12 of Set 9 : san juan de los lagos\n",
      "Processing Record 13 of Set 9 : orel-izumrud\n",
      "City not found. Skipping...\n",
      "Processing Record 14 of Set 9 : juegang\n",
      "Processing Record 15 of Set 9 : naryan-mar\n",
      "Processing Record 16 of Set 9 : visby\n",
      "Processing Record 17 of Set 9 : lubyany\n",
      "Processing Record 18 of Set 9 : vao\n",
      "Processing Record 19 of Set 9 : buraydah\n",
      "Processing Record 20 of Set 9 : kidal\n",
      "Processing Record 21 of Set 9 : eureka\n",
      "Processing Record 22 of Set 9 : severodvinsk\n",
      "Processing Record 23 of Set 9 : touros\n",
      "Processing Record 24 of Set 9 : fort nelson\n",
      "Processing Record 25 of Set 9 : alenquer\n",
      "Processing Record 26 of Set 9 : saint anthony\n",
      "Processing Record 27 of Set 9 : tilichiki\n",
      "Processing Record 28 of Set 9 : zhangjiakou\n",
      "Processing Record 29 of Set 9 : kualakapuas\n",
      "Processing Record 30 of Set 9 : axioupoli\n",
      "Processing Record 31 of Set 9 : padang\n",
      "Processing Record 32 of Set 9 : barra patuca\n",
      "Processing Record 33 of Set 9 : vila do maio\n",
      "Processing Record 34 of Set 9 : tulum\n",
      "City not found. Skipping...\n",
      "Processing Record 35 of Set 9 : tirumullaivasal\n",
      "Processing Record 36 of Set 9 : dunedin\n",
      "Processing Record 37 of Set 9 : mkokotoni\n",
      "Processing Record 38 of Set 9 : leshukonskoye\n",
      "Processing Record 39 of Set 9 : whitehorse\n",
      "Processing Record 40 of Set 9 : mahon\n",
      "Processing Record 41 of Set 9 : briancon\n",
      "Processing Record 42 of Set 9 : garissa\n",
      "Processing Record 43 of Set 9 : fairfield\n",
      "Processing Record 44 of Set 9 : pau brasil\n",
      "Processing Record 45 of Set 9 : palkino\n",
      "Processing Record 46 of Set 9 : presidencia roque saenz pena\n",
      "Processing Record 47 of Set 9 : faya\n",
      "Processing Record 48 of Set 9 : bahia blanca\n",
      "Processing Record 49 of Set 9 : marystown\n",
      "Processing Record 50 of Set 9 : donskoye\n",
      "Processing Record 0 of Set 10 : waitati\n",
      "Processing Record 1 of Set 10 : port lincoln\n",
      "Processing Record 2 of Set 10 : grande prairie\n",
      "Processing Record 3 of Set 10 : los alamos\n",
      "City not found. Skipping...\n",
      "Processing Record 4 of Set 10 : ukiah\n",
      "City not found. Skipping...\n",
      "Processing Record 5 of Set 10 : aasiaat\n",
      "Processing Record 6 of Set 10 : aquiraz\n",
      "Processing Record 7 of Set 10 : bamako\n",
      "Processing Record 8 of Set 10 : tougue\n",
      "Processing Record 9 of Set 10 : goderich\n",
      "Processing Record 10 of Set 10 : mikropolis\n",
      "Processing Record 11 of Set 10 : muisne\n",
      "Processing Record 12 of Set 10 : puerto del rosario\n",
      "Processing Record 13 of Set 10 : toamasina\n",
      "Processing Record 14 of Set 10 : biggar\n",
      "Processing Record 15 of Set 10 : praya\n",
      "Processing Record 16 of Set 10 : neiafu\n",
      "Processing Record 17 of Set 10 : katsuura\n",
      "City not found. Skipping...\n",
      "Processing Record 18 of Set 10 : gimli\n",
      "Processing Record 19 of Set 10 : pecos\n",
      "Processing Record 20 of Set 10 : lovozero\n",
      "Processing Record 21 of Set 10 : nova olimpia\n",
      "City not found. Skipping...\n",
      "Processing Record 22 of Set 10 : poso\n",
      "Processing Record 23 of Set 10 : lekoni\n",
      "Processing Record 24 of Set 10 : aja\n",
      "Processing Record 25 of Set 10 : guthrie\n",
      "Processing Record 26 of Set 10 : bam\n",
      "Processing Record 27 of Set 10 : havoysund\n",
      "Processing Record 28 of Set 10 : bar harbor\n",
      "Processing Record 29 of Set 10 : mercedes\n",
      "Processing Record 30 of Set 10 : ariquemes\n",
      "Processing Record 31 of Set 10 : broome\n",
      "City not found. Skipping...\n",
      "Processing Record 32 of Set 10 : talcahuano\n",
      "City not found. Skipping...\n",
      "Processing Record 33 of Set 10 : pedasi\n",
      "Processing Record 34 of Set 10 : kokstad\n",
      "Processing Record 35 of Set 10 : peterhead\n",
      "Processing Record 36 of Set 10 : obo\n",
      "Processing Record 37 of Set 10 : los llanos de aridane\n",
      "Processing Record 38 of Set 10 : arkul\n",
      "Processing Record 39 of Set 10 : mecca\n",
      "Processing Record 40 of Set 10 : abha\n",
      "Processing Record 41 of Set 10 : bukama\n",
      "Processing Record 42 of Set 10 : antsirabe\n",
      "Processing Record 43 of Set 10 : laon\n",
      "Processing Record 44 of Set 10 : aracaju\n",
      "Processing Record 45 of Set 10 : honiara\n",
      "Processing Record 46 of Set 10 : ubinskoye\n",
      "Processing Record 47 of Set 10 : houston\n",
      "Processing Record 48 of Set 10 : biryusinsk\n",
      "Processing Record 49 of Set 10 : san quintin\n",
      "Processing Record 50 of Set 10 : nizwa\n",
      "City not found. Skipping...\n",
      "Processing Record 0 of Set 11 : mlonggo\n",
      "Processing Record 1 of Set 11 : qinhuangdao\n",
      "Processing Record 2 of Set 11 : saint-francois\n",
      "Processing Record 3 of Set 11 : altus\n",
      "Processing Record 4 of Set 11 : chinsali\n",
      "Processing Record 5 of Set 11 : carlsbad\n",
      "Processing Record 6 of Set 11 : saint-pierre\n",
      "Processing Record 7 of Set 11 : mattru\n",
      "Processing Record 8 of Set 11 : nshamba\n",
      "Processing Record 9 of Set 11 : dalbandin\n",
      "Processing Record 10 of Set 11 : carutapera\n",
      "City not found. Skipping...\n",
      "Processing Record 11 of Set 11 : broken hill\n",
      "Processing Record 12 of Set 11 : arlit\n",
      "Processing Record 13 of Set 11 : namwala\n",
      "City not found. Skipping...\n",
      "Processing Record 14 of Set 11 : foundiougne\n",
      "Processing Record 15 of Set 11 : porterville\n",
      "Processing Record 16 of Set 11 : coihaique\n",
      "Processing Record 17 of Set 11 : grindavik\n",
      "Processing Record 18 of Set 11 : itoman\n",
      "Processing Record 19 of Set 11 : camacha\n",
      "Processing Record 20 of Set 11 : dasoguz\n",
      "Processing Record 21 of Set 11 : casas grandes\n",
      "City not found. Skipping...\n",
      "Processing Record 22 of Set 11 : caronport\n",
      "Processing Record 23 of Set 11 : bairiki\n",
      "City not found. Skipping...\n",
      "Processing Record 24 of Set 11 : praia da vitoria\n",
      "Processing Record 25 of Set 11 : batagay-alyta\n",
      "Processing Record 26 of Set 11 : mata\n",
      "Processing Record 27 of Set 11 : tocopilla\n",
      "Processing Record 28 of Set 11 : ereymentau\n",
      "Processing Record 29 of Set 11 : ilulissat\n",
      "Processing Record 30 of Set 11 : kyzyl-suu\n",
      "City not found. Skipping...\n",
      "Processing Record 31 of Set 11 : soyo\n",
      "Processing Record 32 of Set 11 : rio tinto\n",
      "Processing Record 33 of Set 11 : salinopolis\n"
     ]
    }
   ],
   "source": [
    "city_name = []\n",
    "cloudiness_list = []\n",
    "country_list = []\n",
    "date_list = []\n",
    "humidity_list = []\n",
    "lat_list = []\n",
    "lng_list = []\n",
    "max_temp_list = []\n",
    "wind_speed_list = []\n",
    "index_counter = 0\n",
    "set_counter = 1\n",
    "\n",
    "\n",
    "base_url = \"http://api.openweathermap.org/data/2.5/weather?\"\n",
    "units = \"imperial\"\n",
    "query_url = f\"{base_url}appid={weather_api_key}&units={units}&q=\"\n",
    "\n",
    "\n",
    "# For each city name in cities list, do below things...\n",
    "for index, city in enumerate(cities, start = 1):\n",
    "    try:\n",
    "        response = requests.get(query_url + city).json()\n",
    "        city_name.append(response[\"name\"])\n",
    "        cloudiness_list.append(response[\"clouds\"][\"all\"])\n",
    "        country_list.append(response[\"sys\"][\"country\"])\n",
    "        date_list.append(response[\"dt\"])\n",
    "        humidity_list.append(response[\"main\"][\"humidity\"])\n",
    "        lat_list.append(response[\"coord\"][\"lat\"])\n",
    "        lng_list.append(response[\"coord\"][\"lon\"])\n",
    "        max_temp_list.append(response['main']['temp_max'])\n",
    "        wind_speed_list.append(response[\"wind\"][\"speed\"])\n",
    "        if index_counter > 49:\n",
    "            index_counter = 0\n",
    "            set_counter = set_counter + 1\n",
    "    \n",
    "        else:\n",
    "            index_counter = index_counter + 1\n",
    "            \n",
    "        print(f\"Processing Record {index_counter} of Set {set_counter} : {city}\") \n",
    "  \n",
    "    except(KeyError, IndexError):\n",
    "        print(\"City not found. Skipping...\")\n",
    "\n"
   ]
  },
  {
   "cell_type": "markdown",
   "metadata": {},
   "source": [
    "### Convert Raw Data to DataFrame\n",
    "* Export the city data into a .csv.\n",
    "* Display the DataFrame"
   ]
  },
  {
   "cell_type": "code",
   "execution_count": 5,
   "metadata": {},
   "outputs": [],
   "source": [
    "# Create a panda data frame using data retrieved\n",
    "weather_df = pd.DataFrame({ \n",
    "                \"City\" : city_name,\n",
    "                \"Cloudiness\" : cloudiness_list,\n",
    "                \"Country\" : country_list,\n",
    "                \"Date\" : date_list,\n",
    "                \"Humidity\" : humidity_list,\n",
    "                \"Lat\" : lat_list,\n",
    "                \"Lng\" : lng_list,\n",
    "                \"Max Temp\" : max_temp_list,\n",
    "                \"Wind Speed\" : wind_speed_list\n",
    "})\n"
   ]
  },
  {
   "cell_type": "code",
   "execution_count": 6,
   "metadata": {},
   "outputs": [
    {
     "data": {
      "text/plain": [
       "City          543\n",
       "Cloudiness    543\n",
       "Country       543\n",
       "Date          543\n",
       "Humidity      543\n",
       "Lat           543\n",
       "Lng           543\n",
       "Max Temp      543\n",
       "Wind Speed    543\n",
       "dtype: int64"
      ]
     },
     "execution_count": 6,
     "metadata": {},
     "output_type": "execute_result"
    }
   ],
   "source": [
    "# Count data\n",
    "weather_df.count()"
   ]
  },
  {
   "cell_type": "code",
   "execution_count": 7,
   "metadata": {},
   "outputs": [
    {
     "data": {
      "text/html": [
       "<div>\n",
       "<style scoped>\n",
       "    .dataframe tbody tr th:only-of-type {\n",
       "        vertical-align: middle;\n",
       "    }\n",
       "\n",
       "    .dataframe tbody tr th {\n",
       "        vertical-align: top;\n",
       "    }\n",
       "\n",
       "    .dataframe thead th {\n",
       "        text-align: right;\n",
       "    }\n",
       "</style>\n",
       "<table border=\"1\" class=\"dataframe\">\n",
       "  <thead>\n",
       "    <tr style=\"text-align: right;\">\n",
       "      <th></th>\n",
       "      <th>City</th>\n",
       "      <th>Cloudiness</th>\n",
       "      <th>Country</th>\n",
       "      <th>Date</th>\n",
       "      <th>Humidity</th>\n",
       "      <th>Lat</th>\n",
       "      <th>Lng</th>\n",
       "      <th>Max Temp</th>\n",
       "      <th>Wind Speed</th>\n",
       "    </tr>\n",
       "  </thead>\n",
       "  <tbody>\n",
       "    <tr>\n",
       "      <th>0</th>\n",
       "      <td>Khanbari</td>\n",
       "      <td>99</td>\n",
       "      <td>NP</td>\n",
       "      <td>1619928008</td>\n",
       "      <td>47</td>\n",
       "      <td>27.3747</td>\n",
       "      <td>87.2039</td>\n",
       "      <td>75.61</td>\n",
       "      <td>5.39</td>\n",
       "    </tr>\n",
       "    <tr>\n",
       "      <th>1</th>\n",
       "      <td>Rikitea</td>\n",
       "      <td>96</td>\n",
       "      <td>PF</td>\n",
       "      <td>1619928012</td>\n",
       "      <td>77</td>\n",
       "      <td>-23.1203</td>\n",
       "      <td>-134.9692</td>\n",
       "      <td>76.77</td>\n",
       "      <td>12.82</td>\n",
       "    </tr>\n",
       "    <tr>\n",
       "      <th>2</th>\n",
       "      <td>Yellowknife</td>\n",
       "      <td>1</td>\n",
       "      <td>CA</td>\n",
       "      <td>1619927782</td>\n",
       "      <td>55</td>\n",
       "      <td>62.4560</td>\n",
       "      <td>-114.3525</td>\n",
       "      <td>30.20</td>\n",
       "      <td>6.91</td>\n",
       "    </tr>\n",
       "    <tr>\n",
       "      <th>3</th>\n",
       "      <td>George Town</td>\n",
       "      <td>20</td>\n",
       "      <td>MY</td>\n",
       "      <td>1619927981</td>\n",
       "      <td>79</td>\n",
       "      <td>5.4112</td>\n",
       "      <td>100.3354</td>\n",
       "      <td>89.60</td>\n",
       "      <td>8.05</td>\n",
       "    </tr>\n",
       "    <tr>\n",
       "      <th>4</th>\n",
       "      <td>Nanortalik</td>\n",
       "      <td>85</td>\n",
       "      <td>GL</td>\n",
       "      <td>1619928014</td>\n",
       "      <td>67</td>\n",
       "      <td>60.1432</td>\n",
       "      <td>-45.2371</td>\n",
       "      <td>35.01</td>\n",
       "      <td>14.65</td>\n",
       "    </tr>\n",
       "    <tr>\n",
       "      <th>...</th>\n",
       "      <td>...</td>\n",
       "      <td>...</td>\n",
       "      <td>...</td>\n",
       "      <td>...</td>\n",
       "      <td>...</td>\n",
       "      <td>...</td>\n",
       "      <td>...</td>\n",
       "      <td>...</td>\n",
       "      <td>...</td>\n",
       "    </tr>\n",
       "    <tr>\n",
       "      <th>538</th>\n",
       "      <td>Ilulissat</td>\n",
       "      <td>75</td>\n",
       "      <td>GL</td>\n",
       "      <td>1619928219</td>\n",
       "      <td>48</td>\n",
       "      <td>69.2167</td>\n",
       "      <td>-51.1000</td>\n",
       "      <td>41.00</td>\n",
       "      <td>17.27</td>\n",
       "    </tr>\n",
       "    <tr>\n",
       "      <th>539</th>\n",
       "      <td>Kyzyl-Suu</td>\n",
       "      <td>99</td>\n",
       "      <td>KG</td>\n",
       "      <td>1619928251</td>\n",
       "      <td>70</td>\n",
       "      <td>42.3414</td>\n",
       "      <td>78.0056</td>\n",
       "      <td>54.16</td>\n",
       "      <td>3.80</td>\n",
       "    </tr>\n",
       "    <tr>\n",
       "      <th>540</th>\n",
       "      <td>Soyo</td>\n",
       "      <td>100</td>\n",
       "      <td>AO</td>\n",
       "      <td>1619928252</td>\n",
       "      <td>85</td>\n",
       "      <td>-6.1349</td>\n",
       "      <td>12.3689</td>\n",
       "      <td>77.22</td>\n",
       "      <td>5.99</td>\n",
       "    </tr>\n",
       "    <tr>\n",
       "      <th>541</th>\n",
       "      <td>Rio Tinto</td>\n",
       "      <td>0</td>\n",
       "      <td>PT</td>\n",
       "      <td>1619928252</td>\n",
       "      <td>87</td>\n",
       "      <td>41.1826</td>\n",
       "      <td>-8.5581</td>\n",
       "      <td>46.00</td>\n",
       "      <td>3.44</td>\n",
       "    </tr>\n",
       "    <tr>\n",
       "      <th>542</th>\n",
       "      <td>Salinópolis</td>\n",
       "      <td>90</td>\n",
       "      <td>BR</td>\n",
       "      <td>1619928252</td>\n",
       "      <td>89</td>\n",
       "      <td>-0.6136</td>\n",
       "      <td>-47.3561</td>\n",
       "      <td>76.14</td>\n",
       "      <td>6.15</td>\n",
       "    </tr>\n",
       "  </tbody>\n",
       "</table>\n",
       "<p>543 rows × 9 columns</p>\n",
       "</div>"
      ],
      "text/plain": [
       "            City  Cloudiness Country        Date  Humidity      Lat       Lng  \\\n",
       "0       Khanbari          99      NP  1619928008        47  27.3747   87.2039   \n",
       "1        Rikitea          96      PF  1619928012        77 -23.1203 -134.9692   \n",
       "2    Yellowknife           1      CA  1619927782        55  62.4560 -114.3525   \n",
       "3    George Town          20      MY  1619927981        79   5.4112  100.3354   \n",
       "4     Nanortalik          85      GL  1619928014        67  60.1432  -45.2371   \n",
       "..           ...         ...     ...         ...       ...      ...       ...   \n",
       "538    Ilulissat          75      GL  1619928219        48  69.2167  -51.1000   \n",
       "539    Kyzyl-Suu          99      KG  1619928251        70  42.3414   78.0056   \n",
       "540         Soyo         100      AO  1619928252        85  -6.1349   12.3689   \n",
       "541    Rio Tinto           0      PT  1619928252        87  41.1826   -8.5581   \n",
       "542  Salinópolis          90      BR  1619928252        89  -0.6136  -47.3561   \n",
       "\n",
       "     Max Temp  Wind Speed  \n",
       "0       75.61        5.39  \n",
       "1       76.77       12.82  \n",
       "2       30.20        6.91  \n",
       "3       89.60        8.05  \n",
       "4       35.01       14.65  \n",
       "..        ...         ...  \n",
       "538     41.00       17.27  \n",
       "539     54.16        3.80  \n",
       "540     77.22        5.99  \n",
       "541     46.00        3.44  \n",
       "542     76.14        6.15  \n",
       "\n",
       "[543 rows x 9 columns]"
      ]
     },
     "execution_count": 7,
     "metadata": {},
     "output_type": "execute_result"
    }
   ],
   "source": [
    "weather_df\n"
   ]
  },
  {
   "cell_type": "code",
   "execution_count": 8,
   "metadata": {
    "scrolled": true
   },
   "outputs": [],
   "source": [
    "weather_df.to_csv(\"output_data/cities.csv\", index=False)"
   ]
  },
  {
   "cell_type": "code",
   "execution_count": 9,
   "metadata": {},
   "outputs": [
    {
     "data": {
      "text/html": [
       "<div>\n",
       "<style scoped>\n",
       "    .dataframe tbody tr th:only-of-type {\n",
       "        vertical-align: middle;\n",
       "    }\n",
       "\n",
       "    .dataframe tbody tr th {\n",
       "        vertical-align: top;\n",
       "    }\n",
       "\n",
       "    .dataframe thead th {\n",
       "        text-align: right;\n",
       "    }\n",
       "</style>\n",
       "<table border=\"1\" class=\"dataframe\">\n",
       "  <thead>\n",
       "    <tr style=\"text-align: right;\">\n",
       "      <th></th>\n",
       "      <th>City</th>\n",
       "      <th>Cloudiness</th>\n",
       "      <th>Country</th>\n",
       "      <th>Date</th>\n",
       "      <th>Humidity</th>\n",
       "      <th>Lat</th>\n",
       "      <th>Lng</th>\n",
       "      <th>Max Temp</th>\n",
       "      <th>Wind Speed</th>\n",
       "    </tr>\n",
       "  </thead>\n",
       "  <tbody>\n",
       "    <tr>\n",
       "      <th>0</th>\n",
       "      <td>Khanbari</td>\n",
       "      <td>99</td>\n",
       "      <td>NP</td>\n",
       "      <td>1619928008</td>\n",
       "      <td>47</td>\n",
       "      <td>27.3747</td>\n",
       "      <td>87.2039</td>\n",
       "      <td>75.61</td>\n",
       "      <td>5.39</td>\n",
       "    </tr>\n",
       "    <tr>\n",
       "      <th>1</th>\n",
       "      <td>Rikitea</td>\n",
       "      <td>96</td>\n",
       "      <td>PF</td>\n",
       "      <td>1619928012</td>\n",
       "      <td>77</td>\n",
       "      <td>-23.1203</td>\n",
       "      <td>-134.9692</td>\n",
       "      <td>76.77</td>\n",
       "      <td>12.82</td>\n",
       "    </tr>\n",
       "    <tr>\n",
       "      <th>2</th>\n",
       "      <td>Yellowknife</td>\n",
       "      <td>1</td>\n",
       "      <td>CA</td>\n",
       "      <td>1619927782</td>\n",
       "      <td>55</td>\n",
       "      <td>62.4560</td>\n",
       "      <td>-114.3525</td>\n",
       "      <td>30.20</td>\n",
       "      <td>6.91</td>\n",
       "    </tr>\n",
       "    <tr>\n",
       "      <th>3</th>\n",
       "      <td>George Town</td>\n",
       "      <td>20</td>\n",
       "      <td>MY</td>\n",
       "      <td>1619927981</td>\n",
       "      <td>79</td>\n",
       "      <td>5.4112</td>\n",
       "      <td>100.3354</td>\n",
       "      <td>89.60</td>\n",
       "      <td>8.05</td>\n",
       "    </tr>\n",
       "    <tr>\n",
       "      <th>4</th>\n",
       "      <td>Nanortalik</td>\n",
       "      <td>85</td>\n",
       "      <td>GL</td>\n",
       "      <td>1619928014</td>\n",
       "      <td>67</td>\n",
       "      <td>60.1432</td>\n",
       "      <td>-45.2371</td>\n",
       "      <td>35.01</td>\n",
       "      <td>14.65</td>\n",
       "    </tr>\n",
       "  </tbody>\n",
       "</table>\n",
       "</div>"
      ],
      "text/plain": [
       "          City  Cloudiness Country        Date  Humidity      Lat       Lng  \\\n",
       "0     Khanbari          99      NP  1619928008        47  27.3747   87.2039   \n",
       "1      Rikitea          96      PF  1619928012        77 -23.1203 -134.9692   \n",
       "2  Yellowknife           1      CA  1619927782        55  62.4560 -114.3525   \n",
       "3  George Town          20      MY  1619927981        79   5.4112  100.3354   \n",
       "4   Nanortalik          85      GL  1619928014        67  60.1432  -45.2371   \n",
       "\n",
       "   Max Temp  Wind Speed  \n",
       "0     75.61        5.39  \n",
       "1     76.77       12.82  \n",
       "2     30.20        6.91  \n",
       "3     89.60        8.05  \n",
       "4     35.01       14.65  "
      ]
     },
     "execution_count": 9,
     "metadata": {},
     "output_type": "execute_result"
    }
   ],
   "source": [
    "weather_df.head()\n"
   ]
  },
  {
   "cell_type": "markdown",
   "metadata": {},
   "source": [
    "## Inspect the data and remove the cities where the humidity > 100%.\n",
    "----\n",
    "Skip this step if there are no cities that have humidity > 100%. "
   ]
  },
  {
   "cell_type": "code",
   "execution_count": 10,
   "metadata": {},
   "outputs": [
    {
     "name": "stdout",
     "output_type": "stream",
     "text": [
      "By inspection, the maximum humidity value is 100%, so there are no values greater than 100% in our data!\n"
     ]
    },
    {
     "data": {
      "text/plain": [
       "count    543.000000\n",
       "mean      69.569061\n",
       "std       21.352651\n",
       "min        5.000000\n",
       "25%       58.000000\n",
       "50%       73.000000\n",
       "75%       87.000000\n",
       "max      100.000000\n",
       "Name: Humidity, dtype: float64"
      ]
     },
     "execution_count": 10,
     "metadata": {},
     "output_type": "execute_result"
    }
   ],
   "source": [
    "test_stats = weather_df[\"Humidity\"].describe(include = \"all\")\n",
    "print(\"By inspection, the maximum humidity value is 100%, so there are no values greater than 100% in our data!\")\n",
    "test_stats"
   ]
  },
  {
   "cell_type": "code",
   "execution_count": 11,
   "metadata": {},
   "outputs": [],
   "source": [
    "#  Get the indices of cities that have humidity over 100%.\n",
    "#there are no values greater than 100% in our data"
   ]
  },
  {
   "cell_type": "code",
   "execution_count": 12,
   "metadata": {},
   "outputs": [],
   "source": [
    "# Make a new DataFrame equal to the city data to drop all humidity outliers by index.\n",
    "# Passing \"inplace=False\" will make a copy of the city_data DataFrame, which we call \"clean_city_data\".\n",
    "clean_city_data = weather_df"
   ]
  },
  {
   "cell_type": "code",
   "execution_count": 13,
   "metadata": {
    "scrolled": true
   },
   "outputs": [
    {
     "data": {
      "text/html": [
       "<div>\n",
       "<style scoped>\n",
       "    .dataframe tbody tr th:only-of-type {\n",
       "        vertical-align: middle;\n",
       "    }\n",
       "\n",
       "    .dataframe tbody tr th {\n",
       "        vertical-align: top;\n",
       "    }\n",
       "\n",
       "    .dataframe thead th {\n",
       "        text-align: right;\n",
       "    }\n",
       "</style>\n",
       "<table border=\"1\" class=\"dataframe\">\n",
       "  <thead>\n",
       "    <tr style=\"text-align: right;\">\n",
       "      <th></th>\n",
       "      <th>City</th>\n",
       "      <th>Cloudiness</th>\n",
       "      <th>Country</th>\n",
       "      <th>Date</th>\n",
       "      <th>Humidity</th>\n",
       "      <th>Lat</th>\n",
       "      <th>Lng</th>\n",
       "      <th>Max Temp</th>\n",
       "      <th>Wind Speed</th>\n",
       "    </tr>\n",
       "  </thead>\n",
       "  <tbody>\n",
       "    <tr>\n",
       "      <th>0</th>\n",
       "      <td>Khanbari</td>\n",
       "      <td>99</td>\n",
       "      <td>NP</td>\n",
       "      <td>1619928008</td>\n",
       "      <td>47</td>\n",
       "      <td>27.3747</td>\n",
       "      <td>87.2039</td>\n",
       "      <td>75.61</td>\n",
       "      <td>5.39</td>\n",
       "    </tr>\n",
       "    <tr>\n",
       "      <th>1</th>\n",
       "      <td>Rikitea</td>\n",
       "      <td>96</td>\n",
       "      <td>PF</td>\n",
       "      <td>1619928012</td>\n",
       "      <td>77</td>\n",
       "      <td>-23.1203</td>\n",
       "      <td>-134.9692</td>\n",
       "      <td>76.77</td>\n",
       "      <td>12.82</td>\n",
       "    </tr>\n",
       "    <tr>\n",
       "      <th>2</th>\n",
       "      <td>Yellowknife</td>\n",
       "      <td>1</td>\n",
       "      <td>CA</td>\n",
       "      <td>1619927782</td>\n",
       "      <td>55</td>\n",
       "      <td>62.4560</td>\n",
       "      <td>-114.3525</td>\n",
       "      <td>30.20</td>\n",
       "      <td>6.91</td>\n",
       "    </tr>\n",
       "    <tr>\n",
       "      <th>3</th>\n",
       "      <td>George Town</td>\n",
       "      <td>20</td>\n",
       "      <td>MY</td>\n",
       "      <td>1619927981</td>\n",
       "      <td>79</td>\n",
       "      <td>5.4112</td>\n",
       "      <td>100.3354</td>\n",
       "      <td>89.60</td>\n",
       "      <td>8.05</td>\n",
       "    </tr>\n",
       "    <tr>\n",
       "      <th>4</th>\n",
       "      <td>Nanortalik</td>\n",
       "      <td>85</td>\n",
       "      <td>GL</td>\n",
       "      <td>1619928014</td>\n",
       "      <td>67</td>\n",
       "      <td>60.1432</td>\n",
       "      <td>-45.2371</td>\n",
       "      <td>35.01</td>\n",
       "      <td>14.65</td>\n",
       "    </tr>\n",
       "    <tr>\n",
       "      <th>...</th>\n",
       "      <td>...</td>\n",
       "      <td>...</td>\n",
       "      <td>...</td>\n",
       "      <td>...</td>\n",
       "      <td>...</td>\n",
       "      <td>...</td>\n",
       "      <td>...</td>\n",
       "      <td>...</td>\n",
       "      <td>...</td>\n",
       "    </tr>\n",
       "    <tr>\n",
       "      <th>538</th>\n",
       "      <td>Ilulissat</td>\n",
       "      <td>75</td>\n",
       "      <td>GL</td>\n",
       "      <td>1619928219</td>\n",
       "      <td>48</td>\n",
       "      <td>69.2167</td>\n",
       "      <td>-51.1000</td>\n",
       "      <td>41.00</td>\n",
       "      <td>17.27</td>\n",
       "    </tr>\n",
       "    <tr>\n",
       "      <th>539</th>\n",
       "      <td>Kyzyl-Suu</td>\n",
       "      <td>99</td>\n",
       "      <td>KG</td>\n",
       "      <td>1619928251</td>\n",
       "      <td>70</td>\n",
       "      <td>42.3414</td>\n",
       "      <td>78.0056</td>\n",
       "      <td>54.16</td>\n",
       "      <td>3.80</td>\n",
       "    </tr>\n",
       "    <tr>\n",
       "      <th>540</th>\n",
       "      <td>Soyo</td>\n",
       "      <td>100</td>\n",
       "      <td>AO</td>\n",
       "      <td>1619928252</td>\n",
       "      <td>85</td>\n",
       "      <td>-6.1349</td>\n",
       "      <td>12.3689</td>\n",
       "      <td>77.22</td>\n",
       "      <td>5.99</td>\n",
       "    </tr>\n",
       "    <tr>\n",
       "      <th>541</th>\n",
       "      <td>Rio Tinto</td>\n",
       "      <td>0</td>\n",
       "      <td>PT</td>\n",
       "      <td>1619928252</td>\n",
       "      <td>87</td>\n",
       "      <td>41.1826</td>\n",
       "      <td>-8.5581</td>\n",
       "      <td>46.00</td>\n",
       "      <td>3.44</td>\n",
       "    </tr>\n",
       "    <tr>\n",
       "      <th>542</th>\n",
       "      <td>Salinópolis</td>\n",
       "      <td>90</td>\n",
       "      <td>BR</td>\n",
       "      <td>1619928252</td>\n",
       "      <td>89</td>\n",
       "      <td>-0.6136</td>\n",
       "      <td>-47.3561</td>\n",
       "      <td>76.14</td>\n",
       "      <td>6.15</td>\n",
       "    </tr>\n",
       "  </tbody>\n",
       "</table>\n",
       "<p>543 rows × 9 columns</p>\n",
       "</div>"
      ],
      "text/plain": [
       "            City  Cloudiness Country        Date  Humidity      Lat       Lng  \\\n",
       "0       Khanbari          99      NP  1619928008        47  27.3747   87.2039   \n",
       "1        Rikitea          96      PF  1619928012        77 -23.1203 -134.9692   \n",
       "2    Yellowknife           1      CA  1619927782        55  62.4560 -114.3525   \n",
       "3    George Town          20      MY  1619927981        79   5.4112  100.3354   \n",
       "4     Nanortalik          85      GL  1619928014        67  60.1432  -45.2371   \n",
       "..           ...         ...     ...         ...       ...      ...       ...   \n",
       "538    Ilulissat          75      GL  1619928219        48  69.2167  -51.1000   \n",
       "539    Kyzyl-Suu          99      KG  1619928251        70  42.3414   78.0056   \n",
       "540         Soyo         100      AO  1619928252        85  -6.1349   12.3689   \n",
       "541    Rio Tinto           0      PT  1619928252        87  41.1826   -8.5581   \n",
       "542  Salinópolis          90      BR  1619928252        89  -0.6136  -47.3561   \n",
       "\n",
       "     Max Temp  Wind Speed  \n",
       "0       75.61        5.39  \n",
       "1       76.77       12.82  \n",
       "2       30.20        6.91  \n",
       "3       89.60        8.05  \n",
       "4       35.01       14.65  \n",
       "..        ...         ...  \n",
       "538     41.00       17.27  \n",
       "539     54.16        3.80  \n",
       "540     77.22        5.99  \n",
       "541     46.00        3.44  \n",
       "542     76.14        6.15  \n",
       "\n",
       "[543 rows x 9 columns]"
      ]
     },
     "execution_count": 13,
     "metadata": {},
     "output_type": "execute_result"
    }
   ],
   "source": [
    "\n",
    "clean_city_data"
   ]
  },
  {
   "cell_type": "markdown",
   "metadata": {},
   "source": [
    "## Plotting the Data\n",
    "* Use proper labeling of the plots using plot titles (including date of analysis) and axes labels.\n",
    "* Save the plotted figures as .pngs."
   ]
  },
  {
   "cell_type": "markdown",
   "metadata": {},
   "source": [
    "## Latitude vs. Temperature Plot"
   ]
  },
  {
   "cell_type": "code",
   "execution_count": 14,
   "metadata": {
    "scrolled": true
   },
   "outputs": [
    {
     "data": {
      "image/png": "[encoded data removed]",
      "text/plain": [
       "<Figure size 432x288 with 1 Axes>"
      ]
     },
     "metadata": {
      "needs_background": "light"
     },
     "output_type": "display_data"
    }
   ],
   "source": [
    "plt.scatter(clean_city_data[\"Lat\"], clean_city_data[\"Max Temp\"], facecolor = \"steelblue\", edgecolor = \"black\")\n",
    "\n",
    "# Set title\n",
    "plt.title(\"City Latitude vs. Max Temperature \")\n",
    "\n",
    "# Set x axis label\n",
    "plt.xlabel(\"Laitude\")\n",
    "\n",
    "# Set y axis label\n",
    "plt.ylabel(\"Max Temperature (F)\")\n",
    "\n",
    "# Set grid line\n",
    "plt.grid(linestyle='-', linewidth=1, alpha = 0.5)\n",
    "\n",
    "# Save the plotted figure as .pngs\n",
    "plt.savefig(\"../Images/City Latitude vs Max Temperature.png\")"
   ]
  },
  {
   "cell_type": "markdown",
   "metadata": {},
   "source": [
    "## Latitude vs. Humidity Plot"
   ]
  },
  {
   "cell_type": "code",
   "execution_count": 15,
   "metadata": {},
   "outputs": [
    {
     "data": {
      "image/png": "[encoded data removed]",
      "text/plain": [
       "<Figure size 432x288 with 1 Axes>"
      ]
     },
     "metadata": {
      "needs_background": "light"
     },
     "output_type": "display_data"
    }
   ],
   "source": [
    "plt.scatter(clean_city_data[\"Lat\"], clean_city_data[\"Humidity\"], color = \"steelblue\", edgecolor = \"black\")\n",
    "\n",
    "plt.title(\"City Latitude vs. Humidity\")\n",
    "plt.xlabel(\"Latitude\")\n",
    "plt.ylabel(\"Humidity\")\n",
    "plt.grid(True)\n",
    "plt.savefig(\"../Images/City Latitude vs Humidity.png\")"
   ]
  },
  {
   "cell_type": "markdown",
   "metadata": {},
   "source": [
    "## Latitude vs. Cloudiness Plot"
   ]
  },
  {
   "cell_type": "code",
   "execution_count": 16,
   "metadata": {},
   "outputs": [
    {
     "data": {
      "image/png": "[encoded data removed]",
      "text/plain": [
       "<Figure size 432x288 with 1 Axes>"
      ]
     },
     "metadata": {
      "needs_background": "light"
     },
     "output_type": "display_data"
    }
   ],
   "source": [
    "plt.scatter(clean_city_data[\"Lat\"], clean_city_data[\"Cloudiness\"], color = \"steelblue\", edgecolor = \"black\")\n",
    "\n",
    "plt.title(\"City Latitude vs. Cloudiness\")\n",
    "plt.xlabel(\"Latitude\")\n",
    "plt.ylabel(\"Cloudiness\")\n",
    "plt.grid(True)\n",
    "plt.savefig(\"../Images/City Latitude vs Cloudiness.png\")"
   ]
  },
  {
   "cell_type": "markdown",
   "metadata": {},
   "source": [
    "## Latitude vs. Wind Speed Plot"
   ]
  },
  {
   "cell_type": "code",
   "execution_count": 17,
   "metadata": {},
   "outputs": [
    {
     "data": {
      "image/png": "[encoded data removed]",
      "text/plain": [
       "<Figure size 432x288 with 1 Axes>"
      ]
     },
     "metadata": {
      "needs_background": "light"
     },
     "output_type": "display_data"
    }
   ],
   "source": [
    "#Latitude vs. Wind Speed Plot scatter plot\n",
    "plt.scatter(clean_city_data[\"Lat\"], clean_city_data[\"Wind Speed\"], color = \"steelblue\", edgecolor = \"black\")\n",
    "\n",
    "plt.title(\"City Latitude vs. Wind Speed\")\n",
    "plt.xlabel(\"Latitude\")\n",
    "plt.ylabel(\"Wind Speed\")\n",
    "plt.grid(True)\n",
    "plt.savefig(\"../Images/City Latitude vs Wind Speed.png\")"
   ]
  },
  {
   "cell_type": "markdown",
   "metadata": {},
   "source": [
    "## Linear Regression"
   ]
  },
  {
   "cell_type": "code",
   "execution_count": 18,
   "metadata": {},
   "outputs": [],
   "source": [
    "def linear_reg_plot(x_values,y_values):\n",
    "    (slope, intercept, rvalue, pvalue, stderr) = linregress(x_values, y_values)\n",
    "    regress_values = x_values * slope + intercept\n",
    "    line_eq = \"y = \" + str(round(slope,2)) + \"x + \" + str(round(intercept,2))\n",
    "    plt.scatter(x_values,y_values)\n",
    "    plt.plot(x_values,regress_values,\"r-\")\n",
    "    plt.annotate(line_eq,(x_values.median(),y_values.median()),fontsize=15,color=\"red\")\n",
    "    plt.xlabel(\"Latitude\")\n",
    "    print(f\"The r-squared is: {rvalue}\")\n",
    "    plt.show()"
   ]
  },
  {
   "cell_type": "code",
   "execution_count": 19,
   "metadata": {},
   "outputs": [],
   "source": [
    "# Create Northern and Southern Hemisphere DataFrames\n",
    "Northern_hemisphere = clean_city_data.loc[clean_city_data[\"Lat\"]>0]\n",
    "Southern_hemisphere = clean_city_data.loc[clean_city_data[\"Lat\"]<0]"
   ]
  },
  {
   "cell_type": "markdown",
   "metadata": {},
   "source": [
    "####  Northern Hemisphere - Max Temp vs. Latitude Linear Regression"
   ]
  },
  {
   "cell_type": "code",
   "execution_count": 20,
   "metadata": {},
   "outputs": [
    {
     "name": "stdout",
     "output_type": "stream",
     "text": [
      "The r-squared is: -0.9150245836401606\n"
     ]
    },
    {
     "data": {
      "image/png": "[encoded data removed]",
      "text/plain": [
       "<Figure size 432x288 with 1 Axes>"
      ]
     },
     "metadata": {
      "needs_background": "light"
     },
     "output_type": "display_data"
    },
    {
     "name": "stdout",
     "output_type": "stream",
     "text": [
      "None\n"
     ]
    }
   ],
   "source": [
    "x_values = Northern_hemisphere[\"Lat\"]\n",
    "y_values = Northern_hemisphere[\"Max Temp\"]\n",
    "plt.ylabel(\"Max Temp (F)\")\n",
    "print(linear_reg_plot(x_values,y_values))"
   ]
  },
  {
   "cell_type": "markdown",
   "metadata": {},
   "source": [
    "####  Southern Hemisphere - Max Temp vs. Latitude Linear Regression"
   ]
  },
  {
   "cell_type": "code",
   "execution_count": 21,
   "metadata": {},
   "outputs": [
    {
     "name": "stdout",
     "output_type": "stream",
     "text": [
      "The r-squared is: 0.6699497383561406\n"
     ]
    },
    {
     "data": {
      "image/png": "[encoded data removed]",
      "text/plain": [
       "<Figure size 432x288 with 1 Axes>"
      ]
     },
     "metadata": {
      "needs_background": "light"
     },
     "output_type": "display_data"
    },
    {
     "name": "stdout",
     "output_type": "stream",
     "text": [
      "None\n"
     ]
    }
   ],
   "source": [
    "x_values = Southern_hemisphere[\"Lat\"]\n",
    "y_values = Southern_hemisphere[\"Max Temp\"]\n",
    "plt.ylabel(\"Max Temp (F)\")\n",
    "print(linear_reg_plot(x_values,y_values))"
   ]
  },
  {
   "cell_type": "markdown",
   "metadata": {},
   "source": [
    "####  Northern Hemisphere - Humidity (%) vs. Latitude Linear Regression"
   ]
  },
  {
   "cell_type": "code",
   "execution_count": 22,
   "metadata": {},
   "outputs": [
    {
     "name": "stdout",
     "output_type": "stream",
     "text": [
      "The r-squared is: 0.1402481098531689\n"
     ]
    },
    {
     "data": {
      "image/png": "[encoded data removed]",
      "text/plain": [
       "<Figure size 432x288 with 1 Axes>"
      ]
     },
     "metadata": {
      "needs_background": "light"
     },
     "output_type": "display_data"
    },
    {
     "name": "stdout",
     "output_type": "stream",
     "text": [
      "None\n"
     ]
    }
   ],
   "source": [
    "x_values = Northern_hemisphere[\"Lat\"]\n",
    "y_values = Northern_hemisphere[\"Humidity\"]\n",
    "plt.ylabel(\"Humidity\")\n",
    "print(linear_reg_plot(x_values,y_values))"
   ]
  },
  {
   "cell_type": "markdown",
   "metadata": {},
   "source": [
    "####  Southern Hemisphere - Humidity (%) vs. Latitude Linear Regression"
   ]
  },
  {
   "cell_type": "code",
   "execution_count": 23,
   "metadata": {},
   "outputs": [
    {
     "name": "stdout",
     "output_type": "stream",
     "text": [
      "The r-squared is: 0.1995695787303592\n"
     ]
    },
    {
     "data": {
      "image/png": "[encoded data removed]",
      "text/plain": [
       "<Figure size 432x288 with 1 Axes>"
      ]
     },
     "metadata": {
      "needs_background": "light"
     },
     "output_type": "display_data"
    },
    {
     "name": "stdout",
     "output_type": "stream",
     "text": [
      "None\n"
     ]
    }
   ],
   "source": [
    "x_values = Southern_hemisphere[\"Lat\"]\n",
    "y_values = Southern_hemisphere[\"Humidity\"]\n",
    "plt.ylim(0, y_values.max()+100)\n",
    "plt.ylabel(\"Humidity\")\n",
    "print(linear_reg_plot(x_values,y_values))"
   ]
  },
  {
   "cell_type": "markdown",
   "metadata": {},
   "source": [
    "####  Northern Hemisphere - Cloudiness (%) vs. Latitude Linear Regression"
   ]
  },
  {
   "cell_type": "code",
   "execution_count": 24,
   "metadata": {},
   "outputs": [
    {
     "name": "stdout",
     "output_type": "stream",
     "text": [
      "The r-squared is: 0.08710788204845013\n"
     ]
    },
    {
     "data": {
      "image/png": "[encoded data removed]",
      "text/plain": [
       "<Figure size 432x288 with 1 Axes>"
      ]
     },
     "metadata": {
      "needs_background": "light"
     },
     "output_type": "display_data"
    },
    {
     "name": "stdout",
     "output_type": "stream",
     "text": [
      "None\n"
     ]
    }
   ],
   "source": [
    "x_values = Northern_hemisphere[\"Lat\"]\n",
    "y_values = Northern_hemisphere[\"Cloudiness\"]\n",
    "plt.ylabel(\"Cloudiness\")\n",
    "print(linear_reg_plot(x_values,y_values))"
   ]
  },
  {
   "cell_type": "markdown",
   "metadata": {},
   "source": [
    "####  Southern Hemisphere - Cloudiness (%) vs. Latitude Linear Regression"
   ]
  },
  {
   "cell_type": "code",
   "execution_count": 25,
   "metadata": {},
   "outputs": [
    {
     "name": "stdout",
     "output_type": "stream",
     "text": [
      "The r-squared is: 0.2713159989535904\n"
     ]
    },
    {
     "data": {
      "image/png": "[encoded data removed]",
      "text/plain": [
       "<Figure size 432x288 with 1 Axes>"
      ]
     },
     "metadata": {
      "needs_background": "light"
     },
     "output_type": "display_data"
    },
    {
     "name": "stdout",
     "output_type": "stream",
     "text": [
      "None\n"
     ]
    }
   ],
   "source": [
    "x_values = Southern_hemisphere[\"Lat\"]\n",
    "y_values = Southern_hemisphere[\"Cloudiness\"]\n",
    "plt.ylabel(\"Cloudiness\")\n",
    "print(linear_reg_plot(x_values,y_values))"
   ]
  },
  {
   "cell_type": "markdown",
   "metadata": {},
   "source": [
    "####  Northern Hemisphere - Wind Speed (mph) vs. Latitude Linear Regression"
   ]
  },
  {
   "cell_type": "code",
   "execution_count": 26,
   "metadata": {},
   "outputs": [
    {
     "name": "stdout",
     "output_type": "stream",
     "text": [
      "The r-squared is: 0.14969881936854612\n"
     ]
    },
    {
     "data": {
      "image/png": "[encoded data removed]",
      "text/plain": [
       "<Figure size 432x288 with 1 Axes>"
      ]
     },
     "metadata": {
      "needs_background": "light"
     },
     "output_type": "display_data"
    },
    {
     "name": "stdout",
     "output_type": "stream",
     "text": [
      "None\n"
     ]
    }
   ],
   "source": [
    "x_values = Northern_hemisphere[\"Lat\"]\n",
    "y_values = Northern_hemisphere[\"Wind Speed\"]\n",
    "plt.ylabel(\"Wind Speed\")\n",
    "print(linear_reg_plot(x_values,y_values))"
   ]
  },
  {
   "cell_type": "markdown",
   "metadata": {},
   "source": [
    "####  Southern Hemisphere - Wind Speed (mph) vs. Latitude Linear Regression"
   ]
  },
  {
   "cell_type": "code",
   "execution_count": 27,
   "metadata": {},
   "outputs": [
    {
     "name": "stdout",
     "output_type": "stream",
     "text": [
      "The r-squared is: -0.24718577243775716\n"
     ]
    },
    {
     "data": {
      "image/png": "[encoded data removed]",
      "text/plain": [
       "<Figure size 432x288 with 1 Axes>"
      ]
     },
     "metadata": {
      "needs_background": "light"
     },
     "output_type": "display_data"
    },
    {
     "name": "stdout",
     "output_type": "stream",
     "text": [
      "None\n"
     ]
    }
   ],
   "source": [
    "x_values = Southern_hemisphere[\"Lat\"]\n",
    "y_values = Southern_hemisphere[\"Wind Speed\"]\n",
    "plt.ylabel(\"Wind Speed\")\n",
    "print(linear_reg_plot(x_values,y_values))"
   ]
  },
  {
   "cell_type": "code",
   "execution_count": null,
   "metadata": {},
   "outputs": [],
   "source": []
  },
  {
   "cell_type": "code",
   "execution_count": null,
   "metadata": {},
   "outputs": [],
   "source": []
  }
 ],
 "metadata": {
  "anaconda-cloud": {},
  "kernel_info": {
   "name": "python3"
  },
  "kernelspec": {
   "display_name": "Python 3",
   "language": "python",
   "name": "python3"
  },
  "language_info": {
   "codemirror_mode": {
    "name": "ipython",
    "version": 3
   },
   "file_extension": ".py",
   "mimetype": "text/x-python",
   "name": "python",
   "nbconvert_exporter": "python",
   "pygments_lexer": "ipython3",
   "version": "3.8.5"
  },
  "latex_envs": {
   "LaTeX_envs_menu_present": true,
   "autoclose": false,
   "autocomplete": true,
   "bibliofile": "biblio.bib",
   "cite_by": "apalike",
   "current_citInitial": 1,
   "eqLabelWithNumbers": true,
   "eqNumInitial": 1,
   "hotkeys": {
    "equation": "Ctrl-E",
    "itemize": "Ctrl-I"
   },
   "labels_anchors": false,
   "latex_user_defs": false,
   "report_style_numbering": false,
   "user_envs_cfg": false
  },
  "nteract": {
   "version": "0.12.3"
  }
 },
 "nbformat": 4,
 "nbformat_minor": 2
}
