{
 "cells": [
  {
   "cell_type": "markdown",
   "metadata": {},
   "source": [
    "# WeatherPy\n",
    "----\n",
    "\n",
    "#### Note\n",
    "* Instructions have been included for each segment. You do not have to follow them exactly, but they are included to help you think through the steps."
   ]
  },
  {
   "cell_type": "code",
   "execution_count": 15,
   "metadata": {
    "scrolled": true
   },
   "outputs": [],
   "source": [
    "# Dependencies and Setup\n",
    "import matplotlib.pyplot as plt\n",
    "import pandas as pd\n",
    "import numpy as np\n",
    "import requests\n",
    "import time\n",
    "from scipy.stats import linregress\n",
    "\n",
    "# Import API key\n",
    "from api_keys import weather_api_key\n",
    "\n",
    "# Incorporated citipy to determine city based on latitude and longitude\n",
    "from citipy import citipy\n",
    "\n",
    "# Output File (CSV)\n",
    "output_data_file = \"output_data/cities.csv\"\n",
    "\n",
    "# Range of latitudes and longitudes\n",
    "lat_range = (-90, 90)\n",
    "lng_range = (-180, 180)"
   ]
  },
  {
   "cell_type": "code",
   "execution_count": 16,
   "metadata": {},
   "outputs": [
    {
     "data": {
      "text/plain": [
       "575"
      ]
     },
     "execution_count": 16,
     "metadata": {},
     "output_type": "execute_result"
    }
   ],
   "source": [
    "## Generate Cities List\n",
    "\n",
    "lat_lngs = []\n",
    "cities = []\n",
    "\n",
    "# Create a set of random lat and lng combinations\n",
    "lats = np.random.uniform(low=-90.000, high=90.000, size=1500)\n",
    "lngs = np.random.uniform(low=-180.000, high=180.000, size=1500)\n",
    "lat_lngs = zip(lats, lngs)\n",
    "\n",
    "# Identify nearest city for each lat, lng combination\n",
    "for lat_lng in lat_lngs:\n",
    "    city = citipy.nearest_city(lat_lng[0], lat_lng[1]).city_name\n",
    "    \n",
    "    # If the city is unique, then add it to a our cities list\n",
    "    if city not in cities:\n",
    "        cities.append(city)\n",
    "\n",
    "# Print the city count to confirm sufficient count\n",
    "len(cities)"
   ]
  },
  {
   "cell_type": "code",
   "execution_count": 17,
   "metadata": {},
   "outputs": [
    {
     "data": {
      "text/plain": [
       "612"
      ]
     },
     "execution_count": 17,
     "metadata": {},
     "output_type": "execute_result"
    }
   ],
   "source": [
    "# List for holding lat_lngs and cities\n",
    "lat_lngs = []\n",
    "cities = []\n",
    "\n",
    "# Create a set of random lat and lng combinations\n",
    "lats = np.random.uniform(lat_range[0], lat_range[1], size=1500)\n",
    "lngs = np.random.uniform(lng_range[0], lng_range[1], size=1500)\n",
    "lat_lngs = zip(lats, lngs)\n",
    "\n",
    "# Identify nearest city for each lat, lng combination\n",
    "for lat_lng in lat_lngs:\n",
    "    city = citipy.nearest_city(lat_lng[0], lat_lng[1]).city_name\n",
    "    \n",
    "    # If the city is unique, then add it to a our cities list\n",
    "    if city not in cities:\n",
    "        cities.append(city)\n",
    "\n",
    "# Print the city count to confirm sufficient count\n",
    "len(cities)"
   ]
  },
  {
   "cell_type": "code",
   "execution_count": null,
   "metadata": {},
   "outputs": [],
   "source": []
  },
  {
   "cell_type": "markdown",
   "metadata": {},
   "source": [
    "### Perform API Calls\n",
    "* Perform a weather check on each city using a series of successive API calls.\n",
    "* Include a print log of each city as it'sbeing processed (with the city number and city name).\n"
   ]
  },
  {
   "cell_type": "code",
   "execution_count": 18,
   "metadata": {
    "scrolled": true
   },
   "outputs": [
    {
     "name": "stdout",
     "output_type": "stream",
     "text": [
      "Processing Record 1 of Set 1 : albany\n",
      "Processing Record 2 of Set 1 : barrow\n",
      "Processing Record 3 of Set 1 : arraial do cabo\n",
      "Processing Record 4 of Set 1 : ushuaia\n",
      "Processing Record 5 of Set 1 : busselton\n",
      "Processing Record 6 of Set 1 : ribeira grande\n",
      "Processing Record 7 of Set 1 : carnarvon\n",
      "Processing Record 8 of Set 1 : bundaberg\n",
      "Processing Record 9 of Set 1 : clyde river\n",
      "Processing Record 10 of Set 1 : shingu\n",
      "Processing Record 11 of Set 1 : port alfred\n",
      "City not found. Skipping...\n",
      "Processing Record 12 of Set 1 : cape town\n",
      "Processing Record 13 of Set 1 : puerto escondido\n",
      "Processing Record 14 of Set 1 : punta arenas\n",
      "Processing Record 15 of Set 1 : atuona\n",
      "Processing Record 16 of Set 1 : jamestown\n",
      "Processing Record 17 of Set 1 : matagami\n",
      "Processing Record 18 of Set 1 : myski\n",
      "Processing Record 19 of Set 1 : rikitea\n",
      "Processing Record 20 of Set 1 : tautira\n",
      "Processing Record 21 of Set 1 : bluff\n",
      "City not found. Skipping...\n",
      "City not found. Skipping...\n",
      "Processing Record 22 of Set 1 : kaeo\n",
      "Processing Record 23 of Set 1 : puerto ayora\n",
      "City not found. Skipping...\n",
      "Processing Record 24 of Set 1 : mataura\n",
      "Processing Record 25 of Set 1 : kodiak\n",
      "Processing Record 26 of Set 1 : hermanus\n",
      "Processing Record 27 of Set 1 : bratsk\n",
      "Processing Record 28 of Set 1 : nikolskoye\n",
      "Processing Record 29 of Set 1 : saint-philippe\n",
      "City not found. Skipping...\n",
      "City not found. Skipping...\n",
      "Processing Record 30 of Set 1 : mar del plata\n",
      "Processing Record 31 of Set 1 : dehui\n",
      "Processing Record 32 of Set 1 : tuktoyaktuk\n",
      "Processing Record 33 of Set 1 : ternate\n",
      "Processing Record 34 of Set 1 : alekseyevka\n",
      "Processing Record 35 of Set 1 : tasiilaq\n",
      "Processing Record 36 of Set 1 : port hardy\n",
      "Processing Record 37 of Set 1 : khatanga\n",
      "Processing Record 38 of Set 1 : berlevag\n",
      "Processing Record 39 of Set 1 : kangaatsiaq\n",
      "Processing Record 40 of Set 1 : peleduy\n",
      "Processing Record 41 of Set 1 : narsaq\n",
      "Processing Record 42 of Set 1 : gwembe\n",
      "City not found. Skipping...\n",
      "Processing Record 43 of Set 1 : victoria\n",
      "Processing Record 44 of Set 1 : hithadhoo\n",
      "City not found. Skipping...\n",
      "Processing Record 45 of Set 1 : puro\n",
      "Processing Record 46 of Set 1 : egvekinot\n",
      "Processing Record 47 of Set 1 : new norfolk\n",
      "Processing Record 48 of Set 1 : whitecourt\n",
      "Processing Record 49 of Set 1 : dingle\n",
      "Processing Record 50 of Set 1 : naze\n",
      "Processing Record 0 of Set 2 : geraldton\n",
      "Processing Record 1 of Set 2 : esperance\n",
      "Processing Record 2 of Set 2 : kortkeros\n",
      "Processing Record 3 of Set 2 : sao miguel do araguaia\n",
      "Processing Record 4 of Set 2 : lebu\n",
      "Processing Record 5 of Set 2 : balabac\n",
      "Processing Record 6 of Set 2 : mehamn\n",
      "City not found. Skipping...\n",
      "Processing Record 7 of Set 2 : itarema\n",
      "City not found. Skipping...\n",
      "Processing Record 8 of Set 2 : kapaa\n",
      "Processing Record 9 of Set 2 : adrar\n",
      "Processing Record 10 of Set 2 : hobart\n",
      "Processing Record 11 of Set 2 : thongwa\n",
      "City not found. Skipping...\n",
      "Processing Record 12 of Set 2 : pontianak\n",
      "City not found. Skipping...\n",
      "Processing Record 13 of Set 2 : gizo\n",
      "Processing Record 14 of Set 2 : lucea\n",
      "Processing Record 15 of Set 2 : neiafu\n",
      "Processing Record 16 of Set 2 : bredasdorp\n",
      "City not found. Skipping...\n",
      "Processing Record 17 of Set 2 : hasaki\n",
      "Processing Record 18 of Set 2 : abrau-dyurso\n",
      "Processing Record 19 of Set 2 : hovd\n",
      "Processing Record 20 of Set 2 : usinsk\n",
      "Processing Record 21 of Set 2 : phan thiet\n",
      "Processing Record 22 of Set 2 : tyumentsevo\n",
      "Processing Record 23 of Set 2 : talcher\n",
      "Processing Record 24 of Set 2 : bengkulu\n",
      "Processing Record 25 of Set 2 : pevek\n",
      "City not found. Skipping...\n",
      "Processing Record 26 of Set 2 : villa carlos paz\n",
      "Processing Record 27 of Set 2 : coquimbo\n",
      "Processing Record 28 of Set 2 : teeli\n",
      "Processing Record 29 of Set 2 : mocuba\n",
      "Processing Record 30 of Set 2 : aku\n",
      "Processing Record 31 of Set 2 : lima\n",
      "Processing Record 32 of Set 2 : azul\n",
      "Processing Record 33 of Set 2 : shimsk\n",
      "Processing Record 34 of Set 2 : oussouye\n",
      "Processing Record 35 of Set 2 : sangar\n",
      "Processing Record 36 of Set 2 : bethel\n",
      "Processing Record 37 of Set 2 : ostrovnoy\n",
      "Processing Record 38 of Set 2 : lat yao\n",
      "Processing Record 39 of Set 2 : hilo\n",
      "Processing Record 40 of Set 2 : yellowknife\n",
      "Processing Record 41 of Set 2 : chapais\n",
      "Processing Record 42 of Set 2 : buchanan\n",
      "Processing Record 43 of Set 2 : sioux lookout\n",
      "Processing Record 44 of Set 2 : mahebourg\n",
      "Processing Record 45 of Set 2 : flinders\n",
      "Processing Record 46 of Set 2 : elat\n",
      "City not found. Skipping...\n",
      "Processing Record 47 of Set 2 : east london\n",
      "Processing Record 48 of Set 2 : saldanha\n",
      "Processing Record 49 of Set 2 : dunda\n",
      "Processing Record 50 of Set 2 : port blair\n",
      "City not found. Skipping...\n",
      "Processing Record 0 of Set 3 : iralaya\n",
      "Processing Record 1 of Set 3 : guerrero negro\n",
      "Processing Record 2 of Set 3 : touros\n",
      "Processing Record 3 of Set 3 : avarua\n",
      "Processing Record 4 of Set 3 : ilulissat\n",
      "Processing Record 5 of Set 3 : bridlington\n",
      "Processing Record 6 of Set 3 : castro\n",
      "Processing Record 7 of Set 3 : santa lucia\n",
      "Processing Record 8 of Set 3 : movila banului\n",
      "Processing Record 9 of Set 3 : manitouwadge\n",
      "Processing Record 10 of Set 3 : nanortalik\n",
      "Processing Record 11 of Set 3 : myanaung\n",
      "Processing Record 12 of Set 3 : kahului\n",
      "Processing Record 13 of Set 3 : hostotipaquillo\n",
      "Processing Record 14 of Set 3 : viedma\n",
      "Processing Record 15 of Set 3 : itupiranga\n",
      "Processing Record 16 of Set 3 : ponta do sol\n",
      "Processing Record 17 of Set 3 : mbini\n",
      "Processing Record 18 of Set 3 : chuy\n",
      "Processing Record 19 of Set 3 : taoudenni\n",
      "Processing Record 20 of Set 3 : hualmay\n",
      "Processing Record 21 of Set 3 : rawson\n",
      "Processing Record 22 of Set 3 : puerto carreno\n",
      "Processing Record 23 of Set 3 : vaini\n",
      "Processing Record 24 of Set 3 : van\n",
      "Processing Record 25 of Set 3 : harwich\n",
      "Processing Record 26 of Set 3 : saskylakh\n",
      "Processing Record 27 of Set 3 : constitucion\n",
      "Processing Record 28 of Set 3 : sarangani\n",
      "Processing Record 29 of Set 3 : ulladulla\n",
      "Processing Record 30 of Set 3 : walvis bay\n",
      "Processing Record 31 of Set 3 : burns lake\n",
      "Processing Record 32 of Set 3 : road town\n",
      "Processing Record 33 of Set 3 : tsuruoka\n",
      "Processing Record 34 of Set 3 : sitka\n",
      "Processing Record 35 of Set 3 : cidreira\n",
      "Processing Record 36 of Set 3 : lorengau\n",
      "Processing Record 37 of Set 3 : nantucket\n",
      "Processing Record 38 of Set 3 : kalianget\n",
      "Processing Record 39 of Set 3 : yar-sale\n",
      "Processing Record 40 of Set 3 : port macquarie\n",
      "Processing Record 41 of Set 3 : eyl\n",
      "City not found. Skipping...\n",
      "Processing Record 42 of Set 3 : ancud\n",
      "Processing Record 43 of Set 3 : bayangol\n",
      "Processing Record 44 of Set 3 : kaitangata\n",
      "Processing Record 45 of Set 3 : were ilu\n",
      "Processing Record 46 of Set 3 : butaritari\n",
      "Processing Record 47 of Set 3 : hambantota\n",
      "Processing Record 48 of Set 3 : qaanaaq\n",
      "Processing Record 49 of Set 3 : tougue\n",
      "Processing Record 50 of Set 3 : thompson\n",
      "Processing Record 0 of Set 4 : keti bandar\n",
      "Processing Record 1 of Set 4 : waipawa\n",
      "Processing Record 2 of Set 4 : maceio\n",
      "Processing Record 3 of Set 4 : puerto del rosario\n",
      "Processing Record 4 of Set 4 : grindavik\n",
      "Processing Record 5 of Set 4 : makakilo city\n",
      "Processing Record 6 of Set 4 : san patricio\n",
      "City not found. Skipping...\n",
      "Processing Record 7 of Set 4 : sao filipe\n",
      "Processing Record 8 of Set 4 : hobyo\n",
      "Processing Record 9 of Set 4 : fort nelson\n",
      "City not found. Skipping...\n",
      "City not found. Skipping...\n",
      "Processing Record 10 of Set 4 : bathsheba\n",
      "City not found. Skipping...\n",
      "Processing Record 11 of Set 4 : jacksonville\n",
      "City not found. Skipping...\n",
      "Processing Record 12 of Set 4 : tiksi\n",
      "Processing Record 13 of Set 4 : quartucciu\n",
      "Processing Record 14 of Set 4 : longonjo\n",
      "Processing Record 15 of Set 4 : auki\n",
      "Processing Record 16 of Set 4 : pundaguitan\n",
      "Processing Record 17 of Set 4 : fuling\n",
      "Processing Record 18 of Set 4 : itainopolis\n",
      "City not found. Skipping...\n",
      "Processing Record 19 of Set 4 : qingdao\n",
      "Processing Record 20 of Set 4 : maragogi\n",
      "Processing Record 21 of Set 4 : yarada\n",
      "Processing Record 22 of Set 4 : mindelo\n",
      "Processing Record 23 of Set 4 : outjo\n",
      "Processing Record 24 of Set 4 : komsomolskiy\n",
      "Processing Record 25 of Set 4 : beringovskiy\n",
      "Processing Record 26 of Set 4 : ciudad bolivar\n",
      "Processing Record 27 of Set 4 : upernavik\n",
      "Processing Record 28 of Set 4 : niquero\n",
      "Processing Record 29 of Set 4 : xinyang\n",
      "Processing Record 30 of Set 4 : norman wells\n",
      "Processing Record 31 of Set 4 : macia\n"
     ]
    },
    {
     "name": "stdout",
     "output_type": "stream",
     "text": [
      "Processing Record 32 of Set 4 : maltahohe\n",
      "Processing Record 33 of Set 4 : sinsheim\n",
      "Processing Record 34 of Set 4 : tiarei\n",
      "Processing Record 35 of Set 4 : kenai\n",
      "Processing Record 36 of Set 4 : aviles\n",
      "Processing Record 37 of Set 4 : bilma\n",
      "City not found. Skipping...\n",
      "Processing Record 38 of Set 4 : gogrial\n",
      "Processing Record 39 of Set 4 : chokurdakh\n",
      "City not found. Skipping...\n",
      "Processing Record 40 of Set 4 : champerico\n",
      "Processing Record 41 of Set 4 : provideniya\n",
      "Processing Record 42 of Set 4 : baykit\n",
      "Processing Record 43 of Set 4 : mandalgovi\n",
      "City not found. Skipping...\n",
      "Processing Record 44 of Set 4 : deputatskiy\n",
      "Processing Record 45 of Set 4 : port lincoln\n",
      "Processing Record 46 of Set 4 : hofn\n",
      "Processing Record 47 of Set 4 : kurchum\n",
      "Processing Record 48 of Set 4 : kieta\n",
      "Processing Record 49 of Set 4 : odweyne\n",
      "Processing Record 50 of Set 4 : airai\n",
      "Processing Record 0 of Set 5 : nouadhibou\n",
      "Processing Record 1 of Set 5 : ouesso\n",
      "Processing Record 2 of Set 5 : cabo san lucas\n",
      "Processing Record 3 of Set 5 : suntar\n",
      "Processing Record 4 of Set 5 : isa khel\n",
      "Processing Record 5 of Set 5 : okhotsk\n",
      "Processing Record 6 of Set 5 : dikson\n",
      "Processing Record 7 of Set 5 : talcahuano\n",
      "Processing Record 8 of Set 5 : tuatapere\n",
      "Processing Record 9 of Set 5 : vao\n",
      "Processing Record 10 of Set 5 : contramaestre\n",
      "Processing Record 11 of Set 5 : mendi\n",
      "Processing Record 12 of Set 5 : sambava\n",
      "City not found. Skipping...\n",
      "Processing Record 13 of Set 5 : pringsewu\n",
      "Processing Record 14 of Set 5 : putina\n",
      "Processing Record 15 of Set 5 : chenghai\n",
      "Processing Record 16 of Set 5 : ayan\n",
      "Processing Record 17 of Set 5 : harper\n",
      "Processing Record 18 of Set 5 : iqaluit\n",
      "Processing Record 19 of Set 5 : ler\n",
      "Processing Record 20 of Set 5 : fortuna\n",
      "Processing Record 21 of Set 5 : calabozo\n",
      "Processing Record 22 of Set 5 : saint george\n",
      "Processing Record 23 of Set 5 : yelatma\n",
      "Processing Record 24 of Set 5 : hay river\n",
      "Processing Record 25 of Set 5 : kinston\n",
      "Processing Record 26 of Set 5 : upornaya\n",
      "Processing Record 27 of Set 5 : kununurra\n",
      "Processing Record 28 of Set 5 : the valley\n",
      "Processing Record 29 of Set 5 : cabedelo\n",
      "Processing Record 30 of Set 5 : umtata\n",
      "Processing Record 31 of Set 5 : namatanai\n",
      "Processing Record 32 of Set 5 : lipin bor\n",
      "Processing Record 33 of Set 5 : belaya gora\n",
      "Processing Record 34 of Set 5 : isla mujeres\n",
      "Processing Record 35 of Set 5 : mucuri\n",
      "Processing Record 36 of Set 5 : hatfield\n",
      "Processing Record 37 of Set 5 : san cristobal\n",
      "Processing Record 38 of Set 5 : chapleau\n",
      "Processing Record 39 of Set 5 : richards bay\n",
      "Processing Record 40 of Set 5 : ushtobe\n",
      "Processing Record 41 of Set 5 : roald\n",
      "Processing Record 42 of Set 5 : severo-kurilsk\n",
      "Processing Record 43 of Set 5 : itapetininga\n",
      "Processing Record 44 of Set 5 : marsa matruh\n",
      "Processing Record 45 of Set 5 : yomou\n",
      "Processing Record 46 of Set 5 : barcelona\n",
      "Processing Record 47 of Set 5 : souillac\n",
      "Processing Record 48 of Set 5 : hami\n",
      "Processing Record 49 of Set 5 : ankpa\n",
      "Processing Record 50 of Set 5 : san quintin\n",
      "City not found. Skipping...\n",
      "Processing Record 0 of Set 6 : bhaderwah\n",
      "Processing Record 1 of Set 6 : kamaishi\n",
      "City not found. Skipping...\n",
      "Processing Record 2 of Set 6 : camacha\n",
      "Processing Record 3 of Set 6 : loa janan\n",
      "Processing Record 4 of Set 6 : hyeres\n",
      "Processing Record 5 of Set 6 : san rafael\n",
      "Processing Record 6 of Set 6 : laguna\n",
      "Processing Record 7 of Set 6 : pochutla\n",
      "City not found. Skipping...\n",
      "City not found. Skipping...\n",
      "Processing Record 8 of Set 6 : berdigestyakh\n",
      "Processing Record 9 of Set 6 : catuday\n",
      "Processing Record 10 of Set 6 : zhoucheng\n",
      "Processing Record 11 of Set 6 : vila velha\n",
      "Processing Record 12 of Set 6 : pisco\n",
      "Processing Record 13 of Set 6 : pergamino\n",
      "Processing Record 14 of Set 6 : santa maria\n",
      "Processing Record 15 of Set 6 : antofagasta\n",
      "Processing Record 16 of Set 6 : lavrentiya\n",
      "Processing Record 17 of Set 6 : quatre cocos\n",
      "Processing Record 18 of Set 6 : katsuura\n",
      "Processing Record 19 of Set 6 : faanui\n",
      "Processing Record 20 of Set 6 : russell\n",
      "Processing Record 21 of Set 6 : sao joao da barra\n",
      "Processing Record 22 of Set 6 : katangli\n",
      "Processing Record 23 of Set 6 : meulaboh\n",
      "Processing Record 24 of Set 6 : panguipulli\n",
      "Processing Record 25 of Set 6 : port elizabeth\n",
      "Processing Record 26 of Set 6 : indramayu\n",
      "Processing Record 27 of Set 6 : gat\n",
      "Processing Record 28 of Set 6 : hanyang\n",
      "Processing Record 29 of Set 6 : honiara\n",
      "Processing Record 30 of Set 6 : yurimaguas\n",
      "Processing Record 31 of Set 6 : nome\n",
      "Processing Record 32 of Set 6 : alofi\n",
      "Processing Record 33 of Set 6 : buala\n",
      "Processing Record 34 of Set 6 : oriximina\n",
      "Processing Record 35 of Set 6 : vardo\n",
      "City not found. Skipping...\n",
      "Processing Record 36 of Set 6 : mpika\n",
      "Processing Record 37 of Set 6 : miles city\n",
      "Processing Record 38 of Set 6 : chimbote\n",
      "Processing Record 39 of Set 6 : kajaani\n",
      "Processing Record 40 of Set 6 : kajiado\n",
      "Processing Record 41 of Set 6 : westport\n",
      "Processing Record 42 of Set 6 : palana\n",
      "Processing Record 43 of Set 6 : boende\n",
      "Processing Record 44 of Set 6 : grand gaube\n",
      "Processing Record 45 of Set 6 : vangaindrano\n",
      "Processing Record 46 of Set 6 : lubbock\n",
      "Processing Record 47 of Set 6 : aloleng\n",
      "Processing Record 48 of Set 6 : hamilton\n",
      "Processing Record 49 of Set 6 : amapa\n",
      "Processing Record 50 of Set 6 : lagoa\n",
      "Processing Record 0 of Set 7 : fukue\n",
      "Processing Record 1 of Set 7 : codrington\n",
      "Processing Record 2 of Set 7 : ardmore\n",
      "Processing Record 3 of Set 7 : veraval\n",
      "Processing Record 4 of Set 7 : ilheus\n",
      "Processing Record 5 of Set 7 : mount isa\n",
      "City not found. Skipping...\n",
      "Processing Record 6 of Set 7 : north bend\n",
      "Processing Record 7 of Set 7 : cascais\n",
      "Processing Record 8 of Set 7 : srandakan\n",
      "Processing Record 9 of Set 7 : xichang\n",
      "Processing Record 10 of Set 7 : ranong\n",
      "Processing Record 11 of Set 7 : atikokan\n",
      "City not found. Skipping...\n",
      "Processing Record 12 of Set 7 : prince george\n",
      "Processing Record 13 of Set 7 : talnakh\n",
      "Processing Record 14 of Set 7 : virginia beach\n",
      "Processing Record 15 of Set 7 : kindu\n",
      "Processing Record 16 of Set 7 : inhambane\n",
      "Processing Record 17 of Set 7 : cap malheureux\n",
      "Processing Record 18 of Set 7 : manjacaze\n",
      "Processing Record 19 of Set 7 : asau\n",
      "Processing Record 20 of Set 7 : nerchinskiy zavod\n",
      "Processing Record 21 of Set 7 : kishni\n",
      "Processing Record 22 of Set 7 : blagoyevo\n",
      "Processing Record 23 of Set 7 : kemijarvi\n",
      "Processing Record 24 of Set 7 : morondava\n",
      "Processing Record 25 of Set 7 : georgetown\n",
      "Processing Record 26 of Set 7 : arvika\n",
      "Processing Record 27 of Set 7 : port hawkesbury\n",
      "Processing Record 28 of Set 7 : cayenne\n",
      "Processing Record 29 of Set 7 : marzuq\n",
      "Processing Record 30 of Set 7 : malakal\n",
      "Processing Record 31 of Set 7 : caborca\n",
      "Processing Record 32 of Set 7 : vanavara\n",
      "Processing Record 33 of Set 7 : inzhavino\n",
      "Processing Record 34 of Set 7 : pasighat\n",
      "Processing Record 35 of Set 7 : louga\n",
      "Processing Record 36 of Set 7 : taree\n",
      "Processing Record 37 of Set 7 : balti\n",
      "Processing Record 38 of Set 7 : tanout\n",
      "Processing Record 39 of Set 7 : colac\n",
      "Processing Record 40 of Set 7 : college\n",
      "Processing Record 41 of Set 7 : korla\n",
      "City not found. Skipping...\n",
      "Processing Record 42 of Set 7 : general roca\n",
      "Processing Record 43 of Set 7 : noumea\n",
      "Processing Record 44 of Set 7 : paamiut\n",
      "Processing Record 45 of Set 7 : kitob\n",
      "Processing Record 46 of Set 7 : cherskiy\n",
      "Processing Record 47 of Set 7 : monsenhor gil\n",
      "Processing Record 48 of Set 7 : jalu\n",
      "Processing Record 49 of Set 7 : pacific grove\n",
      "Processing Record 50 of Set 7 : vestmannaeyjar\n",
      "City not found. Skipping...\n",
      "Processing Record 0 of Set 8 : batemans bay\n",
      "Processing Record 1 of Set 8 : altagracia de orituco\n",
      "Processing Record 2 of Set 8 : sorland\n",
      "Processing Record 3 of Set 8 : leningradskiy\n",
      "Processing Record 4 of Set 8 : xuddur\n",
      "Processing Record 5 of Set 8 : santa cruz de la palma\n",
      "Processing Record 6 of Set 8 : yichun\n",
      "Processing Record 7 of Set 8 : belmonte\n",
      "Processing Record 8 of Set 8 : filadelfia\n",
      "Processing Record 9 of Set 8 : talara\n",
      "Processing Record 10 of Set 8 : agadir\n",
      "Processing Record 11 of Set 8 : balkhash\n",
      "Processing Record 12 of Set 8 : yantal\n",
      "Processing Record 13 of Set 8 : nalut\n",
      "Processing Record 14 of Set 8 : onega\n",
      "Processing Record 15 of Set 8 : vrangel\n",
      "Processing Record 16 of Set 8 : kamenka\n",
      "Processing Record 17 of Set 8 : terney\n",
      "Processing Record 18 of Set 8 : yumen\n",
      "City not found. Skipping...\n"
     ]
    },
    {
     "name": "stdout",
     "output_type": "stream",
     "text": [
      "Processing Record 19 of Set 8 : makushino\n",
      "City not found. Skipping...\n",
      "Processing Record 20 of Set 8 : steinbach\n",
      "Processing Record 21 of Set 8 : koratla\n",
      "Processing Record 22 of Set 8 : zhigansk\n",
      "Processing Record 23 of Set 8 : isangel\n",
      "Processing Record 24 of Set 8 : ewa beach\n",
      "Processing Record 25 of Set 8 : muroto\n",
      "Processing Record 26 of Set 8 : policoro\n",
      "Processing Record 27 of Set 8 : anadyr\n",
      "Processing Record 28 of Set 8 : batagay\n",
      "Processing Record 29 of Set 8 : finspang\n",
      "Processing Record 30 of Set 8 : erenhot\n",
      "Processing Record 31 of Set 8 : washington\n",
      "Processing Record 32 of Set 8 : statesville\n",
      "Processing Record 33 of Set 8 : paita\n",
      "Processing Record 34 of Set 8 : sibu\n",
      "Processing Record 35 of Set 8 : changping\n",
      "Processing Record 36 of Set 8 : hanna\n",
      "Processing Record 37 of Set 8 : tazovskiy\n",
      "Processing Record 38 of Set 8 : pryozerne\n",
      "Processing Record 39 of Set 8 : solnechnyy\n",
      "Processing Record 40 of Set 8 : funtua\n",
      "Processing Record 41 of Set 8 : svetlogorsk\n",
      "Processing Record 42 of Set 8 : honningsvag\n",
      "Processing Record 43 of Set 8 : monrovia\n",
      "Processing Record 44 of Set 8 : sola\n",
      "Processing Record 45 of Set 8 : cap-aux-meules\n",
      "City not found. Skipping...\n",
      "Processing Record 46 of Set 8 : labuhan\n",
      "Processing Record 47 of Set 8 : west bay\n",
      "City not found. Skipping...\n",
      "Processing Record 48 of Set 8 : saint-pierre\n",
      "Processing Record 49 of Set 8 : kirakira\n",
      "Processing Record 50 of Set 8 : taua\n",
      "Processing Record 0 of Set 9 : salalah\n",
      "Processing Record 1 of Set 9 : graaff-reinet\n",
      "Processing Record 2 of Set 9 : bandarbeyla\n",
      "Processing Record 3 of Set 9 : trairi\n",
      "Processing Record 4 of Set 9 : aswan\n",
      "Processing Record 5 of Set 9 : shilovo\n",
      "Processing Record 6 of Set 9 : nizhniy odes\n",
      "Processing Record 7 of Set 9 : eston\n",
      "Processing Record 8 of Set 9 : high level\n",
      "City not found. Skipping...\n",
      "Processing Record 9 of Set 9 : nishihara\n",
      "Processing Record 10 of Set 9 : tezu\n",
      "Processing Record 11 of Set 9 : raudeberg\n",
      "Processing Record 12 of Set 9 : moscow\n",
      "City not found. Skipping...\n",
      "Processing Record 13 of Set 9 : coutances\n",
      "Processing Record 14 of Set 9 : nago\n",
      "Processing Record 15 of Set 9 : popondetta\n",
      "Processing Record 16 of Set 9 : amherstburg\n",
      "Processing Record 17 of Set 9 : morrope\n",
      "Processing Record 18 of Set 9 : odesskoye\n",
      "Processing Record 19 of Set 9 : sofronea\n",
      "City not found. Skipping...\n",
      "Processing Record 20 of Set 9 : grimshaw\n",
      "Processing Record 21 of Set 9 : morgan city\n",
      "Processing Record 22 of Set 9 : cururupu\n",
      "Processing Record 23 of Set 9 : molteno\n",
      "Processing Record 24 of Set 9 : kruisfontein\n",
      "Processing Record 25 of Set 9 : vila\n",
      "Processing Record 26 of Set 9 : mitsamiouli\n",
      "Processing Record 27 of Set 9 : lobito\n",
      "Processing Record 28 of Set 9 : kuybysheve\n",
      "Processing Record 29 of Set 9 : aras\n",
      "Processing Record 30 of Set 9 : homer\n",
      "Processing Record 31 of Set 9 : mednogorskiy\n",
      "Processing Record 32 of Set 9 : moose factory\n",
      "Processing Record 33 of Set 9 : shache\n",
      "City not found. Skipping...\n",
      "Processing Record 34 of Set 9 : san luis\n",
      "Processing Record 35 of Set 9 : avera\n",
      "Processing Record 36 of Set 9 : stromness\n",
      "Processing Record 37 of Set 9 : biala podlaska\n",
      "Processing Record 38 of Set 9 : kerchevskiy\n",
      "Processing Record 39 of Set 9 : hervey bay\n",
      "Processing Record 40 of Set 9 : port-gentil\n",
      "Processing Record 41 of Set 9 : waingapu\n",
      "Processing Record 42 of Set 9 : guisijan\n",
      "Processing Record 43 of Set 9 : kutum\n",
      "Processing Record 44 of Set 9 : kontagora\n",
      "Processing Record 45 of Set 9 : petropavlovsk-kamchatskiy\n",
      "Processing Record 46 of Set 9 : haimen\n",
      "Processing Record 47 of Set 9 : seymchan\n",
      "Processing Record 48 of Set 9 : farsund\n",
      "Processing Record 49 of Set 9 : ondarroa\n",
      "Processing Record 50 of Set 9 : jiuquan\n",
      "Processing Record 0 of Set 10 : barra\n",
      "Processing Record 1 of Set 10 : te anau\n",
      "Processing Record 2 of Set 10 : varhaug\n",
      "Processing Record 3 of Set 10 : uyemskiy\n",
      "Processing Record 4 of Set 10 : presidente medici\n",
      "Processing Record 5 of Set 10 : ghugus\n",
      "Processing Record 6 of Set 10 : nakanojo\n",
      "Processing Record 7 of Set 10 : china\n",
      "Processing Record 8 of Set 10 : srednekolymsk\n",
      "Processing Record 9 of Set 10 : padang\n",
      "Processing Record 10 of Set 10 : lockhart\n",
      "Processing Record 11 of Set 10 : dongsheng\n",
      "Processing Record 12 of Set 10 : mabaruma\n",
      "Processing Record 13 of Set 10 : finnsnes\n",
      "Processing Record 14 of Set 10 : olinda\n",
      "City not found. Skipping...\n",
      "Processing Record 15 of Set 10 : sao jose da coroa grande\n",
      "Processing Record 16 of Set 10 : todos santos\n",
      "Processing Record 17 of Set 10 : los algarrobos\n",
      "Processing Record 18 of Set 10 : nhulunbuy\n",
      "Processing Record 19 of Set 10 : saint-augustin\n",
      "Processing Record 20 of Set 10 : iwaki\n",
      "Processing Record 21 of Set 10 : kandi\n",
      "Processing Record 22 of Set 10 : canutama\n",
      "City not found. Skipping...\n",
      "Processing Record 23 of Set 10 : massaguet\n",
      "Processing Record 24 of Set 10 : mlonggo\n",
      "Processing Record 25 of Set 10 : colina\n",
      "Processing Record 26 of Set 10 : nautla\n",
      "Processing Record 27 of Set 10 : gravdal\n",
      "Processing Record 28 of Set 10 : moussoro\n",
      "Processing Record 29 of Set 10 : marsh harbour\n",
      "Processing Record 30 of Set 10 : akyab\n",
      "Processing Record 31 of Set 10 : kushmurun\n",
      "Processing Record 32 of Set 10 : miri\n",
      "City not found. Skipping...\n",
      "Processing Record 33 of Set 10 : halifax\n",
      "Processing Record 34 of Set 10 : takoradi\n",
      "Processing Record 35 of Set 10 : portland\n",
      "Processing Record 36 of Set 10 : teberda\n",
      "Processing Record 37 of Set 10 : tevriz\n",
      "Processing Record 38 of Set 10 : pangnirtung\n",
      "Processing Record 39 of Set 10 : andros town\n",
      "Processing Record 40 of Set 10 : beaverlodge\n",
      "Processing Record 41 of Set 10 : altay\n",
      "Processing Record 42 of Set 10 : muisne\n",
      "Processing Record 43 of Set 10 : katherine\n",
      "Processing Record 44 of Set 10 : longyearbyen\n",
      "Processing Record 45 of Set 10 : ambilobe\n",
      "Processing Record 46 of Set 10 : karratha\n",
      "Processing Record 47 of Set 10 : poum\n",
      "Processing Record 48 of Set 10 : maues\n",
      "Processing Record 49 of Set 10 : baton rouge\n",
      "Processing Record 50 of Set 10 : poso\n",
      "Processing Record 0 of Set 11 : namie\n",
      "Processing Record 1 of Set 11 : bushehr\n",
      "Processing Record 2 of Set 11 : basudebpur\n",
      "Processing Record 3 of Set 11 : vila franca do campo\n",
      "Processing Record 4 of Set 11 : cassilandia\n",
      "Processing Record 5 of Set 11 : la asuncion\n",
      "Processing Record 6 of Set 11 : abu kamal\n",
      "Processing Record 7 of Set 11 : the pas\n",
      "Processing Record 8 of Set 11 : conde\n",
      "City not found. Skipping...\n",
      "Processing Record 9 of Set 11 : itoman\n",
      "Processing Record 10 of Set 11 : vung tau\n",
      "Processing Record 11 of Set 11 : altea\n",
      "Processing Record 12 of Set 11 : gweta\n",
      "City not found. Skipping...\n",
      "Processing Record 13 of Set 11 : lexington\n",
      "Processing Record 14 of Set 11 : pastavy\n",
      "Processing Record 15 of Set 11 : wakkanai\n",
      "City not found. Skipping...\n",
      "Processing Record 16 of Set 11 : havoysund\n",
      "City not found. Skipping...\n",
      "Processing Record 17 of Set 11 : kenmare\n",
      "Processing Record 18 of Set 11 : jardim\n",
      "Processing Record 19 of Set 11 : bacolod\n",
      "Processing Record 20 of Set 11 : los llanos de aridane\n",
      "Processing Record 21 of Set 11 : tahta\n",
      "Processing Record 22 of Set 11 : palafrugell\n",
      "Processing Record 23 of Set 11 : beloha\n",
      "Processing Record 24 of Set 11 : sinnamary\n",
      "Processing Record 25 of Set 11 : inuvik\n",
      "Processing Record 26 of Set 11 : koulamoutou\n",
      "Processing Record 27 of Set 11 : lethem\n",
      "Processing Record 28 of Set 11 : wexford\n",
      "Processing Record 29 of Set 11 : kavieng\n",
      "Processing Record 30 of Set 11 : grootfontein\n",
      "Processing Record 31 of Set 11 : kloulklubed\n",
      "Processing Record 32 of Set 11 : hokitika\n",
      "Processing Record 33 of Set 11 : luanda\n",
      "Processing Record 34 of Set 11 : enterprise\n",
      "Processing Record 35 of Set 11 : kavaratti\n",
      "Processing Record 36 of Set 11 : neuquen\n",
      "Processing Record 37 of Set 11 : boddam\n",
      "Processing Record 38 of Set 11 : udachnyy\n",
      "Processing Record 39 of Set 11 : dawson creek\n",
      "Processing Record 40 of Set 11 : tecoanapa\n",
      "Processing Record 41 of Set 11 : carutapera\n",
      "Processing Record 42 of Set 11 : tonj\n",
      "Processing Record 43 of Set 11 : waharoa\n",
      "Processing Record 44 of Set 11 : moengo\n",
      "Processing Record 45 of Set 11 : gemena\n",
      "Processing Record 46 of Set 11 : tura\n",
      "Processing Record 47 of Set 11 : san jose\n",
      "Processing Record 48 of Set 11 : jiazi\n",
      "Processing Record 49 of Set 11 : bemidji\n",
      "Processing Record 50 of Set 11 : ilebo\n",
      "Processing Record 0 of Set 12 : robertsport\n"
     ]
    }
   ],
   "source": [
    "city_name = []\n",
    "cloudiness_list = []\n",
    "country_list = []\n",
    "date_list = []\n",
    "humidity_list = []\n",
    "lat_list = []\n",
    "lng_list = []\n",
    "max_temp_list = []\n",
    "wind_speed_list = []\n",
    "index_counter = 0\n",
    "set_counter = 1\n",
    "\n",
    "\n",
    "base_url = \"http://api.openweathermap.org/data/2.5/weather?\"\n",
    "units = \"imperial\"\n",
    "query_url = f\"{base_url}appid={weather_api_key}&units={units}&q=\"\n",
    "\n",
    "\n",
    "# For each city name in cities list, do below things...\n",
    "for index, city in enumerate(cities, start = 1):\n",
    "    try:\n",
    "        response = requests.get(query_url + city).json()\n",
    "        city_name.append(response[\"name\"])\n",
    "        cloudiness_list.append(response[\"clouds\"][\"all\"])\n",
    "        country_list.append(response[\"sys\"][\"country\"])\n",
    "        date_list.append(response[\"dt\"])\n",
    "        humidity_list.append(response[\"main\"][\"humidity\"])\n",
    "        lat_list.append(response[\"coord\"][\"lat\"])\n",
    "        lng_list.append(response[\"coord\"][\"lon\"])\n",
    "        max_temp_list.append(response['main']['temp_max'])\n",
    "        wind_speed_list.append(response[\"wind\"][\"speed\"])\n",
    "        if index_counter > 49:\n",
    "            index_counter = 0\n",
    "            set_counter = set_counter + 1\n",
    "    \n",
    "        else:\n",
    "            index_counter = index_counter + 1\n",
    "            \n",
    "        print(f\"Processing Record {index_counter} of Set {set_counter} : {city}\") \n",
    "  \n",
    "    except(KeyError, IndexError):\n",
    "        print(\"City not found. Skipping...\")\n",
    "\n"
   ]
  },
  {
   "cell_type": "markdown",
   "metadata": {},
   "source": [
    "### Convert Raw Data to DataFrame\n",
    "* Export the city data into a .csv.\n",
    "* Display the DataFrame"
   ]
  },
  {
   "cell_type": "code",
   "execution_count": 19,
   "metadata": {},
   "outputs": [],
   "source": [
    "# Create a panda data frame using data retrieved\n",
    "weather_df = pd.DataFrame({ \n",
    "                \"City\" : city_name,\n",
    "                \"Cloudiness\" : cloudiness_list,\n",
    "                \"Country\" : country_list,\n",
    "                \"Date\" : date_list,\n",
    "                \"Humidity\" : humidity_list,\n",
    "                \"Lat\" : lat_list,\n",
    "                \"Lng\" : lng_list,\n",
    "                \"Max Temp\" : max_temp_list,\n",
    "                \"Wind Speed\" : wind_speed_list\n",
    "})\n"
   ]
  },
  {
   "cell_type": "code",
   "execution_count": 20,
   "metadata": {},
   "outputs": [
    {
     "data": {
      "text/plain": [
       "City          561\n",
       "Cloudiness    561\n",
       "Country       561\n",
       "Date          561\n",
       "Humidity      561\n",
       "Lat           561\n",
       "Lng           561\n",
       "Max Temp      561\n",
       "Wind Speed    561\n",
       "dtype: int64"
      ]
     },
     "execution_count": 20,
     "metadata": {},
     "output_type": "execute_result"
    }
   ],
   "source": [
    "# Count data\n",
    "weather_df.count()"
   ]
  },
  {
   "cell_type": "code",
   "execution_count": 21,
   "metadata": {},
   "outputs": [
    {
     "data": {
      "text/html": [
       "<div>\n",
       "<style scoped>\n",
       "    .dataframe tbody tr th:only-of-type {\n",
       "        vertical-align: middle;\n",
       "    }\n",
       "\n",
       "    .dataframe tbody tr th {\n",
       "        vertical-align: top;\n",
       "    }\n",
       "\n",
       "    .dataframe thead th {\n",
       "        text-align: right;\n",
       "    }\n",
       "</style>\n",
       "<table border=\"1\" class=\"dataframe\">\n",
       "  <thead>\n",
       "    <tr style=\"text-align: right;\">\n",
       "      <th></th>\n",
       "      <th>City</th>\n",
       "      <th>Cloudiness</th>\n",
       "      <th>Country</th>\n",
       "      <th>Date</th>\n",
       "      <th>Humidity</th>\n",
       "      <th>Lat</th>\n",
       "      <th>Lng</th>\n",
       "      <th>Max Temp</th>\n",
       "      <th>Wind Speed</th>\n",
       "    </tr>\n",
       "  </thead>\n",
       "  <tbody>\n",
       "    <tr>\n",
       "      <th>0</th>\n",
       "      <td>Albany</td>\n",
       "      <td>100</td>\n",
       "      <td>US</td>\n",
       "      <td>1619926869</td>\n",
       "      <td>54</td>\n",
       "      <td>42.6001</td>\n",
       "      <td>-73.9662</td>\n",
       "      <td>48.00</td>\n",
       "      <td>1.88</td>\n",
       "    </tr>\n",
       "    <tr>\n",
       "      <th>1</th>\n",
       "      <td>Barrow</td>\n",
       "      <td>90</td>\n",
       "      <td>US</td>\n",
       "      <td>1619926893</td>\n",
       "      <td>86</td>\n",
       "      <td>71.2906</td>\n",
       "      <td>-156.7887</td>\n",
       "      <td>19.40</td>\n",
       "      <td>12.66</td>\n",
       "    </tr>\n",
       "    <tr>\n",
       "      <th>2</th>\n",
       "      <td>Arraial do Cabo</td>\n",
       "      <td>100</td>\n",
       "      <td>BR</td>\n",
       "      <td>1619926884</td>\n",
       "      <td>68</td>\n",
       "      <td>-22.9661</td>\n",
       "      <td>-42.0278</td>\n",
       "      <td>73.00</td>\n",
       "      <td>10.16</td>\n",
       "    </tr>\n",
       "    <tr>\n",
       "      <th>3</th>\n",
       "      <td>Ushuaia</td>\n",
       "      <td>20</td>\n",
       "      <td>AR</td>\n",
       "      <td>1619926866</td>\n",
       "      <td>87</td>\n",
       "      <td>-54.8000</td>\n",
       "      <td>-68.3000</td>\n",
       "      <td>37.40</td>\n",
       "      <td>5.75</td>\n",
       "    </tr>\n",
       "    <tr>\n",
       "      <th>4</th>\n",
       "      <td>Busselton</td>\n",
       "      <td>50</td>\n",
       "      <td>AU</td>\n",
       "      <td>1619926884</td>\n",
       "      <td>67</td>\n",
       "      <td>-33.6500</td>\n",
       "      <td>115.3333</td>\n",
       "      <td>68.00</td>\n",
       "      <td>2.95</td>\n",
       "    </tr>\n",
       "    <tr>\n",
       "      <th>...</th>\n",
       "      <td>...</td>\n",
       "      <td>...</td>\n",
       "      <td>...</td>\n",
       "      <td>...</td>\n",
       "      <td>...</td>\n",
       "      <td>...</td>\n",
       "      <td>...</td>\n",
       "      <td>...</td>\n",
       "      <td>...</td>\n",
       "    </tr>\n",
       "    <tr>\n",
       "      <th>556</th>\n",
       "      <td>San Jose</td>\n",
       "      <td>20</td>\n",
       "      <td>US</td>\n",
       "      <td>1619927432</td>\n",
       "      <td>67</td>\n",
       "      <td>37.3394</td>\n",
       "      <td>-121.8950</td>\n",
       "      <td>57.20</td>\n",
       "      <td>10.36</td>\n",
       "    </tr>\n",
       "    <tr>\n",
       "      <th>557</th>\n",
       "      <td>Jiazi</td>\n",
       "      <td>97</td>\n",
       "      <td>CN</td>\n",
       "      <td>1619927555</td>\n",
       "      <td>58</td>\n",
       "      <td>22.8779</td>\n",
       "      <td>116.0670</td>\n",
       "      <td>82.98</td>\n",
       "      <td>9.13</td>\n",
       "    </tr>\n",
       "    <tr>\n",
       "      <th>558</th>\n",
       "      <td>Bemidji</td>\n",
       "      <td>1</td>\n",
       "      <td>US</td>\n",
       "      <td>1619927281</td>\n",
       "      <td>39</td>\n",
       "      <td>47.4736</td>\n",
       "      <td>-94.8803</td>\n",
       "      <td>61.00</td>\n",
       "      <td>5.75</td>\n",
       "    </tr>\n",
       "    <tr>\n",
       "      <th>559</th>\n",
       "      <td>Ilebo</td>\n",
       "      <td>100</td>\n",
       "      <td>CD</td>\n",
       "      <td>1619927556</td>\n",
       "      <td>98</td>\n",
       "      <td>-4.3167</td>\n",
       "      <td>20.5833</td>\n",
       "      <td>70.32</td>\n",
       "      <td>2.06</td>\n",
       "    </tr>\n",
       "    <tr>\n",
       "      <th>560</th>\n",
       "      <td>Robertsport</td>\n",
       "      <td>20</td>\n",
       "      <td>LR</td>\n",
       "      <td>1619926957</td>\n",
       "      <td>79</td>\n",
       "      <td>6.7533</td>\n",
       "      <td>-11.3686</td>\n",
       "      <td>81.37</td>\n",
       "      <td>7.70</td>\n",
       "    </tr>\n",
       "  </tbody>\n",
       "</table>\n",
       "<p>561 rows × 9 columns</p>\n",
       "</div>"
      ],
      "text/plain": [
       "                City  Cloudiness Country        Date  Humidity      Lat  \\\n",
       "0             Albany         100      US  1619926869        54  42.6001   \n",
       "1             Barrow          90      US  1619926893        86  71.2906   \n",
       "2    Arraial do Cabo         100      BR  1619926884        68 -22.9661   \n",
       "3            Ushuaia          20      AR  1619926866        87 -54.8000   \n",
       "4          Busselton          50      AU  1619926884        67 -33.6500   \n",
       "..               ...         ...     ...         ...       ...      ...   \n",
       "556         San Jose          20      US  1619927432        67  37.3394   \n",
       "557            Jiazi          97      CN  1619927555        58  22.8779   \n",
       "558          Bemidji           1      US  1619927281        39  47.4736   \n",
       "559            Ilebo         100      CD  1619927556        98  -4.3167   \n",
       "560      Robertsport          20      LR  1619926957        79   6.7533   \n",
       "\n",
       "          Lng  Max Temp  Wind Speed  \n",
       "0    -73.9662     48.00        1.88  \n",
       "1   -156.7887     19.40       12.66  \n",
       "2    -42.0278     73.00       10.16  \n",
       "3    -68.3000     37.40        5.75  \n",
       "4    115.3333     68.00        2.95  \n",
       "..        ...       ...         ...  \n",
       "556 -121.8950     57.20       10.36  \n",
       "557  116.0670     82.98        9.13  \n",
       "558  -94.8803     61.00        5.75  \n",
       "559   20.5833     70.32        2.06  \n",
       "560  -11.3686     81.37        7.70  \n",
       "\n",
       "[561 rows x 9 columns]"
      ]
     },
     "execution_count": 21,
     "metadata": {},
     "output_type": "execute_result"
    }
   ],
   "source": [
    "weather_df\n"
   ]
  },
  {
   "cell_type": "code",
   "execution_count": 22,
   "metadata": {
    "scrolled": true
   },
   "outputs": [],
   "source": [
    "weather_df.to_csv(\"output_data/cities.csv\", index=False)"
   ]
  },
  {
   "cell_type": "code",
   "execution_count": 23,
   "metadata": {},
   "outputs": [
    {
     "data": {
      "text/html": [
       "<div>\n",
       "<style scoped>\n",
       "    .dataframe tbody tr th:only-of-type {\n",
       "        vertical-align: middle;\n",
       "    }\n",
       "\n",
       "    .dataframe tbody tr th {\n",
       "        vertical-align: top;\n",
       "    }\n",
       "\n",
       "    .dataframe thead th {\n",
       "        text-align: right;\n",
       "    }\n",
       "</style>\n",
       "<table border=\"1\" class=\"dataframe\">\n",
       "  <thead>\n",
       "    <tr style=\"text-align: right;\">\n",
       "      <th></th>\n",
       "      <th>City</th>\n",
       "      <th>Cloudiness</th>\n",
       "      <th>Country</th>\n",
       "      <th>Date</th>\n",
       "      <th>Humidity</th>\n",
       "      <th>Lat</th>\n",
       "      <th>Lng</th>\n",
       "      <th>Max Temp</th>\n",
       "      <th>Wind Speed</th>\n",
       "    </tr>\n",
       "  </thead>\n",
       "  <tbody>\n",
       "    <tr>\n",
       "      <th>0</th>\n",
       "      <td>Albany</td>\n",
       "      <td>100</td>\n",
       "      <td>US</td>\n",
       "      <td>1619926869</td>\n",
       "      <td>54</td>\n",
       "      <td>42.6001</td>\n",
       "      <td>-73.9662</td>\n",
       "      <td>48.0</td>\n",
       "      <td>1.88</td>\n",
       "    </tr>\n",
       "    <tr>\n",
       "      <th>1</th>\n",
       "      <td>Barrow</td>\n",
       "      <td>90</td>\n",
       "      <td>US</td>\n",
       "      <td>1619926893</td>\n",
       "      <td>86</td>\n",
       "      <td>71.2906</td>\n",
       "      <td>-156.7887</td>\n",
       "      <td>19.4</td>\n",
       "      <td>12.66</td>\n",
       "    </tr>\n",
       "    <tr>\n",
       "      <th>2</th>\n",
       "      <td>Arraial do Cabo</td>\n",
       "      <td>100</td>\n",
       "      <td>BR</td>\n",
       "      <td>1619926884</td>\n",
       "      <td>68</td>\n",
       "      <td>-22.9661</td>\n",
       "      <td>-42.0278</td>\n",
       "      <td>73.0</td>\n",
       "      <td>10.16</td>\n",
       "    </tr>\n",
       "    <tr>\n",
       "      <th>3</th>\n",
       "      <td>Ushuaia</td>\n",
       "      <td>20</td>\n",
       "      <td>AR</td>\n",
       "      <td>1619926866</td>\n",
       "      <td>87</td>\n",
       "      <td>-54.8000</td>\n",
       "      <td>-68.3000</td>\n",
       "      <td>37.4</td>\n",
       "      <td>5.75</td>\n",
       "    </tr>\n",
       "    <tr>\n",
       "      <th>4</th>\n",
       "      <td>Busselton</td>\n",
       "      <td>50</td>\n",
       "      <td>AU</td>\n",
       "      <td>1619926884</td>\n",
       "      <td>67</td>\n",
       "      <td>-33.6500</td>\n",
       "      <td>115.3333</td>\n",
       "      <td>68.0</td>\n",
       "      <td>2.95</td>\n",
       "    </tr>\n",
       "  </tbody>\n",
       "</table>\n",
       "</div>"
      ],
      "text/plain": [
       "              City  Cloudiness Country        Date  Humidity      Lat  \\\n",
       "0           Albany         100      US  1619926869        54  42.6001   \n",
       "1           Barrow          90      US  1619926893        86  71.2906   \n",
       "2  Arraial do Cabo         100      BR  1619926884        68 -22.9661   \n",
       "3          Ushuaia          20      AR  1619926866        87 -54.8000   \n",
       "4        Busselton          50      AU  1619926884        67 -33.6500   \n",
       "\n",
       "        Lng  Max Temp  Wind Speed  \n",
       "0  -73.9662      48.0        1.88  \n",
       "1 -156.7887      19.4       12.66  \n",
       "2  -42.0278      73.0       10.16  \n",
       "3  -68.3000      37.4        5.75  \n",
       "4  115.3333      68.0        2.95  "
      ]
     },
     "execution_count": 23,
     "metadata": {},
     "output_type": "execute_result"
    }
   ],
   "source": [
    "weather_df.head()\n"
   ]
  },
  {
   "cell_type": "markdown",
   "metadata": {},
   "source": [
    "## Inspect the data and remove the cities where the humidity > 100%.\n",
    "----\n",
    "Skip this step if there are no cities that have humidity > 100%. "
   ]
  },
  {
   "cell_type": "code",
   "execution_count": 24,
   "metadata": {},
   "outputs": [
    {
     "name": "stdout",
     "output_type": "stream",
     "text": [
      "By inspection, the maximum humidity value is 100%, so there are no values greater than 100% in our data!\n"
     ]
    },
    {
     "data": {
      "text/plain": [
       "count    561.000000\n",
       "mean      70.151515\n",
       "std       21.630671\n",
       "min        6.000000\n",
       "25%       59.000000\n",
       "50%       74.000000\n",
       "75%       87.000000\n",
       "max      100.000000\n",
       "Name: Humidity, dtype: float64"
      ]
     },
     "execution_count": 24,
     "metadata": {},
     "output_type": "execute_result"
    }
   ],
   "source": [
    "test_stats = weather_df[\"Humidity\"].describe(include = \"all\")\n",
    "print(\"By inspection, the maximum humidity value is 100%, so there are no values greater than 100% in our data!\")\n",
    "test_stats"
   ]
  },
  {
   "cell_type": "code",
   "execution_count": 25,
   "metadata": {},
   "outputs": [],
   "source": [
    "#  Get the indices of cities that have humidity over 100%.\n",
    "#there are no values greater than 100% in our data"
   ]
  },
  {
   "cell_type": "code",
   "execution_count": 26,
   "metadata": {},
   "outputs": [],
   "source": [
    "# Make a new DataFrame equal to the city data to drop all humidity outliers by index.\n",
    "# Passing \"inplace=False\" will make a copy of the city_data DataFrame, which we call \"clean_city_data\".\n",
    "clean_city_data = weather_df"
   ]
  },
  {
   "cell_type": "code",
   "execution_count": 27,
   "metadata": {
    "scrolled": true
   },
   "outputs": [
    {
     "data": {
      "text/html": [
       "<div>\n",
       "<style scoped>\n",
       "    .dataframe tbody tr th:only-of-type {\n",
       "        vertical-align: middle;\n",
       "    }\n",
       "\n",
       "    .dataframe tbody tr th {\n",
       "        vertical-align: top;\n",
       "    }\n",
       "\n",
       "    .dataframe thead th {\n",
       "        text-align: right;\n",
       "    }\n",
       "</style>\n",
       "<table border=\"1\" class=\"dataframe\">\n",
       "  <thead>\n",
       "    <tr style=\"text-align: right;\">\n",
       "      <th></th>\n",
       "      <th>City</th>\n",
       "      <th>Cloudiness</th>\n",
       "      <th>Country</th>\n",
       "      <th>Date</th>\n",
       "      <th>Humidity</th>\n",
       "      <th>Lat</th>\n",
       "      <th>Lng</th>\n",
       "      <th>Max Temp</th>\n",
       "      <th>Wind Speed</th>\n",
       "    </tr>\n",
       "  </thead>\n",
       "  <tbody>\n",
       "    <tr>\n",
       "      <th>0</th>\n",
       "      <td>Albany</td>\n",
       "      <td>100</td>\n",
       "      <td>US</td>\n",
       "      <td>1619926869</td>\n",
       "      <td>54</td>\n",
       "      <td>42.6001</td>\n",
       "      <td>-73.9662</td>\n",
       "      <td>48.00</td>\n",
       "      <td>1.88</td>\n",
       "    </tr>\n",
       "    <tr>\n",
       "      <th>1</th>\n",
       "      <td>Barrow</td>\n",
       "      <td>90</td>\n",
       "      <td>US</td>\n",
       "      <td>1619926893</td>\n",
       "      <td>86</td>\n",
       "      <td>71.2906</td>\n",
       "      <td>-156.7887</td>\n",
       "      <td>19.40</td>\n",
       "      <td>12.66</td>\n",
       "    </tr>\n",
       "    <tr>\n",
       "      <th>2</th>\n",
       "      <td>Arraial do Cabo</td>\n",
       "      <td>100</td>\n",
       "      <td>BR</td>\n",
       "      <td>1619926884</td>\n",
       "      <td>68</td>\n",
       "      <td>-22.9661</td>\n",
       "      <td>-42.0278</td>\n",
       "      <td>73.00</td>\n",
       "      <td>10.16</td>\n",
       "    </tr>\n",
       "    <tr>\n",
       "      <th>3</th>\n",
       "      <td>Ushuaia</td>\n",
       "      <td>20</td>\n",
       "      <td>AR</td>\n",
       "      <td>1619926866</td>\n",
       "      <td>87</td>\n",
       "      <td>-54.8000</td>\n",
       "      <td>-68.3000</td>\n",
       "      <td>37.40</td>\n",
       "      <td>5.75</td>\n",
       "    </tr>\n",
       "    <tr>\n",
       "      <th>4</th>\n",
       "      <td>Busselton</td>\n",
       "      <td>50</td>\n",
       "      <td>AU</td>\n",
       "      <td>1619926884</td>\n",
       "      <td>67</td>\n",
       "      <td>-33.6500</td>\n",
       "      <td>115.3333</td>\n",
       "      <td>68.00</td>\n",
       "      <td>2.95</td>\n",
       "    </tr>\n",
       "    <tr>\n",
       "      <th>...</th>\n",
       "      <td>...</td>\n",
       "      <td>...</td>\n",
       "      <td>...</td>\n",
       "      <td>...</td>\n",
       "      <td>...</td>\n",
       "      <td>...</td>\n",
       "      <td>...</td>\n",
       "      <td>...</td>\n",
       "      <td>...</td>\n",
       "    </tr>\n",
       "    <tr>\n",
       "      <th>556</th>\n",
       "      <td>San Jose</td>\n",
       "      <td>20</td>\n",
       "      <td>US</td>\n",
       "      <td>1619927432</td>\n",
       "      <td>67</td>\n",
       "      <td>37.3394</td>\n",
       "      <td>-121.8950</td>\n",
       "      <td>57.20</td>\n",
       "      <td>10.36</td>\n",
       "    </tr>\n",
       "    <tr>\n",
       "      <th>557</th>\n",
       "      <td>Jiazi</td>\n",
       "      <td>97</td>\n",
       "      <td>CN</td>\n",
       "      <td>1619927555</td>\n",
       "      <td>58</td>\n",
       "      <td>22.8779</td>\n",
       "      <td>116.0670</td>\n",
       "      <td>82.98</td>\n",
       "      <td>9.13</td>\n",
       "    </tr>\n",
       "    <tr>\n",
       "      <th>558</th>\n",
       "      <td>Bemidji</td>\n",
       "      <td>1</td>\n",
       "      <td>US</td>\n",
       "      <td>1619927281</td>\n",
       "      <td>39</td>\n",
       "      <td>47.4736</td>\n",
       "      <td>-94.8803</td>\n",
       "      <td>61.00</td>\n",
       "      <td>5.75</td>\n",
       "    </tr>\n",
       "    <tr>\n",
       "      <th>559</th>\n",
       "      <td>Ilebo</td>\n",
       "      <td>100</td>\n",
       "      <td>CD</td>\n",
       "      <td>1619927556</td>\n",
       "      <td>98</td>\n",
       "      <td>-4.3167</td>\n",
       "      <td>20.5833</td>\n",
       "      <td>70.32</td>\n",
       "      <td>2.06</td>\n",
       "    </tr>\n",
       "    <tr>\n",
       "      <th>560</th>\n",
       "      <td>Robertsport</td>\n",
       "      <td>20</td>\n",
       "      <td>LR</td>\n",
       "      <td>1619926957</td>\n",
       "      <td>79</td>\n",
       "      <td>6.7533</td>\n",
       "      <td>-11.3686</td>\n",
       "      <td>81.37</td>\n",
       "      <td>7.70</td>\n",
       "    </tr>\n",
       "  </tbody>\n",
       "</table>\n",
       "<p>561 rows × 9 columns</p>\n",
       "</div>"
      ],
      "text/plain": [
       "                City  Cloudiness Country        Date  Humidity      Lat  \\\n",
       "0             Albany         100      US  1619926869        54  42.6001   \n",
       "1             Barrow          90      US  1619926893        86  71.2906   \n",
       "2    Arraial do Cabo         100      BR  1619926884        68 -22.9661   \n",
       "3            Ushuaia          20      AR  1619926866        87 -54.8000   \n",
       "4          Busselton          50      AU  1619926884        67 -33.6500   \n",
       "..               ...         ...     ...         ...       ...      ...   \n",
       "556         San Jose          20      US  1619927432        67  37.3394   \n",
       "557            Jiazi          97      CN  1619927555        58  22.8779   \n",
       "558          Bemidji           1      US  1619927281        39  47.4736   \n",
       "559            Ilebo         100      CD  1619927556        98  -4.3167   \n",
       "560      Robertsport          20      LR  1619926957        79   6.7533   \n",
       "\n",
       "          Lng  Max Temp  Wind Speed  \n",
       "0    -73.9662     48.00        1.88  \n",
       "1   -156.7887     19.40       12.66  \n",
       "2    -42.0278     73.00       10.16  \n",
       "3    -68.3000     37.40        5.75  \n",
       "4    115.3333     68.00        2.95  \n",
       "..        ...       ...         ...  \n",
       "556 -121.8950     57.20       10.36  \n",
       "557  116.0670     82.98        9.13  \n",
       "558  -94.8803     61.00        5.75  \n",
       "559   20.5833     70.32        2.06  \n",
       "560  -11.3686     81.37        7.70  \n",
       "\n",
       "[561 rows x 9 columns]"
      ]
     },
     "execution_count": 27,
     "metadata": {},
     "output_type": "execute_result"
    }
   ],
   "source": [
    "\n",
    "clean_city_data"
   ]
  },
  {
   "cell_type": "markdown",
   "metadata": {},
   "source": [
    "## Plotting the Data\n",
    "* Use proper labeling of the plots using plot titles (including date of analysis) and axes labels.\n",
    "* Save the plotted figures as .pngs."
   ]
  },
  {
   "cell_type": "markdown",
   "metadata": {},
   "source": [
    "## Latitude vs. Temperature Plot"
   ]
  },
  {
   "cell_type": "code",
   "execution_count": 28,
   "metadata": {
    "scrolled": true
   },
   "outputs": [
    {
     "data": {
      "image/png": "[encoded data removed]",
      "text/plain": [
       "<Figure size 432x288 with 1 Axes>"
      ]
     },
     "metadata": {
      "needs_background": "light"
     },
     "output_type": "display_data"
    }
   ],
   "source": [
    "plt.scatter(clean_city_data[\"Lat\"], clean_city_data[\"Max Temp\"], facecolor = \"steelblue\", edgecolor = \"black\")\n",
    "\n",
    "# Set title\n",
    "plt.title(\"City Latitude vs. Max Temperature \")\n",
    "\n",
    "# Set x axis label\n",
    "plt.xlabel(\"Laitude\")\n",
    "\n",
    "# Set y axis label\n",
    "plt.ylabel(\"Max Temperature (F)\")\n",
    "\n",
    "# Set grid line\n",
    "plt.grid(linestyle='-', linewidth=1, alpha = 0.5)\n",
    "\n",
    "# Save the plotted figure as .pngs\n",
    "plt.savefig(\"../Images/City Latitude vs Max Temperature.png\")"
   ]
  },
  {
   "cell_type": "markdown",
   "metadata": {},
   "source": [
    "## Latitude vs. Humidity Plot"
   ]
  },
  {
   "cell_type": "code",
   "execution_count": 29,
   "metadata": {},
   "outputs": [
    {
     "data": {
      "image/png": "[encoded data removed]",
      "text/plain": [
       "<Figure size 432x288 with 1 Axes>"
      ]
     },
     "metadata": {
      "needs_background": "light"
     },
     "output_type": "display_data"
    }
   ],
   "source": [
    "plt.scatter(clean_city_data[\"Lat\"], clean_city_data[\"Humidity\"], color = \"steelblue\", edgecolor = \"black\")\n",
    "\n",
    "plt.title(\"City Latitude vs. Humidity\")\n",
    "plt.xlabel(\"Latitude\")\n",
    "plt.ylabel(\"Humidity\")\n",
    "plt.grid(True)\n",
    "plt.savefig(\"../Images/City Latitude vs Humidity.png\")"
   ]
  },
  {
   "cell_type": "markdown",
   "metadata": {},
   "source": [
    "## Latitude vs. Cloudiness Plot"
   ]
  },
  {
   "cell_type": "code",
   "execution_count": 30,
   "metadata": {},
   "outputs": [
    {
     "data": {
      "image/png": "[encoded data removed]",
      "text/plain": [
       "<Figure size 432x288 with 1 Axes>"
      ]
     },
     "metadata": {
      "needs_background": "light"
     },
     "output_type": "display_data"
    }
   ],
   "source": [
    "plt.scatter(clean_city_data[\"Lat\"], clean_city_data[\"Cloudiness\"], color = \"steelblue\", edgecolor = \"black\")\n",
    "\n",
    "plt.title(\"City Latitude vs. Cloudiness\")\n",
    "plt.xlabel(\"Latitude\")\n",
    "plt.ylabel(\"Cloudiness\")\n",
    "plt.grid(True)\n",
    "plt.savefig(\"../Images/City Latitude vs Cloudiness.png\")"
   ]
  },
  {
   "cell_type": "markdown",
   "metadata": {},
   "source": [
    "## Latitude vs. Wind Speed Plot"
   ]
  },
  {
   "cell_type": "code",
   "execution_count": 31,
   "metadata": {},
   "outputs": [
    {
     "data": {
      "image/png": "[encoded data removed]",
      "text/plain": [
       "<Figure size 432x288 with 1 Axes>"
      ]
     },
     "metadata": {
      "needs_background": "light"
     },
     "output_type": "display_data"
    }
   ],
   "source": [
    "#Latitude vs. Wind Speed Plot scatter plot\n",
    "plt.scatter(clean_city_data[\"Lat\"], clean_city_data[\"Wind Speed\"], color = \"steelblue\", edgecolor = \"black\")\n",
    "\n",
    "plt.title(\"City Latitude vs. Wind Speed\")\n",
    "plt.xlabel(\"Latitude\")\n",
    "plt.ylabel(\"Wind Speed\")\n",
    "plt.grid(True)\n",
    "plt.savefig(\"../Images/City Latitude vs Wind Speed.png\")"
   ]
  },
  {
   "cell_type": "markdown",
   "metadata": {},
   "source": [
    "## Linear Regression"
   ]
  },
  {
   "cell_type": "code",
   "execution_count": 32,
   "metadata": {},
   "outputs": [],
   "source": [
    "def linear_reg_plot(x_values,y_values):\n",
    "    (slope, intercept, rvalue, pvalue, stderr) = linregress(x_values, y_values)\n",
    "    regress_values = x_values * slope + intercept\n",
    "    line_eq = \"y = \" + str(round(slope,2)) + \"x + \" + str(round(intercept,2))\n",
    "    plt.scatter(x_values,y_values)\n",
    "    plt.plot(x_values,regress_values,\"r-\")\n",
    "    plt.annotate(line_eq,(x_values.median(),y_values.median()),fontsize=15,color=\"red\")\n",
    "    plt.xlabel(\"Latitude\")\n",
    "    print(f\"The r-squared is: {rvalue}\")\n",
    "    plt.show()"
   ]
  },
  {
   "cell_type": "code",
   "execution_count": 33,
   "metadata": {},
   "outputs": [],
   "source": [
    "# Create Northern and Southern Hemisphere DataFrames\n",
    "Northern_hemisphere = clean_city_data.loc[clean_city_data[\"Lat\"]>0]\n",
    "Southern_hemisphere = clean_city_data.loc[clean_city_data[\"Lat\"]<0]"
   ]
  },
  {
   "cell_type": "markdown",
   "metadata": {},
   "source": [
    "####  Northern Hemisphere - Max Temp vs. Latitude Linear Regression"
   ]
  },
  {
   "cell_type": "code",
   "execution_count": 34,
   "metadata": {},
   "outputs": [
    {
     "name": "stdout",
     "output_type": "stream",
     "text": [
      "The r-squared is: -0.898696628538658\n"
     ]
    },
    {
     "data": {
      "image/png": "[encoded data removed]",
      "text/plain": [
       "<Figure size 432x288 with 1 Axes>"
      ]
     },
     "metadata": {
      "needs_background": "light"
     },
     "output_type": "display_data"
    },
    {
     "name": "stdout",
     "output_type": "stream",
     "text": [
      "None\n"
     ]
    }
   ],
   "source": [
    "x_values = Northern_hemisphere[\"Lat\"]\n",
    "y_values = Northern_hemisphere[\"Max Temp\"]\n",
    "plt.ylabel(\"Max Temp (F)\")\n",
    "print(linear_reg_plot(x_values,y_values))"
   ]
  },
  {
   "cell_type": "markdown",
   "metadata": {},
   "source": [
    "####  Southern Hemisphere - Max Temp vs. Latitude Linear Regression"
   ]
  },
  {
   "cell_type": "code",
   "execution_count": 35,
   "metadata": {},
   "outputs": [
    {
     "name": "stdout",
     "output_type": "stream",
     "text": [
      "The r-squared is: 0.6558493146439774\n"
     ]
    },
    {
     "data": {
      "image/png": "[encoded data removed]",
      "text/plain": [
       "<Figure size 432x288 with 1 Axes>"
      ]
     },
     "metadata": {
      "needs_background": "light"
     },
     "output_type": "display_data"
    },
    {
     "name": "stdout",
     "output_type": "stream",
     "text": [
      "None\n"
     ]
    }
   ],
   "source": [
    "x_values = Southern_hemisphere[\"Lat\"]\n",
    "y_values = Southern_hemisphere[\"Max Temp\"]\n",
    "plt.ylabel(\"Max Temp (F)\")\n",
    "print(linear_reg_plot(x_values,y_values))"
   ]
  },
  {
   "cell_type": "markdown",
   "metadata": {},
   "source": [
    "####  Northern Hemisphere - Humidity (%) vs. Latitude Linear Regression"
   ]
  },
  {
   "cell_type": "code",
   "execution_count": 36,
   "metadata": {},
   "outputs": [
    {
     "name": "stdout",
     "output_type": "stream",
     "text": [
      "The r-squared is: 0.07463006266114085\n"
     ]
    },
    {
     "data": {
      "image/png": "[encoded data removed]",
      "text/plain": [
       "<Figure size 432x288 with 1 Axes>"
      ]
     },
     "metadata": {
      "needs_background": "light"
     },
     "output_type": "display_data"
    },
    {
     "name": "stdout",
     "output_type": "stream",
     "text": [
      "None\n"
     ]
    }
   ],
   "source": [
    "x_values = Northern_hemisphere[\"Lat\"]\n",
    "y_values = Northern_hemisphere[\"Humidity\"]\n",
    "plt.ylabel(\"Humidity\")\n",
    "print(linear_reg_plot(x_values,y_values))"
   ]
  },
  {
   "cell_type": "markdown",
   "metadata": {},
   "source": [
    "####  Southern Hemisphere - Humidity (%) vs. Latitude Linear Regression"
   ]
  },
  {
   "cell_type": "code",
   "execution_count": 37,
   "metadata": {},
   "outputs": [
    {
     "name": "stdout",
     "output_type": "stream",
     "text": [
      "The r-squared is: 0.20959539935879168\n"
     ]
    },
    {
     "data": {
      "image/png": "[encoded data removed]",
      "text/plain": [
       "<Figure size 432x288 with 1 Axes>"
      ]
     },
     "metadata": {
      "needs_background": "light"
     },
     "output_type": "display_data"
    },
    {
     "name": "stdout",
     "output_type": "stream",
     "text": [
      "None\n"
     ]
    }
   ],
   "source": [
    "x_values = Southern_hemisphere[\"Lat\"]\n",
    "y_values = Southern_hemisphere[\"Humidity\"]\n",
    "plt.ylim(0, y_values.max()+100)\n",
    "plt.ylabel(\"Humidity\")\n",
    "print(linear_reg_plot(x_values,y_values))"
   ]
  },
  {
   "cell_type": "markdown",
   "metadata": {},
   "source": [
    "####  Northern Hemisphere - Cloudiness (%) vs. Latitude Linear Regression"
   ]
  },
  {
   "cell_type": "code",
   "execution_count": 38,
   "metadata": {},
   "outputs": [
    {
     "name": "stdout",
     "output_type": "stream",
     "text": [
      "The r-squared is: 0.0789303221274852\n"
     ]
    },
    {
     "data": {
      "image/png": "[encoded data removed]",
      "text/plain": [
       "<Figure size 432x288 with 1 Axes>"
      ]
     },
     "metadata": {
      "needs_background": "light"
     },
     "output_type": "display_data"
    },
    {
     "name": "stdout",
     "output_type": "stream",
     "text": [
      "None\n"
     ]
    }
   ],
   "source": [
    "x_values = Northern_hemisphere[\"Lat\"]\n",
    "y_values = Northern_hemisphere[\"Cloudiness\"]\n",
    "plt.ylabel(\"Cloudiness\")\n",
    "print(linear_reg_plot(x_values,y_values))"
   ]
  },
  {
   "cell_type": "markdown",
   "metadata": {},
   "source": [
    "####  Southern Hemisphere - Cloudiness (%) vs. Latitude Linear Regression"
   ]
  },
  {
   "cell_type": "code",
   "execution_count": 39,
   "metadata": {},
   "outputs": [
    {
     "name": "stdout",
     "output_type": "stream",
     "text": [
      "The r-squared is: 0.1779275186486476\n"
     ]
    },
    {
     "data": {
      "image/png": "[encoded data removed]",
      "text/plain": [
       "<Figure size 432x288 with 1 Axes>"
      ]
     },
     "metadata": {
      "needs_background": "light"
     },
     "output_type": "display_data"
    },
    {
     "name": "stdout",
     "output_type": "stream",
     "text": [
      "None\n"
     ]
    }
   ],
   "source": [
    "x_values = Southern_hemisphere[\"Lat\"]\n",
    "y_values = Southern_hemisphere[\"Cloudiness\"]\n",
    "plt.ylabel(\"Cloudiness\")\n",
    "print(linear_reg_plot(x_values,y_values))"
   ]
  },
  {
   "cell_type": "markdown",
   "metadata": {},
   "source": [
    "####  Northern Hemisphere - Wind Speed (mph) vs. Latitude Linear Regression"
   ]
  },
  {
   "cell_type": "code",
   "execution_count": 40,
   "metadata": {},
   "outputs": [
    {
     "name": "stdout",
     "output_type": "stream",
     "text": [
      "The r-squared is: 0.10876747732447581\n"
     ]
    },
    {
     "data": {
      "image/png": "[encoded data removed]",
      "text/plain": [
       "<Figure size 432x288 with 1 Axes>"
      ]
     },
     "metadata": {
      "needs_background": "light"
     },
     "output_type": "display_data"
    },
    {
     "name": "stdout",
     "output_type": "stream",
     "text": [
      "None\n"
     ]
    }
   ],
   "source": [
    "x_values = Northern_hemisphere[\"Lat\"]\n",
    "y_values = Northern_hemisphere[\"Wind Speed\"]\n",
    "plt.ylabel(\"Wind Speed\")\n",
    "print(linear_reg_plot(x_values,y_values))"
   ]
  },
  {
   "cell_type": "markdown",
   "metadata": {},
   "source": [
    "####  Southern Hemisphere - Wind Speed (mph) vs. Latitude Linear Regression"
   ]
  },
  {
   "cell_type": "code",
   "execution_count": 41,
   "metadata": {},
   "outputs": [
    {
     "name": "stdout",
     "output_type": "stream",
     "text": [
      "The r-squared is: -0.16757113523447922\n"
     ]
    },
    {
     "data": {
      "image/png": "[encoded data removed]",
      "text/plain": [
       "<Figure size 432x288 with 1 Axes>"
      ]
     },
     "metadata": {
      "needs_background": "light"
     },
     "output_type": "display_data"
    },
    {
     "name": "stdout",
     "output_type": "stream",
     "text": [
      "None\n"
     ]
    }
   ],
   "source": [
    "x_values = Southern_hemisphere[\"Lat\"]\n",
    "y_values = Southern_hemisphere[\"Wind Speed\"]\n",
    "plt.ylabel(\"Wind Speed\")\n",
    "print(linear_reg_plot(x_values,y_values))"
   ]
  },
  {
   "cell_type": "code",
   "execution_count": null,
   "metadata": {},
   "outputs": [],
   "source": []
  },
  {
   "cell_type": "code",
   "execution_count": null,
   "metadata": {},
   "outputs": [],
   "source": []
  }
 ],
 "metadata": {
  "anaconda-cloud": {},
  "kernel_info": {
   "name": "python3"
  },
  "kernelspec": {
   "display_name": "Python 3",
   "language": "python",
   "name": "python3"
  },
  "language_info": {
   "codemirror_mode": {
    "name": "ipython",
    "version": 3
   },
   "file_extension": ".py",
   "mimetype": "text/x-python",
   "name": "python",
   "nbconvert_exporter": "python",
   "pygments_lexer": "ipython3",
   "version": "3.8.5"
  },
  "latex_envs": {
   "LaTeX_envs_menu_present": true,
   "autoclose": false,
   "autocomplete": true,
   "bibliofile": "biblio.bib",
   "cite_by": "apalike",
   "current_citInitial": 1,
   "eqLabelWithNumbers": true,
   "eqNumInitial": 1,
   "hotkeys": {
    "equation": "Ctrl-E",
    "itemize": "Ctrl-I"
   },
   "labels_anchors": false,
   "latex_user_defs": false,
   "report_style_numbering": false,
   "user_envs_cfg": false
  },
  "nteract": {
   "version": "0.12.3"
  }
 },
 "nbformat": 4,
 "nbformat_minor": 2
}
