{
 "cells": [
  {
   "cell_type": "markdown",
   "metadata": {},
   "source": [
    "# WeatherPy\n",
    "----\n",
    "\n",
    "#### Note\n",
    "* Instructions have been included for each segment. You do not have to follow them exactly, but they are included to help you think through the steps."
   ]
  },
  {
   "cell_type": "code",
   "execution_count": 11,
   "metadata": {
    "scrolled": true
   },
   "outputs": [],
   "source": [
    "# Dependencies and Setup\n",
    "import matplotlib.pyplot as plt\n",
    "import pandas as pd\n",
    "import numpy as np\n",
    "import requests\n",
    "import time\n",
    "from scipy.stats import linregress\n",
    "\n",
    "# Import API key\n",
    "from api_keys import weather_api_key\n",
    "\n",
    "# Incorporated citipy to determine city based on latitude and longitude\n",
    "from citipy import citipy\n",
    "\n",
    "# Output File (CSV)\n",
    "output_data_file = \"output_data/cities.csv\"\n",
    "\n",
    "# Range of latitudes and longitudes\n",
    "lat_range = (-90, 90)\n",
    "lng_range = (-180, 180)"
   ]
  },
  {
   "cell_type": "code",
   "execution_count": 12,
   "metadata": {},
   "outputs": [
    {
     "data": {
      "text/plain": [
       "611"
      ]
     },
     "execution_count": 12,
     "metadata": {},
     "output_type": "execute_result"
    }
   ],
   "source": [
    "## Generate Cities List\n",
    "\n",
    "lat_lngs = []\n",
    "cities = []\n",
    "\n",
    "# Create a set of random lat and lng combinations\n",
    "lats = np.random.uniform(low=-90.000, high=90.000, size=1500)\n",
    "lngs = np.random.uniform(low=-180.000, high=180.000, size=1500)\n",
    "lat_lngs = zip(lats, lngs)\n",
    "\n",
    "# Identify nearest city for each lat, lng combination\n",
    "for lat_lng in lat_lngs:\n",
    "    city = citipy.nearest_city(lat_lng[0], lat_lng[1]).city_name\n",
    "    \n",
    "    # If the city is unique, then add it to a our cities list\n",
    "    if city not in cities:\n",
    "        cities.append(city)\n",
    "\n",
    "# Print the city count to confirm sufficient count\n",
    "len(cities)"
   ]
  },
  {
   "cell_type": "code",
   "execution_count": 13,
   "metadata": {},
   "outputs": [
    {
     "data": {
      "text/plain": [
       "607"
      ]
     },
     "execution_count": 13,
     "metadata": {},
     "output_type": "execute_result"
    }
   ],
   "source": [
    "# List for holding lat_lngs and cities\n",
    "lat_lngs = []\n",
    "cities = []\n",
    "\n",
    "# Create a set of random lat and lng combinations\n",
    "lats = np.random.uniform(lat_range[0], lat_range[1], size=1500)\n",
    "lngs = np.random.uniform(lng_range[0], lng_range[1], size=1500)\n",
    "lat_lngs = zip(lats, lngs)\n",
    "\n",
    "# Identify nearest city for each lat, lng combination\n",
    "for lat_lng in lat_lngs:\n",
    "    city = citipy.nearest_city(lat_lng[0], lat_lng[1]).city_name\n",
    "    \n",
    "    # If the city is unique, then add it to a our cities list\n",
    "    if city not in cities:\n",
    "        cities.append(city)\n",
    "\n",
    "# Print the city count to confirm sufficient count\n",
    "len(cities)"
   ]
  },
  {
   "cell_type": "code",
   "execution_count": null,
   "metadata": {},
   "outputs": [],
   "source": []
  },
  {
   "cell_type": "markdown",
   "metadata": {},
   "source": [
    "### Perform API Calls\n",
    "* Perform a weather check on each city using a series of successive API calls.\n",
    "* Include a print log of each city as it'sbeing processed (with the city number and city name).\n"
   ]
  },
  {
   "cell_type": "code",
   "execution_count": 14,
   "metadata": {
    "scrolled": true
   },
   "outputs": [
    {
     "name": "stdout",
     "output_type": "stream",
     "text": [
      "City not found. Skipping...\n",
      "Processing Record 1 of Set 1 : atuona\n",
      "City not found. Skipping...\n",
      "Processing Record 2 of Set 1 : barrow\n",
      "City not found. Skipping...\n",
      "Processing Record 3 of Set 1 : bredasdorp\n",
      "Processing Record 4 of Set 1 : ilulissat\n",
      "Processing Record 5 of Set 1 : dunda\n",
      "City not found. Skipping...\n",
      "Processing Record 6 of Set 1 : norman wells\n",
      "Processing Record 7 of Set 1 : vaini\n",
      "Processing Record 8 of Set 1 : provideniya\n",
      "Processing Record 9 of Set 1 : forio\n",
      "Processing Record 10 of Set 1 : vilcun\n",
      "Processing Record 11 of Set 1 : albany\n",
      "Processing Record 12 of Set 1 : dandong\n",
      "Processing Record 13 of Set 1 : kavieng\n",
      "City not found. Skipping...\n",
      "Processing Record 14 of Set 1 : lebu\n",
      "Processing Record 15 of Set 1 : ushuaia\n",
      "City not found. Skipping...\n",
      "Processing Record 16 of Set 1 : isangel\n",
      "Processing Record 17 of Set 1 : zenzeli\n",
      "Processing Record 18 of Set 1 : faanui\n",
      "Processing Record 19 of Set 1 : new norfolk\n",
      "Processing Record 20 of Set 1 : bonavista\n",
      "Processing Record 21 of Set 1 : mataura\n",
      "Processing Record 22 of Set 1 : kapaa\n",
      "Processing Record 23 of Set 1 : tautira\n",
      "Processing Record 24 of Set 1 : geraldton\n",
      "City not found. Skipping...\n",
      "Processing Record 25 of Set 1 : pueblo nuevo\n",
      "Processing Record 26 of Set 1 : rikitea\n",
      "Processing Record 27 of Set 1 : ganzhou\n",
      "Processing Record 28 of Set 1 : panorama\n",
      "Processing Record 29 of Set 1 : batagay\n",
      "Processing Record 30 of Set 1 : ralivka\n",
      "Processing Record 31 of Set 1 : cape town\n",
      "Processing Record 32 of Set 1 : kaitangata\n",
      "Processing Record 33 of Set 1 : hilo\n",
      "City not found. Skipping...\n",
      "Processing Record 34 of Set 1 : dikson\n",
      "Processing Record 35 of Set 1 : anantapur\n",
      "Processing Record 36 of Set 1 : irece\n",
      "Processing Record 37 of Set 1 : luderitz\n",
      "Processing Record 38 of Set 1 : poum\n",
      "Processing Record 39 of Set 1 : alofi\n",
      "Processing Record 40 of Set 1 : saskylakh\n",
      "Processing Record 41 of Set 1 : cherskiy\n",
      "Processing Record 42 of Set 1 : castro\n",
      "Processing Record 43 of Set 1 : floro\n",
      "Processing Record 44 of Set 1 : qaanaaq\n",
      "Processing Record 45 of Set 1 : bonfim\n",
      "Processing Record 46 of Set 1 : ribeira grande\n",
      "Processing Record 47 of Set 1 : busselton\n",
      "Processing Record 48 of Set 1 : chesma\n",
      "Processing Record 49 of Set 1 : tuktoyaktuk\n",
      "Processing Record 50 of Set 1 : esperance\n",
      "Processing Record 0 of Set 2 : ust-ishim\n",
      "Processing Record 1 of Set 2 : mehran\n",
      "Processing Record 2 of Set 2 : vuktyl\n",
      "Processing Record 3 of Set 2 : klaksvik\n",
      "Processing Record 4 of Set 2 : punta arenas\n",
      "Processing Record 5 of Set 2 : sankarpur\n",
      "Processing Record 6 of Set 2 : vardo\n",
      "Processing Record 7 of Set 2 : puerto ayora\n",
      "City not found. Skipping...\n",
      "Processing Record 8 of Set 2 : manggar\n",
      "Processing Record 9 of Set 2 : pevek\n",
      "Processing Record 10 of Set 2 : butaritari\n",
      "Processing Record 11 of Set 2 : kloulklubed\n",
      "City not found. Skipping...\n",
      "Processing Record 12 of Set 2 : menongue\n",
      "Processing Record 13 of Set 2 : kingsland\n",
      "Processing Record 14 of Set 2 : jamestown\n",
      "City not found. Skipping...\n",
      "Processing Record 15 of Set 2 : airai\n",
      "Processing Record 16 of Set 2 : booue\n",
      "Processing Record 17 of Set 2 : nouadhibou\n",
      "Processing Record 18 of Set 2 : arraial do cabo\n",
      "Processing Record 19 of Set 2 : richards bay\n",
      "Processing Record 20 of Set 2 : valdemarpils\n",
      "Processing Record 21 of Set 2 : namatanai\n",
      "Processing Record 22 of Set 2 : najran\n",
      "Processing Record 23 of Set 2 : merauke\n",
      "City not found. Skipping...\n",
      "Processing Record 24 of Set 2 : salalah\n",
      "Processing Record 25 of Set 2 : drovyanaya\n",
      "Processing Record 26 of Set 2 : miyako\n",
      "Processing Record 27 of Set 2 : swellendam\n",
      "Processing Record 28 of Set 2 : tigil\n",
      "Processing Record 29 of Set 2 : kruisfontein\n",
      "Processing Record 30 of Set 2 : belize\n",
      "Processing Record 31 of Set 2 : mar del plata\n",
      "Processing Record 32 of Set 2 : andenes\n",
      "Processing Record 33 of Set 2 : east london\n",
      "Processing Record 34 of Set 2 : ust-kuyga\n",
      "Processing Record 35 of Set 2 : lompoc\n",
      "City not found. Skipping...\n",
      "Processing Record 36 of Set 2 : raga\n",
      "Processing Record 37 of Set 2 : timra\n",
      "Processing Record 38 of Set 2 : natal\n",
      "Processing Record 39 of Set 2 : arman\n",
      "Processing Record 40 of Set 2 : sao domingos do maranhao\n",
      "Processing Record 41 of Set 2 : beringovskiy\n",
      "Processing Record 42 of Set 2 : mahenge\n",
      "Processing Record 43 of Set 2 : atar\n",
      "Processing Record 44 of Set 2 : khatanga\n",
      "Processing Record 45 of Set 2 : namibe\n",
      "Processing Record 46 of Set 2 : san quintin\n",
      "Processing Record 47 of Set 2 : beloha\n",
      "Processing Record 48 of Set 2 : san jose\n",
      "Processing Record 49 of Set 2 : nuuk\n",
      "Processing Record 50 of Set 2 : hermanus\n",
      "Processing Record 0 of Set 3 : road town\n",
      "Processing Record 1 of Set 3 : lakatoro\n",
      "Processing Record 2 of Set 3 : mount gambier\n",
      "Processing Record 3 of Set 3 : kupang\n",
      "Processing Record 4 of Set 3 : mollendo\n",
      "Processing Record 5 of Set 3 : sao joao da barra\n",
      "Processing Record 6 of Set 3 : nikolskoye\n",
      "Processing Record 7 of Set 3 : bluff\n",
      "Processing Record 8 of Set 3 : severnyy\n",
      "Processing Record 9 of Set 3 : okhotsk\n",
      "Processing Record 10 of Set 3 : port hardy\n",
      "Processing Record 11 of Set 3 : jacareacanga\n",
      "Processing Record 12 of Set 3 : carballo\n",
      "Processing Record 13 of Set 3 : san patricio\n",
      "Processing Record 14 of Set 3 : mari-turek\n",
      "Processing Record 15 of Set 3 : paamiut\n",
      "Processing Record 16 of Set 3 : yellowknife\n",
      "Processing Record 17 of Set 3 : saldanha\n",
      "Processing Record 18 of Set 3 : ninghai\n",
      "Processing Record 19 of Set 3 : tiznit\n",
      "Processing Record 20 of Set 3 : coahuayana\n",
      "Processing Record 21 of Set 3 : carnarvon\n",
      "Processing Record 22 of Set 3 : hobart\n",
      "Processing Record 23 of Set 3 : saint-joseph\n",
      "Processing Record 24 of Set 3 : skjervoy\n",
      "Processing Record 25 of Set 3 : sitka\n",
      "City not found. Skipping...\n",
      "Processing Record 26 of Set 3 : victoria\n",
      "Processing Record 27 of Set 3 : davila\n",
      "Processing Record 28 of Set 3 : vao\n",
      "Processing Record 29 of Set 3 : hithadhoo\n",
      "Processing Record 30 of Set 3 : cabo san lucas\n",
      "Processing Record 31 of Set 3 : rawson\n",
      "Processing Record 32 of Set 3 : sao jose da coroa grande\n",
      "Processing Record 33 of Set 3 : tezu\n",
      "Processing Record 34 of Set 3 : banjar\n",
      "Processing Record 35 of Set 3 : padang\n",
      "City not found. Skipping...\n",
      "Processing Record 36 of Set 3 : sterling\n",
      "Processing Record 37 of Set 3 : caravelas\n",
      "Processing Record 38 of Set 3 : palghar\n",
      "Processing Record 39 of Set 3 : hella\n",
      "Processing Record 40 of Set 3 : xining\n",
      "Processing Record 41 of Set 3 : broken hill\n",
      "Processing Record 42 of Set 3 : visby\n",
      "Processing Record 43 of Set 3 : glasgow\n",
      "Processing Record 44 of Set 3 : luoyang\n",
      "City not found. Skipping...\n",
      "Processing Record 45 of Set 3 : port elizabeth\n",
      "Processing Record 46 of Set 3 : hami\n",
      "Processing Record 47 of Set 3 : carahue\n",
      "Processing Record 48 of Set 3 : nanortalik\n",
      "Processing Record 49 of Set 3 : raudeberg\n",
      "Processing Record 50 of Set 3 : bambous virieux\n",
      "Processing Record 0 of Set 4 : longyearbyen\n",
      "Processing Record 1 of Set 4 : portage\n",
      "City not found. Skipping...\n",
      "Processing Record 2 of Set 4 : tasiilaq\n",
      "Processing Record 3 of Set 4 : upernavik\n",
      "Processing Record 4 of Set 4 : ardalstangen\n",
      "Processing Record 5 of Set 4 : ust-nera\n",
      "Processing Record 6 of Set 4 : stabat\n",
      "Processing Record 7 of Set 4 : bethel\n",
      "Processing Record 8 of Set 4 : ancud\n",
      "Processing Record 9 of Set 4 : quatre cocos\n",
      "Processing Record 10 of Set 4 : erenhot\n",
      "Processing Record 11 of Set 4 : severo-kurilsk\n",
      "Processing Record 12 of Set 4 : port alfred\n",
      "Processing Record 13 of Set 4 : inirida\n",
      "Processing Record 14 of Set 4 : georgetown\n",
      "Processing Record 15 of Set 4 : vostok\n",
      "Processing Record 16 of Set 4 : tyrma\n",
      "Processing Record 17 of Set 4 : kieta\n",
      "Processing Record 18 of Set 4 : ponta do sol\n",
      "Processing Record 19 of Set 4 : kulhudhuffushi\n",
      "City not found. Skipping...\n",
      "Processing Record 20 of Set 4 : luwuk\n",
      "Processing Record 21 of Set 4 : thompson\n",
      "Processing Record 22 of Set 4 : manoel urbano\n",
      "Processing Record 23 of Set 4 : aklavik\n",
      "Processing Record 24 of Set 4 : christchurch\n",
      "City not found. Skipping...\n",
      "Processing Record 25 of Set 4 : dudinka\n",
      "Processing Record 26 of Set 4 : bengkulu\n",
      "Processing Record 27 of Set 4 : santa maria del oro\n",
      "Processing Record 28 of Set 4 : altamira\n",
      "Processing Record 29 of Set 4 : zima\n",
      "Processing Record 30 of Set 4 : tilichiki\n",
      "Processing Record 31 of Set 4 : turukhansk\n",
      "Processing Record 32 of Set 4 : saint-pierre\n",
      "Processing Record 33 of Set 4 : aksarka\n",
      "Processing Record 34 of Set 4 : narsaq\n"
     ]
    },
    {
     "name": "stdout",
     "output_type": "stream",
     "text": [
      "Processing Record 35 of Set 4 : oktyabrskoye\n",
      "Processing Record 36 of Set 4 : cayenne\n",
      "City not found. Skipping...\n",
      "Processing Record 37 of Set 4 : tanout\n",
      "Processing Record 38 of Set 4 : saint andrews\n",
      "Processing Record 39 of Set 4 : hasaki\n",
      "Processing Record 40 of Set 4 : san policarpo\n",
      "Processing Record 41 of Set 4 : chengdu\n",
      "Processing Record 42 of Set 4 : bilibino\n",
      "Processing Record 43 of Set 4 : durazno\n",
      "City not found. Skipping...\n",
      "Processing Record 44 of Set 4 : sinegorskiy\n",
      "Processing Record 45 of Set 4 : saint-philippe\n",
      "Processing Record 46 of Set 4 : qurayyat\n",
      "Processing Record 47 of Set 4 : mountain home\n",
      "Processing Record 48 of Set 4 : porto novo\n",
      "Processing Record 49 of Set 4 : sayyan\n",
      "Processing Record 50 of Set 4 : katsuura\n",
      "Processing Record 0 of Set 5 : bud\n",
      "Processing Record 1 of Set 5 : deputatskiy\n",
      "Processing Record 2 of Set 5 : karema\n",
      "Processing Record 3 of Set 5 : mianyang\n",
      "Processing Record 4 of Set 5 : torbay\n",
      "Processing Record 5 of Set 5 : nishihara\n",
      "Processing Record 6 of Set 5 : santana\n",
      "Processing Record 7 of Set 5 : mount isa\n",
      "Processing Record 8 of Set 5 : kahului\n",
      "Processing Record 9 of Set 5 : bayonet point\n",
      "Processing Record 10 of Set 5 : constitucion\n",
      "Processing Record 11 of Set 5 : eganville\n",
      "Processing Record 12 of Set 5 : homer\n",
      "Processing Record 13 of Set 5 : bandarbeyla\n",
      "Processing Record 14 of Set 5 : goya\n",
      "Processing Record 15 of Set 5 : izhmorskiy\n",
      "Processing Record 16 of Set 5 : ugoofaaru\n",
      "Processing Record 17 of Set 5 : kofele\n",
      "Processing Record 18 of Set 5 : dingle\n",
      "Processing Record 19 of Set 5 : mekhe\n",
      "Processing Record 20 of Set 5 : yumen\n",
      "Processing Record 21 of Set 5 : kodiak\n",
      "Processing Record 22 of Set 5 : ostrovnoy\n",
      "Processing Record 23 of Set 5 : wanning\n",
      "Processing Record 24 of Set 5 : ust-tsilma\n",
      "Processing Record 25 of Set 5 : chapais\n",
      "Processing Record 26 of Set 5 : beyneu\n",
      "Processing Record 27 of Set 5 : new braunfels\n",
      "Processing Record 28 of Set 5 : tiksi\n",
      "Processing Record 29 of Set 5 : buala\n",
      "City not found. Skipping...\n",
      "Processing Record 30 of Set 5 : lagoa\n",
      "Processing Record 31 of Set 5 : mindelo\n",
      "Processing Record 32 of Set 5 : nemuro\n",
      "Processing Record 33 of Set 5 : mahebourg\n",
      "Processing Record 34 of Set 5 : tucurui\n",
      "Processing Record 35 of Set 5 : sao filipe\n",
      "Processing Record 36 of Set 5 : pitimbu\n",
      "Processing Record 37 of Set 5 : kawalu\n",
      "Processing Record 38 of Set 5 : tura\n",
      "Processing Record 39 of Set 5 : marsh harbour\n",
      "Processing Record 40 of Set 5 : sept-iles\n",
      "Processing Record 41 of Set 5 : barra dos coqueiros\n",
      "City not found. Skipping...\n",
      "Processing Record 42 of Set 5 : vila velha\n",
      "Processing Record 43 of Set 5 : yerbogachen\n",
      "Processing Record 44 of Set 5 : emet\n",
      "Processing Record 45 of Set 5 : fallon\n",
      "Processing Record 46 of Set 5 : pilar\n",
      "Processing Record 47 of Set 5 : ketchikan\n",
      "Processing Record 48 of Set 5 : asau\n",
      "City not found. Skipping...\n",
      "Processing Record 49 of Set 5 : paris\n",
      "Processing Record 50 of Set 5 : vila franca do campo\n",
      "Processing Record 0 of Set 6 : lososina\n",
      "Processing Record 1 of Set 6 : wakkanai\n",
      "Processing Record 2 of Set 6 : tuatapere\n",
      "Processing Record 3 of Set 6 : aitape\n",
      "Processing Record 4 of Set 6 : norwich\n",
      "City not found. Skipping...\n",
      "Processing Record 5 of Set 6 : rio verde de mato grosso\n",
      "Processing Record 6 of Set 6 : tessalit\n",
      "Processing Record 7 of Set 6 : brokopondo\n",
      "Processing Record 8 of Set 6 : acari\n",
      "Processing Record 9 of Set 6 : chicama\n",
      "Processing Record 10 of Set 6 : khandbari\n",
      "Processing Record 11 of Set 6 : leningradskiy\n",
      "Processing Record 12 of Set 6 : champerico\n",
      "Processing Record 13 of Set 6 : jiangmen\n",
      "Processing Record 14 of Set 6 : ewa beach\n",
      "Processing Record 15 of Set 6 : porto santo\n",
      "Processing Record 16 of Set 6 : palomares\n",
      "City not found. Skipping...\n",
      "Processing Record 17 of Set 6 : chuy\n",
      "Processing Record 18 of Set 6 : takestan\n",
      "Processing Record 19 of Set 6 : ariquemes\n",
      "Processing Record 20 of Set 6 : rio gallegos\n",
      "Processing Record 21 of Set 6 : harper\n",
      "Processing Record 22 of Set 6 : talnakh\n",
      "Processing Record 23 of Set 6 : mitzic\n",
      "Processing Record 24 of Set 6 : juneau\n",
      "Processing Record 25 of Set 6 : puerto leguizamo\n",
      "Processing Record 26 of Set 6 : omboue\n",
      "Processing Record 27 of Set 6 : mut\n",
      "Processing Record 28 of Set 6 : netanya\n",
      "Processing Record 29 of Set 6 : lorengau\n",
      "Processing Record 30 of Set 6 : priiskovyy\n",
      "Processing Record 31 of Set 6 : sarvar\n",
      "Processing Record 32 of Set 6 : gap\n",
      "Processing Record 33 of Set 6 : tazovskiy\n",
      "Processing Record 34 of Set 6 : hobyo\n",
      "City not found. Skipping...\n",
      "Processing Record 35 of Set 6 : dudhani\n",
      "Processing Record 36 of Set 6 : aquiraz\n",
      "Processing Record 37 of Set 6 : hede\n",
      "Processing Record 38 of Set 6 : chokurdakh\n",
      "City not found. Skipping...\n",
      "Processing Record 39 of Set 6 : warrnambool\n",
      "Processing Record 40 of Set 6 : petropavlovsk-kamchatskiy\n",
      "Processing Record 41 of Set 6 : fairbanks\n",
      "Processing Record 42 of Set 6 : san antonio\n",
      "Processing Record 43 of Set 6 : venice\n",
      "Processing Record 44 of Set 6 : balkanabat\n",
      "Processing Record 45 of Set 6 : alugan\n",
      "Processing Record 46 of Set 6 : arlit\n",
      "Processing Record 47 of Set 6 : darovskoy\n",
      "City not found. Skipping...\n",
      "Processing Record 48 of Set 6 : nicoya\n",
      "City not found. Skipping...\n",
      "City not found. Skipping...\n",
      "Processing Record 49 of Set 6 : kodinar\n",
      "Processing Record 50 of Set 6 : aleksandrovsk-sakhalinskiy\n",
      "Processing Record 0 of Set 7 : kirakira\n",
      "Processing Record 1 of Set 7 : miri\n",
      "City not found. Skipping...\n",
      "Processing Record 2 of Set 7 : aswan\n",
      "Processing Record 3 of Set 7 : sioux lookout\n",
      "Processing Record 4 of Set 7 : fertod\n",
      "Processing Record 5 of Set 7 : mount vernon\n",
      "Processing Record 6 of Set 7 : kyle\n",
      "Processing Record 7 of Set 7 : tabas\n",
      "Processing Record 8 of Set 7 : mahon\n",
      "Processing Record 9 of Set 7 : pasni\n",
      "Processing Record 10 of Set 7 : saint george\n",
      "Processing Record 11 of Set 7 : binzhou\n",
      "Processing Record 12 of Set 7 : yuanping\n",
      "Processing Record 13 of Set 7 : abu dhabi\n",
      "Processing Record 14 of Set 7 : mokhsogollokh\n",
      "Processing Record 15 of Set 7 : cockburn town\n",
      "Processing Record 16 of Set 7 : hagenow\n",
      "City not found. Skipping...\n",
      "Processing Record 17 of Set 7 : avarua\n",
      "Processing Record 18 of Set 7 : nenjiang\n",
      "Processing Record 19 of Set 7 : orito\n",
      "Processing Record 20 of Set 7 : oswego\n",
      "City not found. Skipping...\n",
      "Processing Record 21 of Set 7 : chipinge\n",
      "Processing Record 22 of Set 7 : lokosovo\n",
      "Processing Record 23 of Set 7 : dunedin\n",
      "Processing Record 24 of Set 7 : kamenka\n",
      "Processing Record 25 of Set 7 : belaya gora\n",
      "Processing Record 26 of Set 7 : cidreira\n",
      "City not found. Skipping...\n",
      "City not found. Skipping...\n",
      "Processing Record 27 of Set 7 : aksha\n",
      "Processing Record 28 of Set 7 : aksarayskiy\n",
      "Processing Record 29 of Set 7 : sanawad\n",
      "Processing Record 30 of Set 7 : jumla\n",
      "Processing Record 31 of Set 7 : baykit\n",
      "Processing Record 32 of Set 7 : henties bay\n",
      "Processing Record 33 of Set 7 : aripuana\n",
      "Processing Record 34 of Set 7 : fort nelson\n",
      "City not found. Skipping...\n",
      "City not found. Skipping...\n",
      "Processing Record 35 of Set 7 : iralaya\n",
      "Processing Record 36 of Set 7 : ornskoldsvik\n",
      "Processing Record 37 of Set 7 : rusape\n",
      "Processing Record 38 of Set 7 : port hawkesbury\n",
      "Processing Record 39 of Set 7 : kaoma\n",
      "Processing Record 40 of Set 7 : atambua\n",
      "Processing Record 41 of Set 7 : el rosario\n",
      "Processing Record 42 of Set 7 : chunhuhub\n",
      "Processing Record 43 of Set 7 : klyuchi\n",
      "Processing Record 44 of Set 7 : kalabo\n",
      "Processing Record 45 of Set 7 : praya\n",
      "Processing Record 46 of Set 7 : banda aceh\n",
      "Processing Record 47 of Set 7 : ayan\n",
      "Processing Record 48 of Set 7 : waitati\n",
      "Processing Record 49 of Set 7 : rocha\n",
      "Processing Record 50 of Set 7 : barao de melgaco\n",
      "Processing Record 0 of Set 8 : sibu\n",
      "Processing Record 1 of Set 8 : palmeirais\n",
      "Processing Record 2 of Set 8 : ionia\n",
      "Processing Record 3 of Set 8 : olafsvik\n",
      "Processing Record 4 of Set 8 : flinders\n",
      "Processing Record 5 of Set 8 : burnie\n",
      "Processing Record 6 of Set 8 : marzuq\n",
      "Processing Record 7 of Set 8 : tyukhtet\n",
      "Processing Record 8 of Set 8 : misratah\n",
      "Processing Record 9 of Set 8 : port blair\n",
      "Processing Record 10 of Set 8 : porbandar\n",
      "Processing Record 11 of Set 8 : bosaso\n",
      "Processing Record 12 of Set 8 : guangyuan\n",
      "City not found. Skipping...\n",
      "Processing Record 13 of Set 8 : hongjiang\n",
      "Processing Record 14 of Set 8 : altay\n",
      "Processing Record 15 of Set 8 : lengshuijiang\n",
      "Processing Record 16 of Set 8 : lavrentiya\n"
     ]
    },
    {
     "name": "stdout",
     "output_type": "stream",
     "text": [
      "Processing Record 17 of Set 8 : nyurba\n",
      "Processing Record 18 of Set 8 : fortuna\n",
      "Processing Record 19 of Set 8 : srednekolymsk\n",
      "Processing Record 20 of Set 8 : aranos\n",
      "Processing Record 21 of Set 8 : tuy hoa\n",
      "Processing Record 22 of Set 8 : salinas\n",
      "Processing Record 23 of Set 8 : hoi an\n",
      "Processing Record 24 of Set 8 : port hedland\n",
      "Processing Record 25 of Set 8 : bayir\n",
      "Processing Record 26 of Set 8 : lumsden\n",
      "Processing Record 27 of Set 8 : sakakah\n",
      "Processing Record 28 of Set 8 : santa cruz\n",
      "Processing Record 29 of Set 8 : magadi\n",
      "Processing Record 30 of Set 8 : kijang\n",
      "Processing Record 31 of Set 8 : vincennes\n",
      "Processing Record 32 of Set 8 : pisco\n",
      "Processing Record 33 of Set 8 : bulgan\n",
      "Processing Record 34 of Set 8 : fengcheng\n",
      "Processing Record 35 of Set 8 : ambunti\n",
      "City not found. Skipping...\n",
      "Processing Record 36 of Set 8 : kurilsk\n",
      "Processing Record 37 of Set 8 : maldonado\n",
      "Processing Record 38 of Set 8 : avera\n",
      "Processing Record 39 of Set 8 : kikwit\n",
      "Processing Record 40 of Set 8 : acarau\n",
      "Processing Record 41 of Set 8 : casas grandes\n",
      "Processing Record 42 of Set 8 : boras\n",
      "Processing Record 43 of Set 8 : barcelos\n",
      "Processing Record 44 of Set 8 : grand gaube\n",
      "Processing Record 45 of Set 8 : wenling\n",
      "Processing Record 46 of Set 8 : boa vista\n",
      "Processing Record 47 of Set 8 : santa maria\n",
      "Processing Record 48 of Set 8 : eureka\n",
      "City not found. Skipping...\n",
      "Processing Record 49 of Set 8 : oltu\n",
      "Processing Record 50 of Set 8 : sooke\n",
      "Processing Record 0 of Set 9 : verkhnetulomskiy\n",
      "Processing Record 1 of Set 9 : kipushi\n",
      "Processing Record 2 of Set 9 : rassvet\n",
      "Processing Record 3 of Set 9 : jerome\n",
      "Processing Record 4 of Set 9 : nuevo progreso\n",
      "Processing Record 5 of Set 9 : nijar\n",
      "Processing Record 6 of Set 9 : hagerstown\n",
      "Processing Record 7 of Set 9 : praxedis guerrero\n",
      "Processing Record 8 of Set 9 : souillac\n",
      "Processing Record 9 of Set 9 : boguchany\n",
      "Processing Record 10 of Set 9 : japura\n",
      "Processing Record 11 of Set 9 : basco\n",
      "Processing Record 12 of Set 9 : korla\n",
      "Processing Record 13 of Set 9 : nome\n",
      "Processing Record 14 of Set 9 : daru\n",
      "Processing Record 15 of Set 9 : ipixuna\n",
      "Processing Record 16 of Set 9 : darhan\n",
      "Processing Record 17 of Set 9 : buraydah\n",
      "Processing Record 18 of Set 9 : matay\n",
      "Processing Record 19 of Set 9 : berlevag\n",
      "Processing Record 20 of Set 9 : capitao poco\n",
      "Processing Record 21 of Set 9 : valparaiso\n",
      "Processing Record 22 of Set 9 : kasongo-lunda\n",
      "Processing Record 23 of Set 9 : fare\n",
      "Processing Record 24 of Set 9 : sfantu gheorghe\n",
      "Processing Record 25 of Set 9 : maningrida\n",
      "City not found. Skipping...\n",
      "Processing Record 26 of Set 9 : kantunilkin\n",
      "Processing Record 27 of Set 9 : durango\n",
      "Processing Record 28 of Set 9 : ishurdi\n",
      "Processing Record 29 of Set 9 : solnechnyy\n",
      "City not found. Skipping...\n",
      "Processing Record 30 of Set 9 : gombe\n",
      "Processing Record 31 of Set 9 : dunmore town\n",
      "Processing Record 32 of Set 9 : mae chan\n",
      "Processing Record 33 of Set 9 : hofn\n",
      "Processing Record 34 of Set 9 : meulaboh\n",
      "Processing Record 35 of Set 9 : buenos aires\n",
      "Processing Record 36 of Set 9 : tianpeng\n",
      "Processing Record 37 of Set 9 : okha\n",
      "Processing Record 38 of Set 9 : husavik\n",
      "City not found. Skipping...\n",
      "Processing Record 39 of Set 9 : dahra\n",
      "Processing Record 40 of Set 9 : alamosa\n",
      "Processing Record 41 of Set 9 : kameshkovo\n",
      "Processing Record 42 of Set 9 : la oroya\n",
      "Processing Record 43 of Set 9 : las cruces\n",
      "Processing Record 44 of Set 9 : baculin\n",
      "Processing Record 45 of Set 9 : san cristobal\n",
      "Processing Record 46 of Set 9 : vanavara\n",
      "Processing Record 47 of Set 9 : surt\n",
      "Processing Record 48 of Set 9 : itaituba\n",
      "Processing Record 49 of Set 9 : manokwari\n",
      "Processing Record 50 of Set 9 : carutapera\n",
      "Processing Record 0 of Set 10 : khandyga\n",
      "Processing Record 1 of Set 10 : fushun\n",
      "Processing Record 2 of Set 10 : villa carlos paz\n",
      "Processing Record 3 of Set 10 : yeppoon\n",
      "Processing Record 4 of Set 10 : fukue\n",
      "Processing Record 5 of Set 10 : qaqortoq\n",
      "Processing Record 6 of Set 10 : kanchanaburi\n",
      "City not found. Skipping...\n",
      "Processing Record 7 of Set 10 : pangoa\n",
      "Processing Record 8 of Set 10 : san jeronimo\n",
      "Processing Record 9 of Set 10 : rawlins\n",
      "Processing Record 10 of Set 10 : mareeba\n",
      "Processing Record 11 of Set 10 : marawi\n",
      "Processing Record 12 of Set 10 : loa janan\n",
      "Processing Record 13 of Set 10 : synya\n",
      "Processing Record 14 of Set 10 : gushikawa\n",
      "Processing Record 15 of Set 10 : kytmanovo\n",
      "Processing Record 16 of Set 10 : bredy\n",
      "Processing Record 17 of Set 10 : pangnirtung\n",
      "Processing Record 18 of Set 10 : stornoway\n",
      "Processing Record 19 of Set 10 : newberry\n",
      "Processing Record 20 of Set 10 : paragominas\n",
      "Processing Record 21 of Set 10 : apaseo el alto\n",
      "Processing Record 22 of Set 10 : bilma\n",
      "Processing Record 23 of Set 10 : sorong\n",
      "Processing Record 24 of Set 10 : neuquen\n",
      "Processing Record 25 of Set 10 : lisakovsk\n",
      "Processing Record 26 of Set 10 : komsomolskiy\n",
      "Processing Record 27 of Set 10 : posadas\n",
      "Processing Record 28 of Set 10 : dukat\n",
      "Processing Record 29 of Set 10 : bemidji\n",
      "Processing Record 30 of Set 10 : duldurga\n",
      "Processing Record 31 of Set 10 : chaozhou\n",
      "Processing Record 32 of Set 10 : gerash\n",
      "Processing Record 33 of Set 10 : biltine\n",
      "Processing Record 34 of Set 10 : necochea\n",
      "Processing Record 35 of Set 10 : morrinhos\n",
      "Processing Record 36 of Set 10 : guatire\n",
      "Processing Record 37 of Set 10 : mattru\n",
      "City not found. Skipping...\n",
      "Processing Record 38 of Set 10 : kapuskasing\n",
      "Processing Record 39 of Set 10 : kipini\n",
      "Processing Record 40 of Set 10 : jega\n",
      "Processing Record 41 of Set 10 : wufeng\n",
      "Processing Record 42 of Set 10 : manicore\n",
      "Processing Record 43 of Set 10 : vestmannaeyjar\n",
      "Processing Record 44 of Set 10 : redlands\n",
      "Processing Record 45 of Set 10 : sabya\n",
      "Processing Record 46 of Set 10 : little current\n",
      "City not found. Skipping...\n",
      "Processing Record 47 of Set 10 : inongo\n",
      "Processing Record 48 of Set 10 : mackay\n",
      "Processing Record 49 of Set 10 : newcastle\n",
      "Processing Record 50 of Set 10 : havoysund\n",
      "Processing Record 0 of Set 11 : roros\n",
      "Processing Record 1 of Set 11 : bambamarca\n",
      "Processing Record 2 of Set 11 : xam nua\n",
      "City not found. Skipping...\n",
      "Processing Record 3 of Set 11 : kandalaksha\n",
      "Processing Record 4 of Set 11 : zhigalovo\n",
      "City not found. Skipping...\n",
      "Processing Record 5 of Set 11 : ivdel\n",
      "Processing Record 6 of Set 11 : anadyr\n",
      "Processing Record 7 of Set 11 : capitan bado\n",
      "Processing Record 8 of Set 11 : coquimbo\n",
      "Processing Record 9 of Set 11 : saint anthony\n",
      "Processing Record 10 of Set 11 : pacific grove\n",
      "Processing Record 11 of Set 11 : dicabisagan\n",
      "Processing Record 12 of Set 11 : seoul\n",
      "Processing Record 13 of Set 11 : bardiyah\n",
      "Processing Record 14 of Set 11 : iquique\n",
      "Processing Record 15 of Set 11 : beroroha\n",
      "Processing Record 16 of Set 11 : kudahuvadhoo\n",
      "Processing Record 17 of Set 11 : south lake tahoe\n",
      "Processing Record 18 of Set 11 : george\n",
      "Processing Record 19 of Set 11 : codrington\n",
      "Processing Record 20 of Set 11 : sinnamary\n",
      "Processing Record 21 of Set 11 : yagoua\n",
      "Processing Record 22 of Set 11 : yaring\n",
      "Processing Record 23 of Set 11 : lamar\n",
      "Processing Record 24 of Set 11 : smithers\n",
      "Processing Record 25 of Set 11 : gold coast\n",
      "Processing Record 26 of Set 11 : imeni zhelyabova\n",
      "Processing Record 27 of Set 11 : nabire\n",
      "Processing Record 28 of Set 11 : jiangyou\n",
      "Processing Record 29 of Set 11 : bull savanna\n",
      "Processing Record 30 of Set 11 : smolenka\n",
      "Processing Record 31 of Set 11 : san vicente\n",
      "Processing Record 32 of Set 11 : russell\n",
      "Processing Record 33 of Set 11 : nanakuli\n",
      "City not found. Skipping...\n",
      "Processing Record 34 of Set 11 : kendari\n",
      "Processing Record 35 of Set 11 : kibala\n",
      "Processing Record 36 of Set 11 : huarmey\n",
      "Processing Record 37 of Set 11 : gimli\n",
      "Processing Record 38 of Set 11 : iqaluit\n",
      "Processing Record 39 of Set 11 : ardabil\n",
      "Processing Record 40 of Set 11 : mporokoso\n",
      "Processing Record 41 of Set 11 : kashary\n",
      "Processing Record 42 of Set 11 : zelenoborsk\n",
      "Processing Record 43 of Set 11 : camana\n",
      "Processing Record 44 of Set 11 : preobrazheniye\n",
      "Processing Record 45 of Set 11 : labuhan\n",
      "City not found. Skipping...\n",
      "Processing Record 46 of Set 11 : bentiu\n"
     ]
    }
   ],
   "source": [
    "city_name = []\n",
    "cloudiness_list = []\n",
    "country_list = []\n",
    "date_list = []\n",
    "humidity_list = []\n",
    "lat_list = []\n",
    "lng_list = []\n",
    "max_temp_list = []\n",
    "wind_speed_list = []\n",
    "index_counter = 0\n",
    "set_counter = 1\n",
    "\n",
    "\n",
    "base_url = \"http://api.openweathermap.org/data/2.5/weather?\"\n",
    "units = \"imperial\"\n",
    "query_url = f\"{base_url}appid={weather_api_key}&units={units}&q=\"\n",
    "\n",
    "\n",
    "# For each city name in cities list, do below things...\n",
    "for index, city in enumerate(cities, start = 1):\n",
    "    try:\n",
    "        response = requests.get(query_url + city).json()\n",
    "        city_name.append(response[\"name\"])\n",
    "        cloudiness_list.append(response[\"clouds\"][\"all\"])\n",
    "        country_list.append(response[\"sys\"][\"country\"])\n",
    "        date_list.append(response[\"dt\"])\n",
    "        humidity_list.append(response[\"main\"][\"humidity\"])\n",
    "        lat_list.append(response[\"coord\"][\"lat\"])\n",
    "        lng_list.append(response[\"coord\"][\"lon\"])\n",
    "        max_temp_list.append(response['main']['temp_max'])\n",
    "        wind_speed_list.append(response[\"wind\"][\"speed\"])\n",
    "        if index_counter > 49:\n",
    "            index_counter = 0\n",
    "            set_counter = set_counter + 1\n",
    "    \n",
    "        else:\n",
    "            index_counter = index_counter + 1\n",
    "            \n",
    "        print(f\"Processing Record {index_counter} of Set {set_counter} : {city}\") \n",
    "  \n",
    "    except(KeyError, IndexError):\n",
    "        print(\"City not found. Skipping...\")\n",
    "\n"
   ]
  },
  {
   "cell_type": "markdown",
   "metadata": {},
   "source": [
    "### Convert Raw Data to DataFrame\n",
    "* Export the city data into a .csv.\n",
    "* Display the DataFrame"
   ]
  },
  {
   "cell_type": "code",
   "execution_count": 16,
   "metadata": {},
   "outputs": [],
   "source": [
    "# Create a panda data frame using data retrieved\n",
    "weather_df = pd.DataFrame({ \n",
    "                \"City\" : city_name,\n",
    "                \"Cloudiness\" : cloudiness_list,\n",
    "                \"Country\" : country_list,\n",
    "                \"Date\" : date_list,\n",
    "                \"Humidity\" : humidity_list,\n",
    "                \"Lat\" : lat_list,\n",
    "                \"Lng\" : lng_list,\n",
    "                \"Max Temp\" : max_temp_list,\n",
    "                \"Wind Speed\" : wind_speed_list\n",
    "})\n"
   ]
  },
  {
   "cell_type": "code",
   "execution_count": 17,
   "metadata": {},
   "outputs": [
    {
     "data": {
      "text/plain": [
       "City          556\n",
       "Cloudiness    556\n",
       "Country       556\n",
       "Date          556\n",
       "Humidity      556\n",
       "Lat           556\n",
       "Lng           556\n",
       "Max Temp      556\n",
       "Wind Speed    556\n",
       "dtype: int64"
      ]
     },
     "execution_count": 17,
     "metadata": {},
     "output_type": "execute_result"
    }
   ],
   "source": [
    "# Count data\n",
    "weather_df.count()"
   ]
  },
  {
   "cell_type": "code",
   "execution_count": 23,
   "metadata": {},
   "outputs": [
    {
     "data": {
      "text/html": [
       "<div>\n",
       "<style scoped>\n",
       "    .dataframe tbody tr th:only-of-type {\n",
       "        vertical-align: middle;\n",
       "    }\n",
       "\n",
       "    .dataframe tbody tr th {\n",
       "        vertical-align: top;\n",
       "    }\n",
       "\n",
       "    .dataframe thead th {\n",
       "        text-align: right;\n",
       "    }\n",
       "</style>\n",
       "<table border=\"1\" class=\"dataframe\">\n",
       "  <thead>\n",
       "    <tr style=\"text-align: right;\">\n",
       "      <th></th>\n",
       "      <th>City</th>\n",
       "      <th>Cloudiness</th>\n",
       "      <th>Country</th>\n",
       "      <th>Date</th>\n",
       "      <th>Humidity</th>\n",
       "      <th>Lat</th>\n",
       "      <th>Lng</th>\n",
       "      <th>Max Temp</th>\n",
       "      <th>Wind Speed</th>\n",
       "    </tr>\n",
       "  </thead>\n",
       "  <tbody>\n",
       "    <tr>\n",
       "      <th>0</th>\n",
       "      <td>Hambantota</td>\n",
       "      <td>40</td>\n",
       "      <td>LK</td>\n",
       "      <td>1619896282</td>\n",
       "      <td>100</td>\n",
       "      <td>6.1241</td>\n",
       "      <td>81.1185</td>\n",
       "      <td>78.80</td>\n",
       "      <td>3.44</td>\n",
       "    </tr>\n",
       "    <tr>\n",
       "      <th>1</th>\n",
       "      <td>Panabá</td>\n",
       "      <td>6</td>\n",
       "      <td>MX</td>\n",
       "      <td>1619896282</td>\n",
       "      <td>28</td>\n",
       "      <td>21.2833</td>\n",
       "      <td>-88.2667</td>\n",
       "      <td>97.68</td>\n",
       "      <td>13.11</td>\n",
       "    </tr>\n",
       "    <tr>\n",
       "      <th>2</th>\n",
       "      <td>Pozo Colorado</td>\n",
       "      <td>0</td>\n",
       "      <td>PY</td>\n",
       "      <td>1619896283</td>\n",
       "      <td>26</td>\n",
       "      <td>-23.4923</td>\n",
       "      <td>-58.7972</td>\n",
       "      <td>90.00</td>\n",
       "      <td>6.53</td>\n",
       "    </tr>\n",
       "    <tr>\n",
       "      <th>3</th>\n",
       "      <td>Atuona</td>\n",
       "      <td>0</td>\n",
       "      <td>PF</td>\n",
       "      <td>1619896283</td>\n",
       "      <td>73</td>\n",
       "      <td>-9.8000</td>\n",
       "      <td>-139.0333</td>\n",
       "      <td>78.66</td>\n",
       "      <td>9.46</td>\n",
       "    </tr>\n",
       "    <tr>\n",
       "      <th>4</th>\n",
       "      <td>Clyde River</td>\n",
       "      <td>40</td>\n",
       "      <td>CA</td>\n",
       "      <td>1619896284</td>\n",
       "      <td>100</td>\n",
       "      <td>70.4692</td>\n",
       "      <td>-68.5914</td>\n",
       "      <td>19.40</td>\n",
       "      <td>2.42</td>\n",
       "    </tr>\n",
       "    <tr>\n",
       "      <th>...</th>\n",
       "      <td>...</td>\n",
       "      <td>...</td>\n",
       "      <td>...</td>\n",
       "      <td>...</td>\n",
       "      <td>...</td>\n",
       "      <td>...</td>\n",
       "      <td>...</td>\n",
       "      <td>...</td>\n",
       "      <td>...</td>\n",
       "    </tr>\n",
       "    <tr>\n",
       "      <th>536</th>\n",
       "      <td>Dunedin</td>\n",
       "      <td>5</td>\n",
       "      <td>NZ</td>\n",
       "      <td>1619896366</td>\n",
       "      <td>51</td>\n",
       "      <td>-45.8742</td>\n",
       "      <td>170.5036</td>\n",
       "      <td>47.57</td>\n",
       "      <td>6.91</td>\n",
       "    </tr>\n",
       "    <tr>\n",
       "      <th>537</th>\n",
       "      <td>Maceió</td>\n",
       "      <td>40</td>\n",
       "      <td>BR</td>\n",
       "      <td>1619896434</td>\n",
       "      <td>69</td>\n",
       "      <td>-9.6658</td>\n",
       "      <td>-35.7353</td>\n",
       "      <td>80.60</td>\n",
       "      <td>10.36</td>\n",
       "    </tr>\n",
       "    <tr>\n",
       "      <th>538</th>\n",
       "      <td>Laguna</td>\n",
       "      <td>1</td>\n",
       "      <td>US</td>\n",
       "      <td>1619896542</td>\n",
       "      <td>40</td>\n",
       "      <td>38.4210</td>\n",
       "      <td>-121.4238</td>\n",
       "      <td>77.00</td>\n",
       "      <td>5.75</td>\n",
       "    </tr>\n",
       "    <tr>\n",
       "      <th>539</th>\n",
       "      <td>Ferzikovo</td>\n",
       "      <td>76</td>\n",
       "      <td>RU</td>\n",
       "      <td>1619896543</td>\n",
       "      <td>70</td>\n",
       "      <td>54.5191</td>\n",
       "      <td>36.7567</td>\n",
       "      <td>42.80</td>\n",
       "      <td>5.61</td>\n",
       "    </tr>\n",
       "    <tr>\n",
       "      <th>540</th>\n",
       "      <td>Znamenskoye</td>\n",
       "      <td>3</td>\n",
       "      <td>RU</td>\n",
       "      <td>1619896543</td>\n",
       "      <td>60</td>\n",
       "      <td>57.1281</td>\n",
       "      <td>73.8282</td>\n",
       "      <td>35.60</td>\n",
       "      <td>4.81</td>\n",
       "    </tr>\n",
       "  </tbody>\n",
       "</table>\n",
       "<p>541 rows × 9 columns</p>\n",
       "</div>"
      ],
      "text/plain": [
       "              City  Cloudiness Country        Date  Humidity      Lat  \\\n",
       "0       Hambantota          40      LK  1619896282       100   6.1241   \n",
       "1           Panabá           6      MX  1619896282        28  21.2833   \n",
       "2    Pozo Colorado           0      PY  1619896283        26 -23.4923   \n",
       "3           Atuona           0      PF  1619896283        73  -9.8000   \n",
       "4      Clyde River          40      CA  1619896284       100  70.4692   \n",
       "..             ...         ...     ...         ...       ...      ...   \n",
       "536        Dunedin           5      NZ  1619896366        51 -45.8742   \n",
       "537         Maceió          40      BR  1619896434        69  -9.6658   \n",
       "538         Laguna           1      US  1619896542        40  38.4210   \n",
       "539      Ferzikovo          76      RU  1619896543        70  54.5191   \n",
       "540    Znamenskoye           3      RU  1619896543        60  57.1281   \n",
       "\n",
       "          Lng  Max Temp  Wind Speed  \n",
       "0     81.1185     78.80        3.44  \n",
       "1    -88.2667     97.68       13.11  \n",
       "2    -58.7972     90.00        6.53  \n",
       "3   -139.0333     78.66        9.46  \n",
       "4    -68.5914     19.40        2.42  \n",
       "..        ...       ...         ...  \n",
       "536  170.5036     47.57        6.91  \n",
       "537  -35.7353     80.60       10.36  \n",
       "538 -121.4238     77.00        5.75  \n",
       "539   36.7567     42.80        5.61  \n",
       "540   73.8282     35.60        4.81  \n",
       "\n",
       "[541 rows x 9 columns]"
      ]
     },
     "execution_count": 23,
     "metadata": {},
     "output_type": "execute_result"
    }
   ],
   "source": [
    "weather_df\n"
   ]
  },
  {
   "cell_type": "code",
   "execution_count": 18,
   "metadata": {
    "scrolled": true
   },
   "outputs": [
    {
     "ename": "FileNotFoundError",
     "evalue": "[Errno 2] No such file or directory: 'output_data/cities.csv'",
     "output_type": "error",
     "traceback": [
      "\u001b[1;31m---------------------------------------------------------------------------\u001b[0m",
      "\u001b[1;31mFileNotFoundError\u001b[0m                         Traceback (most recent call last)",
      "\u001b[1;32m<ipython-input-18-2edfe0159700>\u001b[0m in \u001b[0;36m<module>\u001b[1;34m\u001b[0m\n\u001b[1;32m----> 1\u001b[1;33m \u001b[0mweather_df\u001b[0m\u001b[1;33m.\u001b[0m\u001b[0mto_csv\u001b[0m\u001b[1;33m(\u001b[0m\u001b[1;34m\"output_data/cities.csv\"\u001b[0m\u001b[1;33m,\u001b[0m \u001b[0mindex\u001b[0m\u001b[1;33m=\u001b[0m\u001b[1;32mFalse\u001b[0m\u001b[1;33m)\u001b[0m\u001b[1;33m\u001b[0m\u001b[1;33m\u001b[0m\u001b[0m\n\u001b[0m",
      "\u001b[1;32m~\\Anaconda3\\lib\\site-packages\\pandas\\core\\generic.py\u001b[0m in \u001b[0;36mto_csv\u001b[1;34m(self, path_or_buf, sep, na_rep, float_format, columns, header, index, index_label, mode, encoding, compression, quoting, quotechar, line_terminator, chunksize, date_format, doublequote, escapechar, decimal, errors)\u001b[0m\n\u001b[0;32m   3168\u001b[0m             \u001b[0mdecimal\u001b[0m\u001b[1;33m=\u001b[0m\u001b[0mdecimal\u001b[0m\u001b[1;33m,\u001b[0m\u001b[1;33m\u001b[0m\u001b[1;33m\u001b[0m\u001b[0m\n\u001b[0;32m   3169\u001b[0m         )\n\u001b[1;32m-> 3170\u001b[1;33m         \u001b[0mformatter\u001b[0m\u001b[1;33m.\u001b[0m\u001b[0msave\u001b[0m\u001b[1;33m(\u001b[0m\u001b[1;33m)\u001b[0m\u001b[1;33m\u001b[0m\u001b[1;33m\u001b[0m\u001b[0m\n\u001b[0m\u001b[0;32m   3171\u001b[0m \u001b[1;33m\u001b[0m\u001b[0m\n\u001b[0;32m   3172\u001b[0m         \u001b[1;32mif\u001b[0m \u001b[0mpath_or_buf\u001b[0m \u001b[1;32mis\u001b[0m \u001b[1;32mNone\u001b[0m\u001b[1;33m:\u001b[0m\u001b[1;33m\u001b[0m\u001b[1;33m\u001b[0m\u001b[0m\n",
      "\u001b[1;32m~\\Anaconda3\\lib\\site-packages\\pandas\\io\\formats\\csvs.py\u001b[0m in \u001b[0;36msave\u001b[1;34m(self)\u001b[0m\n\u001b[0;32m    183\u001b[0m             \u001b[0mclose\u001b[0m \u001b[1;33m=\u001b[0m \u001b[1;32mFalse\u001b[0m\u001b[1;33m\u001b[0m\u001b[1;33m\u001b[0m\u001b[0m\n\u001b[0;32m    184\u001b[0m         \u001b[1;32melse\u001b[0m\u001b[1;33m:\u001b[0m\u001b[1;33m\u001b[0m\u001b[1;33m\u001b[0m\u001b[0m\n\u001b[1;32m--> 185\u001b[1;33m             f, handles = get_handle(\n\u001b[0m\u001b[0;32m    186\u001b[0m                 \u001b[0mself\u001b[0m\u001b[1;33m.\u001b[0m\u001b[0mpath_or_buf\u001b[0m\u001b[1;33m,\u001b[0m\u001b[1;33m\u001b[0m\u001b[1;33m\u001b[0m\u001b[0m\n\u001b[0;32m    187\u001b[0m                 \u001b[0mself\u001b[0m\u001b[1;33m.\u001b[0m\u001b[0mmode\u001b[0m\u001b[1;33m,\u001b[0m\u001b[1;33m\u001b[0m\u001b[1;33m\u001b[0m\u001b[0m\n",
      "\u001b[1;32m~\\Anaconda3\\lib\\site-packages\\pandas\\io\\common.py\u001b[0m in \u001b[0;36mget_handle\u001b[1;34m(path_or_buf, mode, encoding, compression, memory_map, is_text, errors)\u001b[0m\n\u001b[0;32m    491\u001b[0m         \u001b[1;32mif\u001b[0m \u001b[0mencoding\u001b[0m\u001b[1;33m:\u001b[0m\u001b[1;33m\u001b[0m\u001b[1;33m\u001b[0m\u001b[0m\n\u001b[0;32m    492\u001b[0m             \u001b[1;31m# Encoding\u001b[0m\u001b[1;33m\u001b[0m\u001b[1;33m\u001b[0m\u001b[1;33m\u001b[0m\u001b[0m\n\u001b[1;32m--> 493\u001b[1;33m             \u001b[0mf\u001b[0m \u001b[1;33m=\u001b[0m \u001b[0mopen\u001b[0m\u001b[1;33m(\u001b[0m\u001b[0mpath_or_buf\u001b[0m\u001b[1;33m,\u001b[0m \u001b[0mmode\u001b[0m\u001b[1;33m,\u001b[0m \u001b[0mencoding\u001b[0m\u001b[1;33m=\u001b[0m\u001b[0mencoding\u001b[0m\u001b[1;33m,\u001b[0m \u001b[0merrors\u001b[0m\u001b[1;33m=\u001b[0m\u001b[0merrors\u001b[0m\u001b[1;33m,\u001b[0m \u001b[0mnewline\u001b[0m\u001b[1;33m=\u001b[0m\u001b[1;34m\"\"\u001b[0m\u001b[1;33m)\u001b[0m\u001b[1;33m\u001b[0m\u001b[1;33m\u001b[0m\u001b[0m\n\u001b[0m\u001b[0;32m    494\u001b[0m         \u001b[1;32melif\u001b[0m \u001b[0mis_text\u001b[0m\u001b[1;33m:\u001b[0m\u001b[1;33m\u001b[0m\u001b[1;33m\u001b[0m\u001b[0m\n\u001b[0;32m    495\u001b[0m             \u001b[1;31m# No explicit encoding\u001b[0m\u001b[1;33m\u001b[0m\u001b[1;33m\u001b[0m\u001b[1;33m\u001b[0m\u001b[0m\n",
      "\u001b[1;31mFileNotFoundError\u001b[0m: [Errno 2] No such file or directory: 'output_data/cities.csv'"
     ]
    }
   ],
   "source": [
    "weather_df.to_csv(\"output_data/cities.csv\", index=False)"
   ]
  },
  {
   "cell_type": "code",
   "execution_count": 19,
   "metadata": {},
   "outputs": [
    {
     "data": {
      "text/html": [
       "<div>\n",
       "<style scoped>\n",
       "    .dataframe tbody tr th:only-of-type {\n",
       "        vertical-align: middle;\n",
       "    }\n",
       "\n",
       "    .dataframe tbody tr th {\n",
       "        vertical-align: top;\n",
       "    }\n",
       "\n",
       "    .dataframe thead th {\n",
       "        text-align: right;\n",
       "    }\n",
       "</style>\n",
       "<table border=\"1\" class=\"dataframe\">\n",
       "  <thead>\n",
       "    <tr style=\"text-align: right;\">\n",
       "      <th></th>\n",
       "      <th>City</th>\n",
       "      <th>Cloudiness</th>\n",
       "      <th>Country</th>\n",
       "      <th>Date</th>\n",
       "      <th>Humidity</th>\n",
       "      <th>Lat</th>\n",
       "      <th>Lng</th>\n",
       "      <th>Max Temp</th>\n",
       "      <th>Wind Speed</th>\n",
       "    </tr>\n",
       "  </thead>\n",
       "  <tbody>\n",
       "    <tr>\n",
       "      <th>0</th>\n",
       "      <td>Atuona</td>\n",
       "      <td>9</td>\n",
       "      <td>PF</td>\n",
       "      <td>1619920857</td>\n",
       "      <td>68</td>\n",
       "      <td>-9.8000</td>\n",
       "      <td>-139.0333</td>\n",
       "      <td>79.74</td>\n",
       "      <td>7.99</td>\n",
       "    </tr>\n",
       "    <tr>\n",
       "      <th>1</th>\n",
       "      <td>Barrow</td>\n",
       "      <td>90</td>\n",
       "      <td>US</td>\n",
       "      <td>1619920857</td>\n",
       "      <td>79</td>\n",
       "      <td>71.2906</td>\n",
       "      <td>-156.7887</td>\n",
       "      <td>21.20</td>\n",
       "      <td>13.80</td>\n",
       "    </tr>\n",
       "    <tr>\n",
       "      <th>2</th>\n",
       "      <td>Bredasdorp</td>\n",
       "      <td>3</td>\n",
       "      <td>ZA</td>\n",
       "      <td>1619920858</td>\n",
       "      <td>87</td>\n",
       "      <td>-34.5322</td>\n",
       "      <td>20.0403</td>\n",
       "      <td>42.80</td>\n",
       "      <td>3.94</td>\n",
       "    </tr>\n",
       "    <tr>\n",
       "      <th>3</th>\n",
       "      <td>Ilulissat</td>\n",
       "      <td>9</td>\n",
       "      <td>GL</td>\n",
       "      <td>1619920859</td>\n",
       "      <td>75</td>\n",
       "      <td>69.2167</td>\n",
       "      <td>-51.1000</td>\n",
       "      <td>35.60</td>\n",
       "      <td>4.61</td>\n",
       "    </tr>\n",
       "    <tr>\n",
       "      <th>4</th>\n",
       "      <td>Dunda</td>\n",
       "      <td>33</td>\n",
       "      <td>TZ</td>\n",
       "      <td>1619920859</td>\n",
       "      <td>96</td>\n",
       "      <td>-8.1167</td>\n",
       "      <td>34.2500</td>\n",
       "      <td>61.59</td>\n",
       "      <td>1.23</td>\n",
       "    </tr>\n",
       "  </tbody>\n",
       "</table>\n",
       "</div>"
      ],
      "text/plain": [
       "         City  Cloudiness Country        Date  Humidity      Lat       Lng  \\\n",
       "0      Atuona           9      PF  1619920857        68  -9.8000 -139.0333   \n",
       "1      Barrow          90      US  1619920857        79  71.2906 -156.7887   \n",
       "2  Bredasdorp           3      ZA  1619920858        87 -34.5322   20.0403   \n",
       "3   Ilulissat           9      GL  1619920859        75  69.2167  -51.1000   \n",
       "4       Dunda          33      TZ  1619920859        96  -8.1167   34.2500   \n",
       "\n",
       "   Max Temp  Wind Speed  \n",
       "0     79.74        7.99  \n",
       "1     21.20       13.80  \n",
       "2     42.80        3.94  \n",
       "3     35.60        4.61  \n",
       "4     61.59        1.23  "
      ]
     },
     "execution_count": 19,
     "metadata": {},
     "output_type": "execute_result"
    }
   ],
   "source": [
    "weather_df.head()\n"
   ]
  },
  {
   "cell_type": "markdown",
   "metadata": {},
   "source": [
    "## Inspect the data and remove the cities where the humidity > 100%.\n",
    "----\n",
    "Skip this step if there are no cities that have humidity > 100%. "
   ]
  },
  {
   "cell_type": "code",
   "execution_count": 20,
   "metadata": {},
   "outputs": [
    {
     "name": "stdout",
     "output_type": "stream",
     "text": [
      "By inspection, the maximum humidity value is 100%, so there are no values greater than 100% in our data!\n"
     ]
    },
    {
     "data": {
      "text/plain": [
       "count    556.000000\n",
       "mean      69.929856\n",
       "std       21.362604\n",
       "min        1.000000\n",
       "25%       59.000000\n",
       "50%       74.500000\n",
       "75%       86.000000\n",
       "max      100.000000\n",
       "Name: Humidity, dtype: float64"
      ]
     },
     "execution_count": 20,
     "metadata": {},
     "output_type": "execute_result"
    }
   ],
   "source": [
    "test_stats = weather_df[\"Humidity\"].describe(include = \"all\")\n",
    "print(\"By inspection, the maximum humidity value is 100%, so there are no values greater than 100% in our data!\")\n",
    "test_stats"
   ]
  },
  {
   "cell_type": "code",
   "execution_count": 21,
   "metadata": {},
   "outputs": [],
   "source": [
    "#  Get the indices of cities that have humidity over 100%.\n",
    "#there are no values greater than 100% in our data"
   ]
  },
  {
   "cell_type": "code",
   "execution_count": 22,
   "metadata": {},
   "outputs": [],
   "source": [
    "# Make a new DataFrame equal to the city data to drop all humidity outliers by index.\n",
    "# Passing \"inplace=False\" will make a copy of the city_data DataFrame, which we call \"clean_city_data\".\n",
    "clean_city_data = weather_df"
   ]
  },
  {
   "cell_type": "code",
   "execution_count": 23,
   "metadata": {
    "scrolled": true
   },
   "outputs": [
    {
     "data": {
      "text/html": [
       "<div>\n",
       "<style scoped>\n",
       "    .dataframe tbody tr th:only-of-type {\n",
       "        vertical-align: middle;\n",
       "    }\n",
       "\n",
       "    .dataframe tbody tr th {\n",
       "        vertical-align: top;\n",
       "    }\n",
       "\n",
       "    .dataframe thead th {\n",
       "        text-align: right;\n",
       "    }\n",
       "</style>\n",
       "<table border=\"1\" class=\"dataframe\">\n",
       "  <thead>\n",
       "    <tr style=\"text-align: right;\">\n",
       "      <th></th>\n",
       "      <th>City</th>\n",
       "      <th>Cloudiness</th>\n",
       "      <th>Country</th>\n",
       "      <th>Date</th>\n",
       "      <th>Humidity</th>\n",
       "      <th>Lat</th>\n",
       "      <th>Lng</th>\n",
       "      <th>Max Temp</th>\n",
       "      <th>Wind Speed</th>\n",
       "    </tr>\n",
       "  </thead>\n",
       "  <tbody>\n",
       "    <tr>\n",
       "      <th>0</th>\n",
       "      <td>Atuona</td>\n",
       "      <td>9</td>\n",
       "      <td>PF</td>\n",
       "      <td>1619920857</td>\n",
       "      <td>68</td>\n",
       "      <td>-9.8000</td>\n",
       "      <td>-139.0333</td>\n",
       "      <td>79.74</td>\n",
       "      <td>7.99</td>\n",
       "    </tr>\n",
       "    <tr>\n",
       "      <th>1</th>\n",
       "      <td>Barrow</td>\n",
       "      <td>90</td>\n",
       "      <td>US</td>\n",
       "      <td>1619920857</td>\n",
       "      <td>79</td>\n",
       "      <td>71.2906</td>\n",
       "      <td>-156.7887</td>\n",
       "      <td>21.20</td>\n",
       "      <td>13.80</td>\n",
       "    </tr>\n",
       "    <tr>\n",
       "      <th>2</th>\n",
       "      <td>Bredasdorp</td>\n",
       "      <td>3</td>\n",
       "      <td>ZA</td>\n",
       "      <td>1619920858</td>\n",
       "      <td>87</td>\n",
       "      <td>-34.5322</td>\n",
       "      <td>20.0403</td>\n",
       "      <td>42.80</td>\n",
       "      <td>3.94</td>\n",
       "    </tr>\n",
       "    <tr>\n",
       "      <th>3</th>\n",
       "      <td>Ilulissat</td>\n",
       "      <td>9</td>\n",
       "      <td>GL</td>\n",
       "      <td>1619920859</td>\n",
       "      <td>75</td>\n",
       "      <td>69.2167</td>\n",
       "      <td>-51.1000</td>\n",
       "      <td>35.60</td>\n",
       "      <td>4.61</td>\n",
       "    </tr>\n",
       "    <tr>\n",
       "      <th>4</th>\n",
       "      <td>Dunda</td>\n",
       "      <td>33</td>\n",
       "      <td>TZ</td>\n",
       "      <td>1619920859</td>\n",
       "      <td>96</td>\n",
       "      <td>-8.1167</td>\n",
       "      <td>34.2500</td>\n",
       "      <td>61.59</td>\n",
       "      <td>1.23</td>\n",
       "    </tr>\n",
       "    <tr>\n",
       "      <th>...</th>\n",
       "      <td>...</td>\n",
       "      <td>...</td>\n",
       "      <td>...</td>\n",
       "      <td>...</td>\n",
       "      <td>...</td>\n",
       "      <td>...</td>\n",
       "      <td>...</td>\n",
       "      <td>...</td>\n",
       "      <td>...</td>\n",
       "    </tr>\n",
       "    <tr>\n",
       "      <th>551</th>\n",
       "      <td>Zelenoborsk</td>\n",
       "      <td>100</td>\n",
       "      <td>RU</td>\n",
       "      <td>1619921106</td>\n",
       "      <td>90</td>\n",
       "      <td>61.4669</td>\n",
       "      <td>64.0333</td>\n",
       "      <td>43.99</td>\n",
       "      <td>6.96</td>\n",
       "    </tr>\n",
       "    <tr>\n",
       "      <th>552</th>\n",
       "      <td>Camaná</td>\n",
       "      <td>8</td>\n",
       "      <td>PE</td>\n",
       "      <td>1619921106</td>\n",
       "      <td>84</td>\n",
       "      <td>-16.6228</td>\n",
       "      <td>-72.7111</td>\n",
       "      <td>67.06</td>\n",
       "      <td>6.98</td>\n",
       "    </tr>\n",
       "    <tr>\n",
       "      <th>553</th>\n",
       "      <td>Preobrazheniye</td>\n",
       "      <td>2</td>\n",
       "      <td>RU</td>\n",
       "      <td>1619921106</td>\n",
       "      <td>56</td>\n",
       "      <td>42.9019</td>\n",
       "      <td>133.9064</td>\n",
       "      <td>52.63</td>\n",
       "      <td>2.24</td>\n",
       "    </tr>\n",
       "    <tr>\n",
       "      <th>554</th>\n",
       "      <td>Labuhan</td>\n",
       "      <td>86</td>\n",
       "      <td>ID</td>\n",
       "      <td>1619921107</td>\n",
       "      <td>77</td>\n",
       "      <td>-6.8844</td>\n",
       "      <td>112.2051</td>\n",
       "      <td>83.01</td>\n",
       "      <td>9.35</td>\n",
       "    </tr>\n",
       "    <tr>\n",
       "      <th>555</th>\n",
       "      <td>Bentiu</td>\n",
       "      <td>100</td>\n",
       "      <td>SS</td>\n",
       "      <td>1619921107</td>\n",
       "      <td>47</td>\n",
       "      <td>9.2333</td>\n",
       "      <td>29.8333</td>\n",
       "      <td>84.79</td>\n",
       "      <td>2.57</td>\n",
       "    </tr>\n",
       "  </tbody>\n",
       "</table>\n",
       "<p>556 rows × 9 columns</p>\n",
       "</div>"
      ],
      "text/plain": [
       "               City  Cloudiness Country        Date  Humidity      Lat  \\\n",
       "0            Atuona           9      PF  1619920857        68  -9.8000   \n",
       "1            Barrow          90      US  1619920857        79  71.2906   \n",
       "2        Bredasdorp           3      ZA  1619920858        87 -34.5322   \n",
       "3         Ilulissat           9      GL  1619920859        75  69.2167   \n",
       "4             Dunda          33      TZ  1619920859        96  -8.1167   \n",
       "..              ...         ...     ...         ...       ...      ...   \n",
       "551     Zelenoborsk         100      RU  1619921106        90  61.4669   \n",
       "552          Camaná           8      PE  1619921106        84 -16.6228   \n",
       "553  Preobrazheniye           2      RU  1619921106        56  42.9019   \n",
       "554         Labuhan          86      ID  1619921107        77  -6.8844   \n",
       "555          Bentiu         100      SS  1619921107        47   9.2333   \n",
       "\n",
       "          Lng  Max Temp  Wind Speed  \n",
       "0   -139.0333     79.74        7.99  \n",
       "1   -156.7887     21.20       13.80  \n",
       "2     20.0403     42.80        3.94  \n",
       "3    -51.1000     35.60        4.61  \n",
       "4     34.2500     61.59        1.23  \n",
       "..        ...       ...         ...  \n",
       "551   64.0333     43.99        6.96  \n",
       "552  -72.7111     67.06        6.98  \n",
       "553  133.9064     52.63        2.24  \n",
       "554  112.2051     83.01        9.35  \n",
       "555   29.8333     84.79        2.57  \n",
       "\n",
       "[556 rows x 9 columns]"
      ]
     },
     "execution_count": 23,
     "metadata": {},
     "output_type": "execute_result"
    }
   ],
   "source": [
    "\n",
    "clean_city_data"
   ]
  },
  {
   "cell_type": "markdown",
   "metadata": {},
   "source": [
    "## Plotting the Data\n",
    "* Use proper labeling of the plots using plot titles (including date of analysis) and axes labels.\n",
    "* Save the plotted figures as .pngs."
   ]
  },
  {
   "cell_type": "markdown",
   "metadata": {},
   "source": [
    "## Latitude vs. Temperature Plot"
   ]
  },
  {
   "cell_type": "code",
   "execution_count": 25,
   "metadata": {
    "scrolled": true
   },
   "outputs": [
    {
     "data": {
      "image/png": "[encoded data removed]",
      "text/plain": [
       "<Figure size 432x288 with 1 Axes>"
      ]
     },
     "metadata": {
      "needs_background": "light"
     },
     "output_type": "display_data"
    }
   ],
   "source": [
    "plt.scatter(clean_city_data[\"Lat\"], clean_city_data[\"Max Temp\"], facecolor = \"steelblue\", edgecolor = \"black\")\n",
    "\n",
    "# Set title\n",
    "plt.title(\"City Latitude vs. Max Temperature \")\n",
    "\n",
    "# Set x axis label\n",
    "plt.xlabel(\"Laitude\")\n",
    "\n",
    "# Set y axis label\n",
    "plt.ylabel(\"Max Temperature (F)\")\n",
    "\n",
    "# Set grid line\n",
    "plt.grid(linestyle='-', linewidth=1, alpha = 0.5)\n",
    "\n",
    "# Save the plotted figure as .pngs\n",
    "plt.savefig(\"../Images/City Latitude vs Max Temperature.png\")"
   ]
  },
  {
   "cell_type": "markdown",
   "metadata": {},
   "source": [
    "## Latitude vs. Humidity Plot"
   ]
  },
  {
   "cell_type": "code",
   "execution_count": 26,
   "metadata": {},
   "outputs": [
    {
     "data": {
      "image/png": "[encoded data removed]",
      "text/plain": [
       "<Figure size 432x288 with 1 Axes>"
      ]
     },
     "metadata": {
      "needs_background": "light"
     },
     "output_type": "display_data"
    }
   ],
   "source": [
    "plt.scatter(clean_city_data[\"Lat\"], clean_city_data[\"Humidity\"], color = \"steelblue\", edgecolor = \"black\")\n",
    "\n",
    "plt.title(\"City Latitude vs. Humidity\")\n",
    "plt.xlabel(\"Latitude\")\n",
    "plt.ylabel(\"Humidity\")\n",
    "plt.grid(True)\n",
    "plt.savefig(\"../Images/City Latitude vs Humidity.png\")"
   ]
  },
  {
   "cell_type": "markdown",
   "metadata": {},
   "source": [
    "## Latitude vs. Cloudiness Plot"
   ]
  },
  {
   "cell_type": "code",
   "execution_count": 27,
   "metadata": {},
   "outputs": [
    {
     "data": {
      "image/png": "[encoded data removed]",
      "text/plain": [
       "<Figure size 432x288 with 1 Axes>"
      ]
     },
     "metadata": {
      "needs_background": "light"
     },
     "output_type": "display_data"
    }
   ],
   "source": [
    "plt.scatter(clean_city_data[\"Lat\"], clean_city_data[\"Cloudiness\"], color = \"steelblue\", edgecolor = \"black\")\n",
    "\n",
    "plt.title(\"City Latitude vs. Cloudiness\")\n",
    "plt.xlabel(\"Latitude\")\n",
    "plt.ylabel(\"Cloudiness\")\n",
    "plt.grid(True)\n",
    "plt.savefig(\"../Images/City Latitude vs Cloudiness.png\")"
   ]
  },
  {
   "cell_type": "markdown",
   "metadata": {},
   "source": [
    "## Latitude vs. Wind Speed Plot"
   ]
  },
  {
   "cell_type": "code",
   "execution_count": 28,
   "metadata": {},
   "outputs": [
    {
     "data": {
      "image/png": "[encoded data removed]",
      "text/plain": [
       "<Figure size 432x288 with 1 Axes>"
      ]
     },
     "metadata": {
      "needs_background": "light"
     },
     "output_type": "display_data"
    }
   ],
   "source": [
    "#Latitude vs. Wind Speed Plot scatter plot\n",
    "plt.scatter(clean_city_data[\"Lat\"], clean_city_data[\"Wind Speed\"], color = \"steelblue\", edgecolor = \"black\")\n",
    "\n",
    "plt.title(\"City Latitude vs. Wind Speed\")\n",
    "plt.xlabel(\"Latitude\")\n",
    "plt.ylabel(\"Wind Speed\")\n",
    "plt.grid(True)\n",
    "plt.savefig(\"../Images/City Latitude vs Wind Speed.png\")"
   ]
  },
  {
   "cell_type": "markdown",
   "metadata": {},
   "source": [
    "## Linear Regression"
   ]
  },
  {
   "cell_type": "code",
   "execution_count": 44,
   "metadata": {},
   "outputs": [],
   "source": [
    "def linear_reg_plot(x_values,y_values):\n",
    "    (slope, intercept, rvalue, pvalue, stderr) = linregress(x_values, y_values)\n",
    "    regress_values = x_values * slope + intercept\n",
    "    line_eq = \"y = \" + str(round(slope,2)) + \"x + \" + str(round(intercept,2))\n",
    "    plt.scatter(x_values,y_values)\n",
    "    plt.plot(x_values,regress_values,\"r-\")\n",
    "    plt.annotate(line_eq,(x_values.median(),y_values.median()),fontsize=15,color=\"red\")\n",
    "    plt.xlabel(\"Latitude\")\n",
    "    print(f\"The r-squared is: {rvalue}\")\n",
    "    plt.show()"
   ]
  },
  {
   "cell_type": "code",
   "execution_count": 45,
   "metadata": {},
   "outputs": [],
   "source": [
    "# Create Northern and Southern Hemisphere DataFrames\n",
    "Northern_hemisphere = clean_city_data.loc[clean_city_data[\"Lat\"]>0]\n",
    "Southern_hemisphere = clean_city_data.loc[clean_city_data[\"Lat\"]<0]"
   ]
  },
  {
   "cell_type": "markdown",
   "metadata": {},
   "source": [
    "####  Northern Hemisphere - Max Temp vs. Latitude Linear Regression"
   ]
  },
  {
   "cell_type": "code",
   "execution_count": 48,
   "metadata": {},
   "outputs": [
    {
     "name": "stdout",
     "output_type": "stream",
     "text": [
      "The r-squared is: -0.9020533514683723\n"
     ]
    },
    {
     "data": {
      "image/png": "[encoded data removed]",
      "text/plain": [
       "<Figure size 432x288 with 1 Axes>"
      ]
     },
     "metadata": {
      "needs_background": "light"
     },
     "output_type": "display_data"
    },
    {
     "name": "stdout",
     "output_type": "stream",
     "text": [
      "None\n"
     ]
    }
   ],
   "source": [
    "x_values = Northern_hemisphere[\"Lat\"]\n",
    "y_values = Northern_hemisphere[\"Max Temp\"]\n",
    "plt.ylabel(\"Max Temp (F)\")\n",
    "print(linear_reg_plot(x_values,y_values))"
   ]
  },
  {
   "cell_type": "markdown",
   "metadata": {},
   "source": [
    "####  Southern Hemisphere - Max Temp vs. Latitude Linear Regression"
   ]
  },
  {
   "cell_type": "code",
   "execution_count": 49,
   "metadata": {},
   "outputs": [
    {
     "name": "stdout",
     "output_type": "stream",
     "text": [
      "The r-squared is: 0.6485208281300122\n"
     ]
    },
    {
     "data": {
      "image/png": "[encoded data removed]",
      "text/plain": [
       "<Figure size 432x288 with 1 Axes>"
      ]
     },
     "metadata": {
      "needs_background": "light"
     },
     "output_type": "display_data"
    },
    {
     "name": "stdout",
     "output_type": "stream",
     "text": [
      "None\n"
     ]
    }
   ],
   "source": [
    "x_values = Southern_hemisphere[\"Lat\"]\n",
    "y_values = Southern_hemisphere[\"Max Temp\"]\n",
    "plt.ylabel(\"Max Temp (F)\")\n",
    "print(linear_reg_plot(x_values,y_values))"
   ]
  },
  {
   "cell_type": "markdown",
   "metadata": {},
   "source": [
    "####  Northern Hemisphere - Humidity (%) vs. Latitude Linear Regression"
   ]
  },
  {
   "cell_type": "code",
   "execution_count": 50,
   "metadata": {},
   "outputs": [
    {
     "name": "stdout",
     "output_type": "stream",
     "text": [
      "The r-squared is: 0.15316908621781133\n"
     ]
    },
    {
     "data": {
      "image/png": "[encoded data removed]",
      "text/plain": [
       "<Figure size 432x288 with 1 Axes>"
      ]
     },
     "metadata": {
      "needs_background": "light"
     },
     "output_type": "display_data"
    },
    {
     "name": "stdout",
     "output_type": "stream",
     "text": [
      "None\n"
     ]
    }
   ],
   "source": [
    "x_values = Northern_hemisphere[\"Lat\"]\n",
    "y_values = Northern_hemisphere[\"Humidity\"]\n",
    "plt.ylabel(\"Humidity\")\n",
    "print(linear_reg_plot(x_values,y_values))"
   ]
  },
  {
   "cell_type": "markdown",
   "metadata": {},
   "source": [
    "####  Southern Hemisphere - Humidity (%) vs. Latitude Linear Regression"
   ]
  },
  {
   "cell_type": "code",
   "execution_count": 51,
   "metadata": {},
   "outputs": [
    {
     "name": "stdout",
     "output_type": "stream",
     "text": [
      "The r-squared is: 0.26013308203248453\n"
     ]
    },
    {
     "data": {
      "image/png": "[encoded data removed]",
      "text/plain": [
       "<Figure size 432x288 with 1 Axes>"
      ]
     },
     "metadata": {
      "needs_background": "light"
     },
     "output_type": "display_data"
    },
    {
     "name": "stdout",
     "output_type": "stream",
     "text": [
      "None\n"
     ]
    }
   ],
   "source": [
    "x_values = Southern_hemisphere[\"Lat\"]\n",
    "y_values = Southern_hemisphere[\"Humidity\"]\n",
    "plt.ylim(0, y_values.max()+100)\n",
    "plt.ylabel(\"Humidity\")\n",
    "print(linear_reg_plot(x_values,y_values))"
   ]
  },
  {
   "cell_type": "markdown",
   "metadata": {},
   "source": [
    "####  Northern Hemisphere - Cloudiness (%) vs. Latitude Linear Regression"
   ]
  },
  {
   "cell_type": "code",
   "execution_count": 52,
   "metadata": {},
   "outputs": [
    {
     "name": "stdout",
     "output_type": "stream",
     "text": [
      "The r-squared is: 0.13202392509937522\n"
     ]
    },
    {
     "data": {
      "image/png": "[encoded data removed]",
      "text/plain": [
       "<Figure size 432x288 with 1 Axes>"
      ]
     },
     "metadata": {
      "needs_background": "light"
     },
     "output_type": "display_data"
    },
    {
     "name": "stdout",
     "output_type": "stream",
     "text": [
      "None\n"
     ]
    }
   ],
   "source": [
    "x_values = Northern_hemisphere[\"Lat\"]\n",
    "y_values = Northern_hemisphere[\"Cloudiness\"]\n",
    "plt.ylabel(\"Cloudiness\")\n",
    "print(linear_reg_plot(x_values,y_values))"
   ]
  },
  {
   "cell_type": "markdown",
   "metadata": {},
   "source": [
    "####  Southern Hemisphere - Cloudiness (%) vs. Latitude Linear Regression"
   ]
  },
  {
   "cell_type": "code",
   "execution_count": 53,
   "metadata": {},
   "outputs": [
    {
     "name": "stdout",
     "output_type": "stream",
     "text": [
      "The r-squared is: 0.32626084572651104\n"
     ]
    },
    {
     "data": {
      "image/png": "[encoded data removed]",
      "text/plain": [
       "<Figure size 432x288 with 1 Axes>"
      ]
     },
     "metadata": {
      "needs_background": "light"
     },
     "output_type": "display_data"
    },
    {
     "name": "stdout",
     "output_type": "stream",
     "text": [
      "None\n"
     ]
    }
   ],
   "source": [
    "x_values = Southern_hemisphere[\"Lat\"]\n",
    "y_values = Southern_hemisphere[\"Cloudiness\"]\n",
    "plt.ylabel(\"Cloudiness\")\n",
    "print(linear_reg_plot(x_values,y_values))"
   ]
  },
  {
   "cell_type": "markdown",
   "metadata": {},
   "source": [
    "####  Northern Hemisphere - Wind Speed (mph) vs. Latitude Linear Regression"
   ]
  },
  {
   "cell_type": "code",
   "execution_count": 54,
   "metadata": {},
   "outputs": [
    {
     "name": "stdout",
     "output_type": "stream",
     "text": [
      "The r-squared is: 0.10234646038251294\n"
     ]
    },
    {
     "data": {
      "image/png": "[encoded data removed]",
      "text/plain": [
       "<Figure size 432x288 with 1 Axes>"
      ]
     },
     "metadata": {
      "needs_background": "light"
     },
     "output_type": "display_data"
    },
    {
     "name": "stdout",
     "output_type": "stream",
     "text": [
      "None\n"
     ]
    }
   ],
   "source": [
    "x_values = Northern_hemisphere[\"Lat\"]\n",
    "y_values = Northern_hemisphere[\"Wind Speed\"]\n",
    "plt.ylabel(\"Wind Speed\")\n",
    "print(linear_reg_plot(x_values,y_values))"
   ]
  },
  {
   "cell_type": "markdown",
   "metadata": {},
   "source": [
    "####  Southern Hemisphere - Wind Speed (mph) vs. Latitude Linear Regression"
   ]
  },
  {
   "cell_type": "code",
   "execution_count": 55,
   "metadata": {},
   "outputs": [
    {
     "name": "stdout",
     "output_type": "stream",
     "text": [
      "The r-squared is: -0.3252876112802316\n"
     ]
    },
    {
     "data": {
      "image/png": "[encoded data removed]",
      "text/plain": [
       "<Figure size 432x288 with 1 Axes>"
      ]
     },
     "metadata": {
      "needs_background": "light"
     },
     "output_type": "display_data"
    },
    {
     "name": "stdout",
     "output_type": "stream",
     "text": [
      "None\n"
     ]
    }
   ],
   "source": [
    "x_values = Southern_hemisphere[\"Lat\"]\n",
    "y_values = Southern_hemisphere[\"Wind Speed\"]\n",
    "plt.ylabel(\"Wind Speed\")\n",
    "print(linear_reg_plot(x_values,y_values))"
   ]
  },
  {
   "cell_type": "code",
   "execution_count": null,
   "metadata": {},
   "outputs": [],
   "source": []
  },
  {
   "cell_type": "code",
   "execution_count": null,
   "metadata": {},
   "outputs": [],
   "source": []
  }
 ],
 "metadata": {
  "anaconda-cloud": {},
  "kernel_info": {
   "name": "python3"
  },
  "kernelspec": {
   "display_name": "Python 3",
   "language": "python",
   "name": "python3"
  },
  "language_info": {
   "codemirror_mode": {
    "name": "ipython",
    "version": 3
   },
   "file_extension": ".py",
   "mimetype": "text/x-python",
   "name": "python",
   "nbconvert_exporter": "python",
   "pygments_lexer": "ipython3",
   "version": "3.8.5"
  },
  "latex_envs": {
   "LaTeX_envs_menu_present": true,
   "autoclose": false,
   "autocomplete": true,
   "bibliofile": "biblio.bib",
   "cite_by": "apalike",
   "current_citInitial": 1,
   "eqLabelWithNumbers": true,
   "eqNumInitial": 1,
   "hotkeys": {
    "equation": "Ctrl-E",
    "itemize": "Ctrl-I"
   },
   "labels_anchors": false,
   "latex_user_defs": false,
   "report_style_numbering": false,
   "user_envs_cfg": false
  },
  "nteract": {
   "version": "0.12.3"
  }
 },
 "nbformat": 4,
 "nbformat_minor": 2
}
